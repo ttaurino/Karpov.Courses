{
  "cells": [
    {
      "cell_type": "markdown",
      "source": [
        "Продуктовый менеджер попросил проанализировать завершенные курсы онлайн-школы и ответить на следующие вопросы:\n",
        "\n",
        "1. Сколько студентов успешно завершили только один курс? (Успешная сдача = зачёт на экзамене).\n",
        "\n",
        "2. Выявить самый сложный и самый простой экзамен: курсы или экзамены в рамках курса, которые обладают самой низкой и самой высокой завершаемостью (завершаемость = кол-во успешных экзаменов / попыток сдать экзамен)\n",
        "\n",
        "3. По каждому предмету определить средний срок сдачи экзаменов (под сдачей понимается последнее успешное прохождение экзамена студентом).\n",
        "\n",
        "4. Выявить самые популярные курсы (ТОП-3) по количеству регистраций на них. А также курсы с самым большим оттоком (ТОП-3).\n",
        "\n",
        "5. Написать функцию на python, позволяющую строить когортный (семестровый) анализ. В период с начала 2013 по конец 2014 выявить семестр с самой низкой завершаемостью курсов.\n",
        "\n",
        "6. Используя python, построить RFM-кластеры студентов, где R - среднее время сдачи одного экзамена, F - завершаемость курсов, M - среднее количество баллов, получаемое за экзамен. Для каждого RFM-сегмента построить границы метрик recency, frequency и monetary для интерпретации этих кластеров."
      ],
      "metadata": {
        "id": "urVpPypYtyR7"
      }
    },
    {
      "cell_type": "code",
      "execution_count": null,
      "metadata": {
        "id": "h7TfWZYpoXR7"
      },
      "outputs": [],
      "source": [
        "import pandas as pd\n",
        "import seaborn as sns"
      ]
    },
    {
      "cell_type": "code",
      "execution_count": null,
      "metadata": {
        "id": "ZREe3JNeoXR9"
      },
      "outputs": [],
      "source": [
        "assessments = pd.read_csv('/mnt/HC_Volume_18315164/home-jupyter/jupyter-s-bykov/project_1/assessments.csv')\n",
        "courses = pd.read_csv('/mnt/HC_Volume_18315164/home-jupyter/jupyter-s-bykov/project_1/courses.csv')\n",
        "studentAssessment = pd.read_csv('/mnt/HC_Volume_18315164/home-jupyter/jupyter-s-bykov/project_1/studentAssessment.csv')\n",
        "studentRegistration = pd.read_csv('/mnt/HC_Volume_18315164/home-jupyter/jupyter-s-bykov/project_1/studentRegistration.csv')"
      ]
    },
    {
      "cell_type": "markdown",
      "metadata": {
        "id": "kKggxo24oXSA"
      },
      "source": [
        "Задача 1: Сколько студентов успешно сдали только один курс?"
      ]
    },
    {
      "cell_type": "code",
      "execution_count": null,
      "metadata": {
        "scrolled": true,
        "id": "sBX3WytYoXSC",
        "outputId": "4506882a-65f3-488d-f376-303ff3280a19"
      },
      "outputs": [
        {
          "data": {
            "text/html": [
              "<div>\n",
              "<style scoped>\n",
              "    .dataframe tbody tr th:only-of-type {\n",
              "        vertical-align: middle;\n",
              "    }\n",
              "\n",
              "    .dataframe tbody tr th {\n",
              "        vertical-align: top;\n",
              "    }\n",
              "\n",
              "    .dataframe thead th {\n",
              "        text-align: right;\n",
              "    }\n",
              "</style>\n",
              "<table border=\"1\" class=\"dataframe\">\n",
              "  <thead>\n",
              "    <tr style=\"text-align: right;\">\n",
              "      <th></th>\n",
              "      <th>code_module</th>\n",
              "      <th>code_presentation</th>\n",
              "      <th>id_assessment</th>\n",
              "      <th>assessment_type</th>\n",
              "      <th>date</th>\n",
              "      <th>weight</th>\n",
              "    </tr>\n",
              "  </thead>\n",
              "  <tbody>\n",
              "    <tr>\n",
              "      <th>0</th>\n",
              "      <td>AAA</td>\n",
              "      <td>2013J</td>\n",
              "      <td>1752</td>\n",
              "      <td>TMA</td>\n",
              "      <td>19.0</td>\n",
              "      <td>10.0</td>\n",
              "    </tr>\n",
              "    <tr>\n",
              "      <th>1</th>\n",
              "      <td>AAA</td>\n",
              "      <td>2013J</td>\n",
              "      <td>1753</td>\n",
              "      <td>TMA</td>\n",
              "      <td>54.0</td>\n",
              "      <td>20.0</td>\n",
              "    </tr>\n",
              "    <tr>\n",
              "      <th>2</th>\n",
              "      <td>AAA</td>\n",
              "      <td>2013J</td>\n",
              "      <td>1754</td>\n",
              "      <td>TMA</td>\n",
              "      <td>117.0</td>\n",
              "      <td>20.0</td>\n",
              "    </tr>\n",
              "  </tbody>\n",
              "</table>\n",
              "</div>"
            ],
            "text/plain": [
              "  code_module code_presentation  id_assessment assessment_type   date  weight\n",
              "0         AAA             2013J           1752             TMA   19.0    10.0\n",
              "1         AAA             2013J           1753             TMA   54.0    20.0\n",
              "2         AAA             2013J           1754             TMA  117.0    20.0"
            ]
          },
          "execution_count": 8,
          "metadata": {},
          "output_type": "execute_result"
        }
      ],
      "source": [
        "assessments.head(3)\n",
        "'''\n",
        "code_module — код предмета;\n",
        "code_presentation — код семестра;\n",
        "id_assessment — код теста;\n",
        "assessment_type — тип теста: оценка преподавателя (TMA), компьютерная оценка (СМА), экзамен (Exam);\n",
        "date — дата сдачи теста. Рассчитывается как количество дней с момента начала семестра. Дата начала семестра имеет номер 0;\n",
        "weight — процентный вес теста в оценке за курс. Обычно экзамены рассматриваются отдельно и имеют вес 100%; сумма остальных оценок составляет 100%.\n",
        "'''"
      ]
    },
    {
      "cell_type": "code",
      "execution_count": null,
      "metadata": {
        "scrolled": true,
        "id": "iTORfDvboXSD",
        "outputId": "f0bb547c-4a31-423a-fcf0-d4fb4ddd0dfa"
      },
      "outputs": [
        {
          "data": {
            "text/html": [
              "<div>\n",
              "<style scoped>\n",
              "    .dataframe tbody tr th:only-of-type {\n",
              "        vertical-align: middle;\n",
              "    }\n",
              "\n",
              "    .dataframe tbody tr th {\n",
              "        vertical-align: top;\n",
              "    }\n",
              "\n",
              "    .dataframe thead th {\n",
              "        text-align: right;\n",
              "    }\n",
              "</style>\n",
              "<table border=\"1\" class=\"dataframe\">\n",
              "  <thead>\n",
              "    <tr style=\"text-align: right;\">\n",
              "      <th></th>\n",
              "      <th>code_module</th>\n",
              "      <th>id_assessment</th>\n",
              "      <th>assessment_type</th>\n",
              "      <th>code_presentation</th>\n",
              "    </tr>\n",
              "  </thead>\n",
              "  <tbody>\n",
              "    <tr>\n",
              "      <th>0</th>\n",
              "      <td>AAA</td>\n",
              "      <td>1752</td>\n",
              "      <td>TMA</td>\n",
              "      <td>1</td>\n",
              "    </tr>\n",
              "    <tr>\n",
              "      <th>1</th>\n",
              "      <td>AAA</td>\n",
              "      <td>1753</td>\n",
              "      <td>TMA</td>\n",
              "      <td>1</td>\n",
              "    </tr>\n",
              "    <tr>\n",
              "      <th>2</th>\n",
              "      <td>AAA</td>\n",
              "      <td>1754</td>\n",
              "      <td>TMA</td>\n",
              "      <td>1</td>\n",
              "    </tr>\n",
              "    <tr>\n",
              "      <th>3</th>\n",
              "      <td>AAA</td>\n",
              "      <td>1755</td>\n",
              "      <td>TMA</td>\n",
              "      <td>1</td>\n",
              "    </tr>\n",
              "    <tr>\n",
              "      <th>4</th>\n",
              "      <td>AAA</td>\n",
              "      <td>1756</td>\n",
              "      <td>TMA</td>\n",
              "      <td>1</td>\n",
              "    </tr>\n",
              "    <tr>\n",
              "      <th>...</th>\n",
              "      <td>...</td>\n",
              "      <td>...</td>\n",
              "      <td>...</td>\n",
              "      <td>...</td>\n",
              "    </tr>\n",
              "    <tr>\n",
              "      <th>201</th>\n",
              "      <td>GGG</td>\n",
              "      <td>37440</td>\n",
              "      <td>CMA</td>\n",
              "      <td>1</td>\n",
              "    </tr>\n",
              "    <tr>\n",
              "      <th>202</th>\n",
              "      <td>GGG</td>\n",
              "      <td>37441</td>\n",
              "      <td>CMA</td>\n",
              "      <td>1</td>\n",
              "    </tr>\n",
              "    <tr>\n",
              "      <th>203</th>\n",
              "      <td>GGG</td>\n",
              "      <td>37442</td>\n",
              "      <td>CMA</td>\n",
              "      <td>1</td>\n",
              "    </tr>\n",
              "    <tr>\n",
              "      <th>204</th>\n",
              "      <td>GGG</td>\n",
              "      <td>37443</td>\n",
              "      <td>CMA</td>\n",
              "      <td>1</td>\n",
              "    </tr>\n",
              "    <tr>\n",
              "      <th>205</th>\n",
              "      <td>GGG</td>\n",
              "      <td>37444</td>\n",
              "      <td>Exam</td>\n",
              "      <td>1</td>\n",
              "    </tr>\n",
              "  </tbody>\n",
              "</table>\n",
              "<p>206 rows × 4 columns</p>\n",
              "</div>"
            ],
            "text/plain": [
              "    code_module  id_assessment assessment_type  code_presentation\n",
              "0           AAA           1752             TMA                  1\n",
              "1           AAA           1753             TMA                  1\n",
              "2           AAA           1754             TMA                  1\n",
              "3           AAA           1755             TMA                  1\n",
              "4           AAA           1756             TMA                  1\n",
              "..          ...            ...             ...                ...\n",
              "201         GGG          37440             CMA                  1\n",
              "202         GGG          37441             CMA                  1\n",
              "203         GGG          37442             CMA                  1\n",
              "204         GGG          37443             CMA                  1\n",
              "205         GGG          37444            Exam                  1\n",
              "\n",
              "[206 rows x 4 columns]"
            ]
          },
          "execution_count": 10,
          "metadata": {},
          "output_type": "execute_result"
        }
      ],
      "source": [
        "assessments.groupby(['code_module','id_assessment', 'assessment_type'], as_index = False ) \\\n",
        "           .agg({'code_presentation':'count'})"
      ]
    },
    {
      "cell_type": "code",
      "execution_count": null,
      "metadata": {
        "id": "9nNcqv4yoXSD",
        "outputId": "dc320a49-843a-44b7-b777-dd1b4ec98406"
      },
      "outputs": [
        {
          "data": {
            "text/html": [
              "<div>\n",
              "<style scoped>\n",
              "    .dataframe tbody tr th:only-of-type {\n",
              "        vertical-align: middle;\n",
              "    }\n",
              "\n",
              "    .dataframe tbody tr th {\n",
              "        vertical-align: top;\n",
              "    }\n",
              "\n",
              "    .dataframe thead th {\n",
              "        text-align: right;\n",
              "    }\n",
              "</style>\n",
              "<table border=\"1\" class=\"dataframe\">\n",
              "  <thead>\n",
              "    <tr style=\"text-align: right;\">\n",
              "      <th></th>\n",
              "      <th>code_module</th>\n",
              "      <th>code_presentation</th>\n",
              "      <th>id_assessment</th>\n",
              "      <th>assessment_type</th>\n",
              "      <th>date</th>\n",
              "      <th>weight</th>\n",
              "    </tr>\n",
              "  </thead>\n",
              "  <tbody>\n",
              "    <tr>\n",
              "      <th>0</th>\n",
              "      <td>AAA</td>\n",
              "      <td>2013J</td>\n",
              "      <td>1752</td>\n",
              "      <td>TMA</td>\n",
              "      <td>19.0</td>\n",
              "      <td>10.0</td>\n",
              "    </tr>\n",
              "    <tr>\n",
              "      <th>1</th>\n",
              "      <td>AAA</td>\n",
              "      <td>2013J</td>\n",
              "      <td>1753</td>\n",
              "      <td>TMA</td>\n",
              "      <td>54.0</td>\n",
              "      <td>20.0</td>\n",
              "    </tr>\n",
              "    <tr>\n",
              "      <th>2</th>\n",
              "      <td>AAA</td>\n",
              "      <td>2013J</td>\n",
              "      <td>1754</td>\n",
              "      <td>TMA</td>\n",
              "      <td>117.0</td>\n",
              "      <td>20.0</td>\n",
              "    </tr>\n",
              "    <tr>\n",
              "      <th>3</th>\n",
              "      <td>AAA</td>\n",
              "      <td>2013J</td>\n",
              "      <td>1755</td>\n",
              "      <td>TMA</td>\n",
              "      <td>166.0</td>\n",
              "      <td>20.0</td>\n",
              "    </tr>\n",
              "    <tr>\n",
              "      <th>4</th>\n",
              "      <td>AAA</td>\n",
              "      <td>2013J</td>\n",
              "      <td>1756</td>\n",
              "      <td>TMA</td>\n",
              "      <td>215.0</td>\n",
              "      <td>30.0</td>\n",
              "    </tr>\n",
              "    <tr>\n",
              "      <th>...</th>\n",
              "      <td>...</td>\n",
              "      <td>...</td>\n",
              "      <td>...</td>\n",
              "      <td>...</td>\n",
              "      <td>...</td>\n",
              "      <td>...</td>\n",
              "    </tr>\n",
              "    <tr>\n",
              "      <th>201</th>\n",
              "      <td>GGG</td>\n",
              "      <td>2014J</td>\n",
              "      <td>37443</td>\n",
              "      <td>CMA</td>\n",
              "      <td>229.0</td>\n",
              "      <td>0.0</td>\n",
              "    </tr>\n",
              "    <tr>\n",
              "      <th>202</th>\n",
              "      <td>GGG</td>\n",
              "      <td>2014J</td>\n",
              "      <td>37435</td>\n",
              "      <td>TMA</td>\n",
              "      <td>61.0</td>\n",
              "      <td>0.0</td>\n",
              "    </tr>\n",
              "    <tr>\n",
              "      <th>203</th>\n",
              "      <td>GGG</td>\n",
              "      <td>2014J</td>\n",
              "      <td>37436</td>\n",
              "      <td>TMA</td>\n",
              "      <td>124.0</td>\n",
              "      <td>0.0</td>\n",
              "    </tr>\n",
              "    <tr>\n",
              "      <th>204</th>\n",
              "      <td>GGG</td>\n",
              "      <td>2014J</td>\n",
              "      <td>37437</td>\n",
              "      <td>TMA</td>\n",
              "      <td>173.0</td>\n",
              "      <td>0.0</td>\n",
              "    </tr>\n",
              "    <tr>\n",
              "      <th>205</th>\n",
              "      <td>GGG</td>\n",
              "      <td>2014J</td>\n",
              "      <td>37444</td>\n",
              "      <td>Exam</td>\n",
              "      <td>229.0</td>\n",
              "      <td>100.0</td>\n",
              "    </tr>\n",
              "  </tbody>\n",
              "</table>\n",
              "<p>206 rows × 6 columns</p>\n",
              "</div>"
            ],
            "text/plain": [
              "    code_module code_presentation  id_assessment assessment_type   date  \\\n",
              "0           AAA             2013J           1752             TMA   19.0   \n",
              "1           AAA             2013J           1753             TMA   54.0   \n",
              "2           AAA             2013J           1754             TMA  117.0   \n",
              "3           AAA             2013J           1755             TMA  166.0   \n",
              "4           AAA             2013J           1756             TMA  215.0   \n",
              "..          ...               ...            ...             ...    ...   \n",
              "201         GGG             2014J          37443             CMA  229.0   \n",
              "202         GGG             2014J          37435             TMA   61.0   \n",
              "203         GGG             2014J          37436             TMA  124.0   \n",
              "204         GGG             2014J          37437             TMA  173.0   \n",
              "205         GGG             2014J          37444            Exam  229.0   \n",
              "\n",
              "     weight  \n",
              "0      10.0  \n",
              "1      20.0  \n",
              "2      20.0  \n",
              "3      20.0  \n",
              "4      30.0  \n",
              "..      ...  \n",
              "201     0.0  \n",
              "202     0.0  \n",
              "203     0.0  \n",
              "204     0.0  \n",
              "205   100.0  \n",
              "\n",
              "[206 rows x 6 columns]"
            ]
          },
          "execution_count": 11,
          "metadata": {},
          "output_type": "execute_result"
        }
      ],
      "source": [
        "assessments"
      ]
    },
    {
      "cell_type": "code",
      "execution_count": null,
      "metadata": {
        "id": "DwlXiO-BoXSD",
        "outputId": "80eeec1e-1c83-4054-ebee-dfeecb435ff0"
      },
      "outputs": [
        {
          "data": {
            "text/html": [
              "<div>\n",
              "<style scoped>\n",
              "    .dataframe tbody tr th:only-of-type {\n",
              "        vertical-align: middle;\n",
              "    }\n",
              "\n",
              "    .dataframe tbody tr th {\n",
              "        vertical-align: top;\n",
              "    }\n",
              "\n",
              "    .dataframe thead th {\n",
              "        text-align: right;\n",
              "    }\n",
              "</style>\n",
              "<table border=\"1\" class=\"dataframe\">\n",
              "  <thead>\n",
              "    <tr style=\"text-align: right;\">\n",
              "      <th></th>\n",
              "      <th>id_assessment</th>\n",
              "      <th>id_student</th>\n",
              "      <th>date_submitted</th>\n",
              "      <th>is_banked</th>\n",
              "      <th>score</th>\n",
              "    </tr>\n",
              "  </thead>\n",
              "  <tbody>\n",
              "    <tr>\n",
              "      <th>0</th>\n",
              "      <td>1752</td>\n",
              "      <td>11391</td>\n",
              "      <td>18</td>\n",
              "      <td>0</td>\n",
              "      <td>78.0</td>\n",
              "    </tr>\n",
              "    <tr>\n",
              "      <th>1</th>\n",
              "      <td>1752</td>\n",
              "      <td>28400</td>\n",
              "      <td>22</td>\n",
              "      <td>0</td>\n",
              "      <td>70.0</td>\n",
              "    </tr>\n",
              "    <tr>\n",
              "      <th>2</th>\n",
              "      <td>1752</td>\n",
              "      <td>31604</td>\n",
              "      <td>17</td>\n",
              "      <td>0</td>\n",
              "      <td>72.0</td>\n",
              "    </tr>\n",
              "    <tr>\n",
              "      <th>3</th>\n",
              "      <td>1752</td>\n",
              "      <td>32885</td>\n",
              "      <td>26</td>\n",
              "      <td>0</td>\n",
              "      <td>69.0</td>\n",
              "    </tr>\n",
              "    <tr>\n",
              "      <th>4</th>\n",
              "      <td>1752</td>\n",
              "      <td>38053</td>\n",
              "      <td>19</td>\n",
              "      <td>0</td>\n",
              "      <td>79.0</td>\n",
              "    </tr>\n",
              "    <tr>\n",
              "      <th>...</th>\n",
              "      <td>...</td>\n",
              "      <td>...</td>\n",
              "      <td>...</td>\n",
              "      <td>...</td>\n",
              "      <td>...</td>\n",
              "    </tr>\n",
              "    <tr>\n",
              "      <th>173907</th>\n",
              "      <td>37443</td>\n",
              "      <td>527538</td>\n",
              "      <td>227</td>\n",
              "      <td>0</td>\n",
              "      <td>60.0</td>\n",
              "    </tr>\n",
              "    <tr>\n",
              "      <th>173908</th>\n",
              "      <td>37443</td>\n",
              "      <td>534672</td>\n",
              "      <td>229</td>\n",
              "      <td>0</td>\n",
              "      <td>100.0</td>\n",
              "    </tr>\n",
              "    <tr>\n",
              "      <th>173909</th>\n",
              "      <td>37443</td>\n",
              "      <td>546286</td>\n",
              "      <td>215</td>\n",
              "      <td>0</td>\n",
              "      <td>80.0</td>\n",
              "    </tr>\n",
              "    <tr>\n",
              "      <th>173910</th>\n",
              "      <td>37443</td>\n",
              "      <td>546724</td>\n",
              "      <td>230</td>\n",
              "      <td>0</td>\n",
              "      <td>100.0</td>\n",
              "    </tr>\n",
              "    <tr>\n",
              "      <th>173911</th>\n",
              "      <td>37443</td>\n",
              "      <td>558486</td>\n",
              "      <td>224</td>\n",
              "      <td>0</td>\n",
              "      <td>80.0</td>\n",
              "    </tr>\n",
              "  </tbody>\n",
              "</table>\n",
              "<p>173912 rows × 5 columns</p>\n",
              "</div>"
            ],
            "text/plain": [
              "        id_assessment  id_student  date_submitted  is_banked  score\n",
              "0                1752       11391              18          0   78.0\n",
              "1                1752       28400              22          0   70.0\n",
              "2                1752       31604              17          0   72.0\n",
              "3                1752       32885              26          0   69.0\n",
              "4                1752       38053              19          0   79.0\n",
              "...               ...         ...             ...        ...    ...\n",
              "173907          37443      527538             227          0   60.0\n",
              "173908          37443      534672             229          0  100.0\n",
              "173909          37443      546286             215          0   80.0\n",
              "173910          37443      546724             230          0  100.0\n",
              "173911          37443      558486             224          0   80.0\n",
              "\n",
              "[173912 rows x 5 columns]"
            ]
          },
          "execution_count": 12,
          "metadata": {},
          "output_type": "execute_result"
        }
      ],
      "source": [
        "studentAssessment\n",
        "'''\n",
        "Если учащийся не отправляет работу на оценку, результат не записывается в таблицу.\n",
        "id_assessment — номер теста;\n",
        "id_student — номер студента;\n",
        "date_submitted — дата сдачи теста, измеряемая как количество дней с начала семестра;\n",
        "is_banked — факт перезачета теста с прошлого семестра;\n",
        "score — оценка учащегося в этом тесте (от 0 до 100). Оценка ниже 40 - неудачная сдача теста.\n",
        "'''"
      ]
    },
    {
      "cell_type": "code",
      "execution_count": null,
      "metadata": {
        "id": "eTCC4R03oXSE"
      },
      "outputs": [],
      "source": [
        "studentAssessment_full = studentAssessment.merge(assessments, on = 'id_assessment', how = 'left')"
      ]
    },
    {
      "cell_type": "code",
      "execution_count": null,
      "metadata": {
        "id": "6iqjg1xCoXSE",
        "outputId": "ce0a8d92-9047-4df8-c81c-210a000af988"
      },
      "outputs": [
        {
          "data": {
            "text/html": [
              "<div>\n",
              "<style scoped>\n",
              "    .dataframe tbody tr th:only-of-type {\n",
              "        vertical-align: middle;\n",
              "    }\n",
              "\n",
              "    .dataframe tbody tr th {\n",
              "        vertical-align: top;\n",
              "    }\n",
              "\n",
              "    .dataframe thead th {\n",
              "        text-align: right;\n",
              "    }\n",
              "</style>\n",
              "<table border=\"1\" class=\"dataframe\">\n",
              "  <thead>\n",
              "    <tr style=\"text-align: right;\">\n",
              "      <th></th>\n",
              "      <th>id_assessment</th>\n",
              "      <th>id_student</th>\n",
              "      <th>date_submitted</th>\n",
              "      <th>is_banked</th>\n",
              "      <th>score</th>\n",
              "      <th>code_module</th>\n",
              "      <th>code_presentation</th>\n",
              "      <th>assessment_type</th>\n",
              "      <th>date</th>\n",
              "      <th>weight</th>\n",
              "    </tr>\n",
              "  </thead>\n",
              "  <tbody>\n",
              "    <tr>\n",
              "      <th>0</th>\n",
              "      <td>1752</td>\n",
              "      <td>11391</td>\n",
              "      <td>18</td>\n",
              "      <td>0</td>\n",
              "      <td>78.0</td>\n",
              "      <td>AAA</td>\n",
              "      <td>2013J</td>\n",
              "      <td>TMA</td>\n",
              "      <td>19.0</td>\n",
              "      <td>10.0</td>\n",
              "    </tr>\n",
              "    <tr>\n",
              "      <th>1</th>\n",
              "      <td>1752</td>\n",
              "      <td>28400</td>\n",
              "      <td>22</td>\n",
              "      <td>0</td>\n",
              "      <td>70.0</td>\n",
              "      <td>AAA</td>\n",
              "      <td>2013J</td>\n",
              "      <td>TMA</td>\n",
              "      <td>19.0</td>\n",
              "      <td>10.0</td>\n",
              "    </tr>\n",
              "    <tr>\n",
              "      <th>2</th>\n",
              "      <td>1752</td>\n",
              "      <td>31604</td>\n",
              "      <td>17</td>\n",
              "      <td>0</td>\n",
              "      <td>72.0</td>\n",
              "      <td>AAA</td>\n",
              "      <td>2013J</td>\n",
              "      <td>TMA</td>\n",
              "      <td>19.0</td>\n",
              "      <td>10.0</td>\n",
              "    </tr>\n",
              "    <tr>\n",
              "      <th>3</th>\n",
              "      <td>1752</td>\n",
              "      <td>32885</td>\n",
              "      <td>26</td>\n",
              "      <td>0</td>\n",
              "      <td>69.0</td>\n",
              "      <td>AAA</td>\n",
              "      <td>2013J</td>\n",
              "      <td>TMA</td>\n",
              "      <td>19.0</td>\n",
              "      <td>10.0</td>\n",
              "    </tr>\n",
              "    <tr>\n",
              "      <th>4</th>\n",
              "      <td>1752</td>\n",
              "      <td>38053</td>\n",
              "      <td>19</td>\n",
              "      <td>0</td>\n",
              "      <td>79.0</td>\n",
              "      <td>AAA</td>\n",
              "      <td>2013J</td>\n",
              "      <td>TMA</td>\n",
              "      <td>19.0</td>\n",
              "      <td>10.0</td>\n",
              "    </tr>\n",
              "  </tbody>\n",
              "</table>\n",
              "</div>"
            ],
            "text/plain": [
              "   id_assessment  id_student  date_submitted  is_banked  score code_module  \\\n",
              "0           1752       11391              18          0   78.0         AAA   \n",
              "1           1752       28400              22          0   70.0         AAA   \n",
              "2           1752       31604              17          0   72.0         AAA   \n",
              "3           1752       32885              26          0   69.0         AAA   \n",
              "4           1752       38053              19          0   79.0         AAA   \n",
              "\n",
              "  code_presentation assessment_type  date  weight  \n",
              "0             2013J             TMA  19.0    10.0  \n",
              "1             2013J             TMA  19.0    10.0  \n",
              "2             2013J             TMA  19.0    10.0  \n",
              "3             2013J             TMA  19.0    10.0  \n",
              "4             2013J             TMA  19.0    10.0  "
            ]
          },
          "execution_count": 14,
          "metadata": {},
          "output_type": "execute_result"
        }
      ],
      "source": [
        "studentAssessment_full.head(5)"
      ]
    },
    {
      "cell_type": "code",
      "execution_count": null,
      "metadata": {
        "id": "zph00sqPoXSE"
      },
      "outputs": [],
      "source": [
        "# отбираем успешно сданные тесты\n",
        "studentAssessmentSuccess_full_pass = studentAssessment_full.loc[studentAssessment['score'] >= 40]"
      ]
    },
    {
      "cell_type": "code",
      "execution_count": null,
      "metadata": {
        "id": "uvIIo5t3oXSE"
      },
      "outputs": [],
      "source": [
        "# отбираем успешно сданные экзамены\n",
        "studentAssessmentSuccess_full_pass = studentAssessment_full.loc[studentAssessment_full['assessment_type'] == 'Exam']"
      ]
    },
    {
      "cell_type": "code",
      "execution_count": null,
      "metadata": {
        "scrolled": true,
        "id": "UzCbv6l7oXSE",
        "outputId": "3d65d92f-7192-45e9-bf83-39a99f8a5c39"
      },
      "outputs": [
        {
          "data": {
            "text/plain": [
              "49590"
            ]
          },
          "execution_count": 17,
          "metadata": {},
          "output_type": "execute_result"
        }
      ],
      "source": [
        "studentAssessmentSuccess_full_pass.size"
      ]
    },
    {
      "cell_type": "code",
      "execution_count": null,
      "metadata": {
        "id": "Dl5AQuEJoXSF",
        "outputId": "9654dc61-859e-4330-edc8-54892eca2924"
      },
      "outputs": [
        {
          "data": {
            "text/html": [
              "<div>\n",
              "<style scoped>\n",
              "    .dataframe tbody tr th:only-of-type {\n",
              "        vertical-align: middle;\n",
              "    }\n",
              "\n",
              "    .dataframe tbody tr th {\n",
              "        vertical-align: top;\n",
              "    }\n",
              "\n",
              "    .dataframe thead th {\n",
              "        text-align: right;\n",
              "    }\n",
              "</style>\n",
              "<table border=\"1\" class=\"dataframe\">\n",
              "  <thead>\n",
              "    <tr style=\"text-align: right;\">\n",
              "      <th></th>\n",
              "      <th>id_assessment</th>\n",
              "      <th>id_student</th>\n",
              "      <th>date_submitted</th>\n",
              "      <th>is_banked</th>\n",
              "      <th>score</th>\n",
              "      <th>code_module</th>\n",
              "      <th>code_presentation</th>\n",
              "      <th>assessment_type</th>\n",
              "      <th>date</th>\n",
              "      <th>weight</th>\n",
              "    </tr>\n",
              "  </thead>\n",
              "  <tbody>\n",
              "    <tr>\n",
              "      <th>52923</th>\n",
              "      <td>24290</td>\n",
              "      <td>558914</td>\n",
              "      <td>230</td>\n",
              "      <td>0</td>\n",
              "      <td>32.0</td>\n",
              "      <td>CCC</td>\n",
              "      <td>2014B</td>\n",
              "      <td>Exam</td>\n",
              "      <td>NaN</td>\n",
              "      <td>100.0</td>\n",
              "    </tr>\n",
              "    <tr>\n",
              "      <th>52924</th>\n",
              "      <td>24290</td>\n",
              "      <td>559706</td>\n",
              "      <td>234</td>\n",
              "      <td>0</td>\n",
              "      <td>78.0</td>\n",
              "      <td>CCC</td>\n",
              "      <td>2014B</td>\n",
              "      <td>Exam</td>\n",
              "      <td>NaN</td>\n",
              "      <td>100.0</td>\n",
              "    </tr>\n",
              "    <tr>\n",
              "      <th>52925</th>\n",
              "      <td>24290</td>\n",
              "      <td>559770</td>\n",
              "      <td>230</td>\n",
              "      <td>0</td>\n",
              "      <td>54.0</td>\n",
              "      <td>CCC</td>\n",
              "      <td>2014B</td>\n",
              "      <td>Exam</td>\n",
              "      <td>NaN</td>\n",
              "      <td>100.0</td>\n",
              "    </tr>\n",
              "  </tbody>\n",
              "</table>\n",
              "</div>"
            ],
            "text/plain": [
              "       id_assessment  id_student  date_submitted  is_banked  score  \\\n",
              "52923          24290      558914             230          0   32.0   \n",
              "52924          24290      559706             234          0   78.0   \n",
              "52925          24290      559770             230          0   54.0   \n",
              "\n",
              "      code_module code_presentation assessment_type  date  weight  \n",
              "52923         CCC             2014B            Exam   NaN   100.0  \n",
              "52924         CCC             2014B            Exam   NaN   100.0  \n",
              "52925         CCC             2014B            Exam   NaN   100.0  "
            ]
          },
          "execution_count": 18,
          "metadata": {},
          "output_type": "execute_result"
        }
      ],
      "source": [
        "studentAssessmentSuccess_full_pass.head(3)"
      ]
    },
    {
      "cell_type": "code",
      "execution_count": null,
      "metadata": {
        "id": "o9Q0lcSkoXSF"
      },
      "outputs": [],
      "source": [
        "studentAssessmentSuccess_full_pass = studentAssessmentSuccess_full_pass.groupby (['id_student'], as_index = False) \\\n",
        "                            .agg({'score':'count'}) \\\n",
        "                            .rename(columns = {'score':'tests_passed'}) \\\n",
        "                            .query('tests_passed == 1')"
      ]
    },
    {
      "cell_type": "code",
      "execution_count": null,
      "metadata": {
        "id": "QHgW89mKoXSF",
        "outputId": "eba2f5f9-1dfa-4263-e086-538e750502a7"
      },
      "outputs": [
        {
          "data": {
            "text/plain": [
              "4307"
            ]
          },
          "execution_count": 20,
          "metadata": {},
          "output_type": "execute_result"
        }
      ],
      "source": [
        "# количество студентов, сдавших только 1 экзамен\n",
        "studentAssessmentSuccess_full_pass.id_student.nunique()"
      ]
    },
    {
      "cell_type": "markdown",
      "metadata": {
        "id": "caX7pXH1oXSG"
      },
      "source": [
        "_________________________________________________________________________________________________"
      ]
    },
    {
      "cell_type": "markdown",
      "source": [
        "Задача 2: выявить самый сложный и самый простой экзамен"
      ],
      "metadata": {
        "id": "WBkKusC1zhhH"
      }
    },
    {
      "cell_type": "code",
      "execution_count": null,
      "metadata": {
        "id": "xNC9ZN1hoXSG",
        "outputId": "a04c6b52-4b9f-4075-f519-95b63104d6c7"
      },
      "outputs": [
        {
          "data": {
            "text/plain": [
              "id_assessment       188\n",
              "id_student        23369\n",
              "date_submitted      312\n",
              "is_banked             2\n",
              "score               101\n",
              "dtype: int64"
            ]
          },
          "execution_count": 22,
          "metadata": {},
          "output_type": "execute_result"
        }
      ],
      "source": [
        "studentAssessment.nunique()"
      ]
    },
    {
      "cell_type": "code",
      "execution_count": null,
      "metadata": {
        "id": "gYp9hQqCoXSG",
        "outputId": "fae3da32-8e5e-48a7-ef69-e8a4bc5c82c5"
      },
      "outputs": [
        {
          "data": {
            "text/plain": [
              "id_assessment       int64\n",
              "id_student          int64\n",
              "date_submitted      int64\n",
              "is_banked           int64\n",
              "score             float64\n",
              "dtype: object"
            ]
          },
          "execution_count": 23,
          "metadata": {},
          "output_type": "execute_result"
        }
      ],
      "source": [
        "studentAssessment.dtypes"
      ]
    },
    {
      "cell_type": "code",
      "execution_count": null,
      "metadata": {
        "id": "2AMHcLHioXSG"
      },
      "outputs": [],
      "source": [
        "# добавим столбец с признаком успешного прохождения теста; True = успешно\n",
        "studentAssessment['PassOrFail'] = studentAssessment.score >= 40"
      ]
    },
    {
      "cell_type": "code",
      "execution_count": null,
      "metadata": {
        "scrolled": true,
        "id": "zAwZ4qUOoXSH",
        "outputId": "ceea346b-838b-4e70-96fa-19b1055e4439"
      },
      "outputs": [
        {
          "data": {
            "text/html": [
              "<div>\n",
              "<style scoped>\n",
              "    .dataframe tbody tr th:only-of-type {\n",
              "        vertical-align: middle;\n",
              "    }\n",
              "\n",
              "    .dataframe tbody tr th {\n",
              "        vertical-align: top;\n",
              "    }\n",
              "\n",
              "    .dataframe thead th {\n",
              "        text-align: right;\n",
              "    }\n",
              "</style>\n",
              "<table border=\"1\" class=\"dataframe\">\n",
              "  <thead>\n",
              "    <tr style=\"text-align: right;\">\n",
              "      <th></th>\n",
              "      <th>id_assessment</th>\n",
              "      <th>id_student</th>\n",
              "      <th>date_submitted</th>\n",
              "      <th>is_banked</th>\n",
              "      <th>score</th>\n",
              "      <th>PassOrFail</th>\n",
              "    </tr>\n",
              "  </thead>\n",
              "  <tbody>\n",
              "    <tr>\n",
              "      <th>0</th>\n",
              "      <td>1752</td>\n",
              "      <td>11391</td>\n",
              "      <td>18</td>\n",
              "      <td>0</td>\n",
              "      <td>78.0</td>\n",
              "      <td>True</td>\n",
              "    </tr>\n",
              "    <tr>\n",
              "      <th>1</th>\n",
              "      <td>1752</td>\n",
              "      <td>28400</td>\n",
              "      <td>22</td>\n",
              "      <td>0</td>\n",
              "      <td>70.0</td>\n",
              "      <td>True</td>\n",
              "    </tr>\n",
              "    <tr>\n",
              "      <th>2</th>\n",
              "      <td>1752</td>\n",
              "      <td>31604</td>\n",
              "      <td>17</td>\n",
              "      <td>0</td>\n",
              "      <td>72.0</td>\n",
              "      <td>True</td>\n",
              "    </tr>\n",
              "    <tr>\n",
              "      <th>3</th>\n",
              "      <td>1752</td>\n",
              "      <td>32885</td>\n",
              "      <td>26</td>\n",
              "      <td>0</td>\n",
              "      <td>69.0</td>\n",
              "      <td>True</td>\n",
              "    </tr>\n",
              "    <tr>\n",
              "      <th>4</th>\n",
              "      <td>1752</td>\n",
              "      <td>38053</td>\n",
              "      <td>19</td>\n",
              "      <td>0</td>\n",
              "      <td>79.0</td>\n",
              "      <td>True</td>\n",
              "    </tr>\n",
              "  </tbody>\n",
              "</table>\n",
              "</div>"
            ],
            "text/plain": [
              "   id_assessment  id_student  date_submitted  is_banked  score  PassOrFail\n",
              "0           1752       11391              18          0   78.0        True\n",
              "1           1752       28400              22          0   70.0        True\n",
              "2           1752       31604              17          0   72.0        True\n",
              "3           1752       32885              26          0   69.0        True\n",
              "4           1752       38053              19          0   79.0        True"
            ]
          },
          "execution_count": 25,
          "metadata": {},
          "output_type": "execute_result"
        }
      ],
      "source": [
        "studentAssessment.head()"
      ]
    },
    {
      "cell_type": "code",
      "execution_count": null,
      "metadata": {
        "id": "DUAUX1Y_oXSH"
      },
      "outputs": [],
      "source": [
        "hardest_and_easiest_assesment =  studentAssessment.groupby(['id_assessment', 'PassOrFail'], as_index = False) \\\n",
        "                 .agg({'id_student': 'count'}) \\\n",
        "                 .rename(columns={'id_student':'number_of_attempts'}) \\\n",
        "                 .pivot(index = 'id_assessment', columns='PassOrFail', values='number_of_attempts') \\\n",
        "                 .reset_index() \\\n",
        "                 .rename(columns={False:'Usuccess',True:'Success'})"
      ]
    },
    {
      "cell_type": "code",
      "execution_count": null,
      "metadata": {
        "id": "1bHg9FoLoXSH",
        "outputId": "1ca7dfba-c181-4d87-9247-6d23afffeeaa"
      },
      "outputs": [
        {
          "data": {
            "text/html": [
              "<div>\n",
              "<style scoped>\n",
              "    .dataframe tbody tr th:only-of-type {\n",
              "        vertical-align: middle;\n",
              "    }\n",
              "\n",
              "    .dataframe tbody tr th {\n",
              "        vertical-align: top;\n",
              "    }\n",
              "\n",
              "    .dataframe thead th {\n",
              "        text-align: right;\n",
              "    }\n",
              "</style>\n",
              "<table border=\"1\" class=\"dataframe\">\n",
              "  <thead>\n",
              "    <tr style=\"text-align: right;\">\n",
              "      <th>PassOrFail</th>\n",
              "      <th>id_assessment</th>\n",
              "      <th>Usuccess</th>\n",
              "      <th>Success</th>\n",
              "    </tr>\n",
              "  </thead>\n",
              "  <tbody>\n",
              "    <tr>\n",
              "      <th>0</th>\n",
              "      <td>1752</td>\n",
              "      <td>7.0</td>\n",
              "      <td>352.0</td>\n",
              "    </tr>\n",
              "    <tr>\n",
              "      <th>1</th>\n",
              "      <td>1753</td>\n",
              "      <td>12.0</td>\n",
              "      <td>330.0</td>\n",
              "    </tr>\n",
              "    <tr>\n",
              "      <th>2</th>\n",
              "      <td>1754</td>\n",
              "      <td>6.0</td>\n",
              "      <td>325.0</td>\n",
              "    </tr>\n",
              "    <tr>\n",
              "      <th>3</th>\n",
              "      <td>1755</td>\n",
              "      <td>9.0</td>\n",
              "      <td>294.0</td>\n",
              "    </tr>\n",
              "    <tr>\n",
              "      <th>4</th>\n",
              "      <td>1756</td>\n",
              "      <td>8.0</td>\n",
              "      <td>290.0</td>\n",
              "    </tr>\n",
              "    <tr>\n",
              "      <th>...</th>\n",
              "      <td>...</td>\n",
              "      <td>...</td>\n",
              "      <td>...</td>\n",
              "    </tr>\n",
              "    <tr>\n",
              "      <th>183</th>\n",
              "      <td>37439</td>\n",
              "      <td>1.0</td>\n",
              "      <td>503.0</td>\n",
              "    </tr>\n",
              "    <tr>\n",
              "      <th>184</th>\n",
              "      <td>37440</td>\n",
              "      <td>13.0</td>\n",
              "      <td>466.0</td>\n",
              "    </tr>\n",
              "    <tr>\n",
              "      <th>185</th>\n",
              "      <td>37441</td>\n",
              "      <td>3.0</td>\n",
              "      <td>470.0</td>\n",
              "    </tr>\n",
              "    <tr>\n",
              "      <th>186</th>\n",
              "      <td>37442</td>\n",
              "      <td>20.0</td>\n",
              "      <td>396.0</td>\n",
              "    </tr>\n",
              "    <tr>\n",
              "      <th>187</th>\n",
              "      <td>37443</td>\n",
              "      <td>8.0</td>\n",
              "      <td>336.0</td>\n",
              "    </tr>\n",
              "  </tbody>\n",
              "</table>\n",
              "<p>188 rows × 3 columns</p>\n",
              "</div>"
            ],
            "text/plain": [
              "PassOrFail  id_assessment  Usuccess  Success\n",
              "0                    1752       7.0    352.0\n",
              "1                    1753      12.0    330.0\n",
              "2                    1754       6.0    325.0\n",
              "3                    1755       9.0    294.0\n",
              "4                    1756       8.0    290.0\n",
              "..                    ...       ...      ...\n",
              "183                 37439       1.0    503.0\n",
              "184                 37440      13.0    466.0\n",
              "185                 37441       3.0    470.0\n",
              "186                 37442      20.0    396.0\n",
              "187                 37443       8.0    336.0\n",
              "\n",
              "[188 rows x 3 columns]"
            ]
          },
          "execution_count": 27,
          "metadata": {},
          "output_type": "execute_result"
        }
      ],
      "source": [
        "hardest_and_easiest_assesment"
      ]
    },
    {
      "cell_type": "code",
      "execution_count": null,
      "metadata": {
        "id": "M8qCjpm5oXSH"
      },
      "outputs": [],
      "source": [
        "hardest_and_easiest_assesment['HardOrEasy'] = hardest_and_easiest_assesment.Success / ( hardest_and_easiest_assesment.Usuccess + hardest_and_easiest_assesment.Success)"
      ]
    },
    {
      "cell_type": "code",
      "execution_count": null,
      "metadata": {
        "id": "xXg8i4MLoXSH",
        "outputId": "59aa4632-3d15-45ec-d7a3-9e4f0f71aa78"
      },
      "outputs": [
        {
          "data": {
            "text/html": [
              "<div>\n",
              "<style scoped>\n",
              "    .dataframe tbody tr th:only-of-type {\n",
              "        vertical-align: middle;\n",
              "    }\n",
              "\n",
              "    .dataframe tbody tr th {\n",
              "        vertical-align: top;\n",
              "    }\n",
              "\n",
              "    .dataframe thead th {\n",
              "        text-align: right;\n",
              "    }\n",
              "</style>\n",
              "<table border=\"1\" class=\"dataframe\">\n",
              "  <thead>\n",
              "    <tr style=\"text-align: right;\">\n",
              "      <th>PassOrFail</th>\n",
              "      <th>id_assessment</th>\n",
              "      <th>Usuccess</th>\n",
              "      <th>Success</th>\n",
              "      <th>HardOrEasy</th>\n",
              "    </tr>\n",
              "  </thead>\n",
              "  <tbody>\n",
              "    <tr>\n",
              "      <th>0</th>\n",
              "      <td>1752</td>\n",
              "      <td>7.0</td>\n",
              "      <td>352.0</td>\n",
              "      <td>0.980501</td>\n",
              "    </tr>\n",
              "    <tr>\n",
              "      <th>1</th>\n",
              "      <td>1753</td>\n",
              "      <td>12.0</td>\n",
              "      <td>330.0</td>\n",
              "      <td>0.964912</td>\n",
              "    </tr>\n",
              "    <tr>\n",
              "      <th>2</th>\n",
              "      <td>1754</td>\n",
              "      <td>6.0</td>\n",
              "      <td>325.0</td>\n",
              "      <td>0.981873</td>\n",
              "    </tr>\n",
              "    <tr>\n",
              "      <th>3</th>\n",
              "      <td>1755</td>\n",
              "      <td>9.0</td>\n",
              "      <td>294.0</td>\n",
              "      <td>0.970297</td>\n",
              "    </tr>\n",
              "    <tr>\n",
              "      <th>4</th>\n",
              "      <td>1756</td>\n",
              "      <td>8.0</td>\n",
              "      <td>290.0</td>\n",
              "      <td>0.973154</td>\n",
              "    </tr>\n",
              "  </tbody>\n",
              "</table>\n",
              "</div>"
            ],
            "text/plain": [
              "PassOrFail  id_assessment  Usuccess  Success  HardOrEasy\n",
              "0                    1752       7.0    352.0    0.980501\n",
              "1                    1753      12.0    330.0    0.964912\n",
              "2                    1754       6.0    325.0    0.981873\n",
              "3                    1755       9.0    294.0    0.970297\n",
              "4                    1756       8.0    290.0    0.973154"
            ]
          },
          "execution_count": 29,
          "metadata": {},
          "output_type": "execute_result"
        }
      ],
      "source": [
        "hardest_and_easiest_assesment.head()"
      ]
    },
    {
      "cell_type": "code",
      "execution_count": null,
      "metadata": {
        "id": "PcRHZAzUoXSI",
        "outputId": "6d3b683e-9510-40c2-dcb4-c8e5cc463f35"
      },
      "outputs": [
        {
          "data": {
            "text/plain": [
              "PassOrFail\n",
              "id_assessment    34878.00000\n",
              "Usuccess             1.00000\n",
              "Success           1469.00000\n",
              "HardOrEasy           0.99932\n",
              "Name: 130, dtype: float64"
            ]
          },
          "execution_count": 30,
          "metadata": {},
          "output_type": "execute_result"
        }
      ],
      "source": [
        "# самый простой тест (высокая завершаемость)\n",
        "hardest_and_easiest_assesment.loc[hardest_and_easiest_assesment.HardOrEasy.idxmax()]"
      ]
    },
    {
      "cell_type": "code",
      "execution_count": null,
      "metadata": {
        "id": "hCkxYTN3oXSI",
        "outputId": "5c0abf7b-a697-467e-daf3-0170210bddef"
      },
      "outputs": [
        {
          "data": {
            "text/plain": [
              "PassOrFail\n",
              "id_assessment    15020.000000\n",
              "Usuccess           736.000000\n",
              "Success           1040.000000\n",
              "HardOrEasy           0.585586\n",
              "Name: 43, dtype: float64"
            ]
          },
          "execution_count": 31,
          "metadata": {},
          "output_type": "execute_result"
        }
      ],
      "source": [
        "# самый сложный тест (низкая завершаемость)\n",
        "hardest_and_easiest_assesment.loc[hardest_and_easiest_assesment.HardOrEasy.idxmin()]"
      ]
    },
    {
      "cell_type": "code",
      "execution_count": null,
      "metadata": {
        "id": "RQM8aSHqoXSI"
      },
      "outputs": [],
      "source": [
        "#  Тест 34878 самый легкий, тест 15020 самый сложный"
      ]
    },
    {
      "cell_type": "markdown",
      "metadata": {
        "id": "_LZ5bM-0oXSI"
      },
      "source": [
        "__________________________________________________________________________________"
      ]
    },
    {
      "cell_type": "markdown",
      "metadata": {
        "id": "L7TRJ6l3oXSI"
      },
      "source": [
        "Задача 3: посчитать средний срок сдачи экзаменов по каждому предмету"
      ]
    },
    {
      "cell_type": "code",
      "execution_count": null,
      "metadata": {
        "scrolled": false,
        "id": "8UzjMxcQoXSJ",
        "outputId": "6243706d-f781-4a49-89c0-fad692660ff0"
      },
      "outputs": [
        {
          "data": {
            "text/html": [
              "<div>\n",
              "<style scoped>\n",
              "    .dataframe tbody tr th:only-of-type {\n",
              "        vertical-align: middle;\n",
              "    }\n",
              "\n",
              "    .dataframe tbody tr th {\n",
              "        vertical-align: top;\n",
              "    }\n",
              "\n",
              "    .dataframe thead th {\n",
              "        text-align: right;\n",
              "    }\n",
              "</style>\n",
              "<table border=\"1\" class=\"dataframe\">\n",
              "  <thead>\n",
              "    <tr style=\"text-align: right;\">\n",
              "      <th></th>\n",
              "      <th>id_assessment</th>\n",
              "      <th>id_student</th>\n",
              "      <th>date_submitted</th>\n",
              "      <th>is_banked</th>\n",
              "      <th>score</th>\n",
              "      <th>code_module</th>\n",
              "      <th>code_presentation</th>\n",
              "      <th>assessment_type</th>\n",
              "      <th>date</th>\n",
              "      <th>weight</th>\n",
              "    </tr>\n",
              "  </thead>\n",
              "  <tbody>\n",
              "    <tr>\n",
              "      <th>0</th>\n",
              "      <td>1752</td>\n",
              "      <td>11391</td>\n",
              "      <td>18</td>\n",
              "      <td>0</td>\n",
              "      <td>78.0</td>\n",
              "      <td>AAA</td>\n",
              "      <td>2013J</td>\n",
              "      <td>TMA</td>\n",
              "      <td>19.0</td>\n",
              "      <td>10.0</td>\n",
              "    </tr>\n",
              "    <tr>\n",
              "      <th>1</th>\n",
              "      <td>1752</td>\n",
              "      <td>28400</td>\n",
              "      <td>22</td>\n",
              "      <td>0</td>\n",
              "      <td>70.0</td>\n",
              "      <td>AAA</td>\n",
              "      <td>2013J</td>\n",
              "      <td>TMA</td>\n",
              "      <td>19.0</td>\n",
              "      <td>10.0</td>\n",
              "    </tr>\n",
              "    <tr>\n",
              "      <th>2</th>\n",
              "      <td>1752</td>\n",
              "      <td>31604</td>\n",
              "      <td>17</td>\n",
              "      <td>0</td>\n",
              "      <td>72.0</td>\n",
              "      <td>AAA</td>\n",
              "      <td>2013J</td>\n",
              "      <td>TMA</td>\n",
              "      <td>19.0</td>\n",
              "      <td>10.0</td>\n",
              "    </tr>\n",
              "    <tr>\n",
              "      <th>3</th>\n",
              "      <td>1752</td>\n",
              "      <td>32885</td>\n",
              "      <td>26</td>\n",
              "      <td>0</td>\n",
              "      <td>69.0</td>\n",
              "      <td>AAA</td>\n",
              "      <td>2013J</td>\n",
              "      <td>TMA</td>\n",
              "      <td>19.0</td>\n",
              "      <td>10.0</td>\n",
              "    </tr>\n",
              "    <tr>\n",
              "      <th>4</th>\n",
              "      <td>1752</td>\n",
              "      <td>38053</td>\n",
              "      <td>19</td>\n",
              "      <td>0</td>\n",
              "      <td>79.0</td>\n",
              "      <td>AAA</td>\n",
              "      <td>2013J</td>\n",
              "      <td>TMA</td>\n",
              "      <td>19.0</td>\n",
              "      <td>10.0</td>\n",
              "    </tr>\n",
              "  </tbody>\n",
              "</table>\n",
              "</div>"
            ],
            "text/plain": [
              "   id_assessment  id_student  date_submitted  is_banked  score code_module  \\\n",
              "0           1752       11391              18          0   78.0         AAA   \n",
              "1           1752       28400              22          0   70.0         AAA   \n",
              "2           1752       31604              17          0   72.0         AAA   \n",
              "3           1752       32885              26          0   69.0         AAA   \n",
              "4           1752       38053              19          0   79.0         AAA   \n",
              "\n",
              "  code_presentation assessment_type  date  weight  \n",
              "0             2013J             TMA  19.0    10.0  \n",
              "1             2013J             TMA  19.0    10.0  \n",
              "2             2013J             TMA  19.0    10.0  \n",
              "3             2013J             TMA  19.0    10.0  \n",
              "4             2013J             TMA  19.0    10.0  "
            ]
          },
          "execution_count": 34,
          "metadata": {},
          "output_type": "execute_result"
        }
      ],
      "source": [
        "studentAssessment_full.head()"
      ]
    },
    {
      "cell_type": "code",
      "execution_count": null,
      "metadata": {
        "id": "rvr7ztlroXSN"
      },
      "outputs": [],
      "source": [
        "studentAssessment_full_last_succ = studentAssessment_full.loc[studentAssessment['score'] >= 40]"
      ]
    },
    {
      "cell_type": "code",
      "execution_count": null,
      "metadata": {
        "id": "ZRIsim2-oXSO"
      },
      "outputs": [],
      "source": [
        "studentAssessment_full_last_succ = studentAssessment_full_last_succ.loc[studentAssessment_full_last_succ['assessment_type'] == 'Exam']"
      ]
    },
    {
      "cell_type": "code",
      "execution_count": null,
      "metadata": {
        "id": "zn5d0C9woXSO",
        "outputId": "cd1dafd6-fce7-453c-cb92-ea39e3074503"
      },
      "outputs": [
        {
          "data": {
            "text/plain": [
              "array([24290, 24299, 25340, 25354, 25361, 25368])"
            ]
          },
          "execution_count": 37,
          "metadata": {},
          "output_type": "execute_result"
        }
      ],
      "source": [
        "studentAssessment_full_last_succ.id_assessment.unique()"
      ]
    },
    {
      "cell_type": "code",
      "execution_count": null,
      "metadata": {
        "scrolled": true,
        "id": "rh7VD5gPoXSO",
        "outputId": "b1ae51cf-558e-4849-cb0c-c4a79ddb638e"
      },
      "outputs": [
        {
          "data": {
            "text/html": [
              "<div>\n",
              "<style scoped>\n",
              "    .dataframe tbody tr th:only-of-type {\n",
              "        vertical-align: middle;\n",
              "    }\n",
              "\n",
              "    .dataframe tbody tr th {\n",
              "        vertical-align: top;\n",
              "    }\n",
              "\n",
              "    .dataframe thead th {\n",
              "        text-align: right;\n",
              "    }\n",
              "</style>\n",
              "<table border=\"1\" class=\"dataframe\">\n",
              "  <thead>\n",
              "    <tr style=\"text-align: right;\">\n",
              "      <th></th>\n",
              "      <th>id_assessment</th>\n",
              "      <th>id_student</th>\n",
              "      <th>date_submitted</th>\n",
              "      <th>is_banked</th>\n",
              "      <th>score</th>\n",
              "      <th>code_module</th>\n",
              "      <th>code_presentation</th>\n",
              "      <th>assessment_type</th>\n",
              "      <th>date</th>\n",
              "      <th>weight</th>\n",
              "    </tr>\n",
              "  </thead>\n",
              "  <tbody>\n",
              "    <tr>\n",
              "      <th>52924</th>\n",
              "      <td>24290</td>\n",
              "      <td>559706</td>\n",
              "      <td>234</td>\n",
              "      <td>0</td>\n",
              "      <td>78.0</td>\n",
              "      <td>CCC</td>\n",
              "      <td>2014B</td>\n",
              "      <td>Exam</td>\n",
              "      <td>NaN</td>\n",
              "      <td>100.0</td>\n",
              "    </tr>\n",
              "    <tr>\n",
              "      <th>52925</th>\n",
              "      <td>24290</td>\n",
              "      <td>559770</td>\n",
              "      <td>230</td>\n",
              "      <td>0</td>\n",
              "      <td>54.0</td>\n",
              "      <td>CCC</td>\n",
              "      <td>2014B</td>\n",
              "      <td>Exam</td>\n",
              "      <td>NaN</td>\n",
              "      <td>100.0</td>\n",
              "    </tr>\n",
              "    <tr>\n",
              "      <th>52926</th>\n",
              "      <td>24290</td>\n",
              "      <td>560114</td>\n",
              "      <td>230</td>\n",
              "      <td>0</td>\n",
              "      <td>64.0</td>\n",
              "      <td>CCC</td>\n",
              "      <td>2014B</td>\n",
              "      <td>Exam</td>\n",
              "      <td>NaN</td>\n",
              "      <td>100.0</td>\n",
              "    </tr>\n",
              "    <tr>\n",
              "      <th>52927</th>\n",
              "      <td>24290</td>\n",
              "      <td>560311</td>\n",
              "      <td>234</td>\n",
              "      <td>0</td>\n",
              "      <td>100.0</td>\n",
              "      <td>CCC</td>\n",
              "      <td>2014B</td>\n",
              "      <td>Exam</td>\n",
              "      <td>NaN</td>\n",
              "      <td>100.0</td>\n",
              "    </tr>\n",
              "    <tr>\n",
              "      <th>52928</th>\n",
              "      <td>24290</td>\n",
              "      <td>560494</td>\n",
              "      <td>230</td>\n",
              "      <td>0</td>\n",
              "      <td>92.0</td>\n",
              "      <td>CCC</td>\n",
              "      <td>2014B</td>\n",
              "      <td>Exam</td>\n",
              "      <td>NaN</td>\n",
              "      <td>100.0</td>\n",
              "    </tr>\n",
              "  </tbody>\n",
              "</table>\n",
              "</div>"
            ],
            "text/plain": [
              "       id_assessment  id_student  date_submitted  is_banked  score  \\\n",
              "52924          24290      559706             234          0   78.0   \n",
              "52925          24290      559770             230          0   54.0   \n",
              "52926          24290      560114             230          0   64.0   \n",
              "52927          24290      560311             234          0  100.0   \n",
              "52928          24290      560494             230          0   92.0   \n",
              "\n",
              "      code_module code_presentation assessment_type  date  weight  \n",
              "52924         CCC             2014B            Exam   NaN   100.0  \n",
              "52925         CCC             2014B            Exam   NaN   100.0  \n",
              "52926         CCC             2014B            Exam   NaN   100.0  \n",
              "52927         CCC             2014B            Exam   NaN   100.0  \n",
              "52928         CCC             2014B            Exam   NaN   100.0  "
            ]
          },
          "execution_count": 38,
          "metadata": {},
          "output_type": "execute_result"
        }
      ],
      "source": [
        "  # датафрейм с данными по успешно сданным экзаменам\n",
        "studentAssessment_full_last_succ.head()"
      ]
    },
    {
      "cell_type": "code",
      "execution_count": null,
      "metadata": {
        "id": "OikqLvcroXSP"
      },
      "outputs": [],
      "source": [
        "studentAssessment_full_last_succ = studentAssessment_full_last_succ.sort_values(['id_student', 'date_submitted'])"
      ]
    },
    {
      "cell_type": "code",
      "execution_count": null,
      "metadata": {
        "id": "3MDzjBTroXSP",
        "outputId": "1ff0850b-205e-480f-9ed9-fa09785054fa"
      },
      "outputs": [
        {
          "data": {
            "text/plain": [
              "<bound method IndexOpsMixin.nunique of 64812      23698\n",
              "87448      24213\n",
              "64813      27116\n",
              "83014      28046\n",
              "64814      28787\n",
              "          ...   \n",
              "87970    2694886\n",
              "70241    2694933\n",
              "83013    2695608\n",
              "53369    2697181\n",
              "87971    2698251\n",
              "Name: id_student, Length: 4392, dtype: int64>"
            ]
          },
          "execution_count": 40,
          "metadata": {},
          "output_type": "execute_result"
        }
      ],
      "source": [
        "studentAssessment_full_last_succ.id_student.nunique"
      ]
    },
    {
      "cell_type": "code",
      "execution_count": null,
      "metadata": {
        "id": "91Z_itR6oXSP"
      },
      "outputs": [],
      "source": [
        "studentAssessment_full_last_succ = studentAssessment_full_last_succ.drop_duplicates('id_student', keep='last')"
      ]
    },
    {
      "cell_type": "code",
      "execution_count": null,
      "metadata": {
        "id": "b__dNrT_oXSP",
        "outputId": "d8b38a8f-811b-49ef-d1b3-83b8e9d7230f"
      },
      "outputs": [
        {
          "data": {
            "text/plain": [
              "<bound method IndexOpsMixin.nunique of 64812      23698\n",
              "87448      24213\n",
              "64813      27116\n",
              "83014      28046\n",
              "64814      28787\n",
              "          ...   \n",
              "87970    2694886\n",
              "70241    2694933\n",
              "83013    2695608\n",
              "53369    2697181\n",
              "87971    2698251\n",
              "Name: id_student, Length: 4097, dtype: int64>"
            ]
          },
          "execution_count": 42,
          "metadata": {},
          "output_type": "execute_result"
        }
      ],
      "source": [
        "studentAssessment_full_last_succ.id_student.nunique"
      ]
    },
    {
      "cell_type": "code",
      "execution_count": null,
      "metadata": {
        "id": "HbXDxla_oXSQ",
        "outputId": "df7553a9-473f-44a4-c479-ffd079e73ada"
      },
      "outputs": [
        {
          "data": {
            "text/html": [
              "<div>\n",
              "<style scoped>\n",
              "    .dataframe tbody tr th:only-of-type {\n",
              "        vertical-align: middle;\n",
              "    }\n",
              "\n",
              "    .dataframe tbody tr th {\n",
              "        vertical-align: top;\n",
              "    }\n",
              "\n",
              "    .dataframe thead th {\n",
              "        text-align: right;\n",
              "    }\n",
              "</style>\n",
              "<table border=\"1\" class=\"dataframe\">\n",
              "  <thead>\n",
              "    <tr style=\"text-align: right;\">\n",
              "      <th></th>\n",
              "      <th>id_assessment</th>\n",
              "      <th>id_student</th>\n",
              "      <th>date_submitted</th>\n",
              "      <th>is_banked</th>\n",
              "      <th>score</th>\n",
              "      <th>code_module</th>\n",
              "      <th>code_presentation</th>\n",
              "      <th>assessment_type</th>\n",
              "      <th>date</th>\n",
              "      <th>weight</th>\n",
              "    </tr>\n",
              "  </thead>\n",
              "  <tbody>\n",
              "    <tr>\n",
              "      <th>64812</th>\n",
              "      <td>24299</td>\n",
              "      <td>23698</td>\n",
              "      <td>243</td>\n",
              "      <td>0</td>\n",
              "      <td>80.0</td>\n",
              "      <td>CCC</td>\n",
              "      <td>2014J</td>\n",
              "      <td>Exam</td>\n",
              "      <td>NaN</td>\n",
              "      <td>100.0</td>\n",
              "    </tr>\n",
              "    <tr>\n",
              "      <th>87448</th>\n",
              "      <td>25361</td>\n",
              "      <td>24213</td>\n",
              "      <td>236</td>\n",
              "      <td>0</td>\n",
              "      <td>58.0</td>\n",
              "      <td>DDD</td>\n",
              "      <td>2014B</td>\n",
              "      <td>Exam</td>\n",
              "      <td>241.0</td>\n",
              "      <td>100.0</td>\n",
              "    </tr>\n",
              "    <tr>\n",
              "      <th>64813</th>\n",
              "      <td>24299</td>\n",
              "      <td>27116</td>\n",
              "      <td>243</td>\n",
              "      <td>0</td>\n",
              "      <td>96.0</td>\n",
              "      <td>CCC</td>\n",
              "      <td>2014J</td>\n",
              "      <td>Exam</td>\n",
              "      <td>NaN</td>\n",
              "      <td>100.0</td>\n",
              "    </tr>\n",
              "    <tr>\n",
              "      <th>83014</th>\n",
              "      <td>25354</td>\n",
              "      <td>28046</td>\n",
              "      <td>237</td>\n",
              "      <td>0</td>\n",
              "      <td>40.0</td>\n",
              "      <td>DDD</td>\n",
              "      <td>2013J</td>\n",
              "      <td>Exam</td>\n",
              "      <td>261.0</td>\n",
              "      <td>100.0</td>\n",
              "    </tr>\n",
              "    <tr>\n",
              "      <th>64814</th>\n",
              "      <td>24299</td>\n",
              "      <td>28787</td>\n",
              "      <td>243</td>\n",
              "      <td>0</td>\n",
              "      <td>44.0</td>\n",
              "      <td>CCC</td>\n",
              "      <td>2014J</td>\n",
              "      <td>Exam</td>\n",
              "      <td>NaN</td>\n",
              "      <td>100.0</td>\n",
              "    </tr>\n",
              "  </tbody>\n",
              "</table>\n",
              "</div>"
            ],
            "text/plain": [
              "       id_assessment  id_student  date_submitted  is_banked  score  \\\n",
              "64812          24299       23698             243          0   80.0   \n",
              "87448          25361       24213             236          0   58.0   \n",
              "64813          24299       27116             243          0   96.0   \n",
              "83014          25354       28046             237          0   40.0   \n",
              "64814          24299       28787             243          0   44.0   \n",
              "\n",
              "      code_module code_presentation assessment_type   date  weight  \n",
              "64812         CCC             2014J            Exam    NaN   100.0  \n",
              "87448         DDD             2014B            Exam  241.0   100.0  \n",
              "64813         CCC             2014J            Exam    NaN   100.0  \n",
              "83014         DDD             2013J            Exam  261.0   100.0  \n",
              "64814         CCC             2014J            Exam    NaN   100.0  "
            ]
          },
          "execution_count": 43,
          "metadata": {},
          "output_type": "execute_result"
        }
      ],
      "source": [
        "studentAssessment_full_last_succ.head()"
      ]
    },
    {
      "cell_type": "code",
      "execution_count": null,
      "metadata": {
        "id": "eDWrTY4zoXSQ",
        "outputId": "a6b27046-4cd0-427e-aa27-a8bd70441f80"
      },
      "outputs": [
        {
          "data": {
            "text/html": [
              "<div>\n",
              "<style scoped>\n",
              "    .dataframe tbody tr th:only-of-type {\n",
              "        vertical-align: middle;\n",
              "    }\n",
              "\n",
              "    .dataframe tbody tr th {\n",
              "        vertical-align: top;\n",
              "    }\n",
              "\n",
              "    .dataframe thead th {\n",
              "        text-align: right;\n",
              "    }\n",
              "</style>\n",
              "<table border=\"1\" class=\"dataframe\">\n",
              "  <thead>\n",
              "    <tr style=\"text-align: right;\">\n",
              "      <th></th>\n",
              "      <th>id_assessment</th>\n",
              "      <th>date_submitted</th>\n",
              "    </tr>\n",
              "  </thead>\n",
              "  <tbody>\n",
              "    <tr>\n",
              "      <th>0</th>\n",
              "      <td>24290</td>\n",
              "      <td>232.0</td>\n",
              "    </tr>\n",
              "    <tr>\n",
              "      <th>1</th>\n",
              "      <td>24299</td>\n",
              "      <td>244.0</td>\n",
              "    </tr>\n",
              "    <tr>\n",
              "      <th>2</th>\n",
              "      <td>25340</td>\n",
              "      <td>230.0</td>\n",
              "    </tr>\n",
              "    <tr>\n",
              "      <th>3</th>\n",
              "      <td>25354</td>\n",
              "      <td>240.0</td>\n",
              "    </tr>\n",
              "    <tr>\n",
              "      <th>4</th>\n",
              "      <td>25361</td>\n",
              "      <td>235.0</td>\n",
              "    </tr>\n",
              "    <tr>\n",
              "      <th>5</th>\n",
              "      <td>25368</td>\n",
              "      <td>243.0</td>\n",
              "    </tr>\n",
              "  </tbody>\n",
              "</table>\n",
              "</div>"
            ],
            "text/plain": [
              "   id_assessment  date_submitted\n",
              "0          24290           232.0\n",
              "1          24299           244.0\n",
              "2          25340           230.0\n",
              "3          25354           240.0\n",
              "4          25361           235.0\n",
              "5          25368           243.0"
            ]
          },
          "execution_count": 44,
          "metadata": {},
          "output_type": "execute_result"
        }
      ],
      "source": [
        "# группируем и считаем средний срок сдачи для каждого экзамена\n",
        "studentAssessment_full_last_succ.groupby('id_assessment', as_index = False) \\\n",
        "                                .agg({'date_submitted':'mean'}).round(0)"
      ]
    },
    {
      "cell_type": "markdown",
      "metadata": {
        "id": "AXMRW0hroXSQ"
      },
      "source": [
        "___________________________________________________"
      ]
    },
    {
      "cell_type": "markdown",
      "source": [
        "Задача 4: Выявить самые популярные курсы, а также курсы с самым большим оттоком."
      ],
      "metadata": {
        "id": "82gapAbx7Ztj"
      }
    },
    {
      "cell_type": "code",
      "execution_count": null,
      "metadata": {
        "id": "XQvRjM-EoXSR",
        "outputId": "160a08d4-0b63-40a4-f413-c8f17987c1fc"
      },
      "outputs": [
        {
          "data": {
            "text/html": [
              "<div>\n",
              "<style scoped>\n",
              "    .dataframe tbody tr th:only-of-type {\n",
              "        vertical-align: middle;\n",
              "    }\n",
              "\n",
              "    .dataframe tbody tr th {\n",
              "        vertical-align: top;\n",
              "    }\n",
              "\n",
              "    .dataframe thead th {\n",
              "        text-align: right;\n",
              "    }\n",
              "</style>\n",
              "<table border=\"1\" class=\"dataframe\">\n",
              "  <thead>\n",
              "    <tr style=\"text-align: right;\">\n",
              "      <th></th>\n",
              "      <th>code_module</th>\n",
              "      <th>code_presentation</th>\n",
              "      <th>id_student</th>\n",
              "      <th>date_registration</th>\n",
              "      <th>date_unregistration</th>\n",
              "    </tr>\n",
              "  </thead>\n",
              "  <tbody>\n",
              "    <tr>\n",
              "      <th>0</th>\n",
              "      <td>AAA</td>\n",
              "      <td>2013J</td>\n",
              "      <td>11391</td>\n",
              "      <td>-159.0</td>\n",
              "      <td>NaN</td>\n",
              "    </tr>\n",
              "    <tr>\n",
              "      <th>1</th>\n",
              "      <td>AAA</td>\n",
              "      <td>2013J</td>\n",
              "      <td>28400</td>\n",
              "      <td>-53.0</td>\n",
              "      <td>NaN</td>\n",
              "    </tr>\n",
              "    <tr>\n",
              "      <th>2</th>\n",
              "      <td>AAA</td>\n",
              "      <td>2013J</td>\n",
              "      <td>30268</td>\n",
              "      <td>-92.0</td>\n",
              "      <td>12.0</td>\n",
              "    </tr>\n",
              "    <tr>\n",
              "      <th>3</th>\n",
              "      <td>AAA</td>\n",
              "      <td>2013J</td>\n",
              "      <td>31604</td>\n",
              "      <td>-52.0</td>\n",
              "      <td>NaN</td>\n",
              "    </tr>\n",
              "    <tr>\n",
              "      <th>4</th>\n",
              "      <td>AAA</td>\n",
              "      <td>2013J</td>\n",
              "      <td>32885</td>\n",
              "      <td>-176.0</td>\n",
              "      <td>NaN</td>\n",
              "    </tr>\n",
              "  </tbody>\n",
              "</table>\n",
              "</div>"
            ],
            "text/plain": [
              "  code_module code_presentation  id_student  date_registration  \\\n",
              "0         AAA             2013J       11391             -159.0   \n",
              "1         AAA             2013J       28400              -53.0   \n",
              "2         AAA             2013J       30268              -92.0   \n",
              "3         AAA             2013J       31604              -52.0   \n",
              "4         AAA             2013J       32885             -176.0   \n",
              "\n",
              "   date_unregistration  \n",
              "0                  NaN  \n",
              "1                  NaN  \n",
              "2                 12.0  \n",
              "3                  NaN  \n",
              "4                  NaN  "
            ]
          },
          "execution_count": 47,
          "metadata": {},
          "output_type": "execute_result"
        }
      ],
      "source": [
        "studentRegistration.head()\n",
        "'''\n",
        "code_module — код предмета;\n",
        "code_presentation — код семестра;\n",
        "id_student — номер студента;\n",
        "date_registration — дата регистрации студента (количество дней от начала семестра, -30 означает, что студент зарегистрировался за 30 дней до начала);\n",
        "date_unregistration — дата отмены регистрации студента с предмета. У студентов, окончивших курс, это поле остается пустым.\n",
        "'''"
      ]
    },
    {
      "cell_type": "code",
      "execution_count": null,
      "metadata": {
        "id": "gcIipDu6oXSR",
        "outputId": "cf59a635-6f62-46fe-aef2-57b34c0b3bb6"
      },
      "outputs": [
        {
          "data": {
            "text/plain": [
              "array(['AAA', 'BBB', 'CCC', 'DDD', 'EEE', 'FFF', 'GGG'], dtype=object)"
            ]
          },
          "execution_count": 49,
          "metadata": {},
          "output_type": "execute_result"
        }
      ],
      "source": [
        "# посмотрим, какие курсы преподавались в этот период\n",
        "studentRegistration.code_module.unique()"
      ]
    },
    {
      "cell_type": "code",
      "execution_count": null,
      "metadata": {
        "scrolled": true,
        "id": "x9lU8dXvoXSS",
        "outputId": "a546c86c-acf3-42c6-ace4-c59943c5000b"
      },
      "outputs": [
        {
          "data": {
            "text/html": [
              "<div>\n",
              "<style scoped>\n",
              "    .dataframe tbody tr th:only-of-type {\n",
              "        vertical-align: middle;\n",
              "    }\n",
              "\n",
              "    .dataframe tbody tr th {\n",
              "        vertical-align: top;\n",
              "    }\n",
              "\n",
              "    .dataframe thead th {\n",
              "        text-align: right;\n",
              "    }\n",
              "</style>\n",
              "<table border=\"1\" class=\"dataframe\">\n",
              "  <thead>\n",
              "    <tr style=\"text-align: right;\">\n",
              "      <th></th>\n",
              "      <th>code_module</th>\n",
              "      <th>id_student</th>\n",
              "    </tr>\n",
              "  </thead>\n",
              "  <tbody>\n",
              "    <tr>\n",
              "      <th>3</th>\n",
              "      <td>DDD</td>\n",
              "      <td>4037</td>\n",
              "    </tr>\n",
              "    <tr>\n",
              "      <th>5</th>\n",
              "      <td>FFF</td>\n",
              "      <td>5382</td>\n",
              "    </tr>\n",
              "    <tr>\n",
              "      <th>1</th>\n",
              "      <td>BBB</td>\n",
              "      <td>5532</td>\n",
              "    </tr>\n",
              "  </tbody>\n",
              "</table>\n",
              "</div>"
            ],
            "text/plain": [
              "  code_module  id_student\n",
              "3         DDD        4037\n",
              "5         FFF        5382\n",
              "1         BBB        5532"
            ]
          },
          "execution_count": 50,
          "metadata": {},
          "output_type": "execute_result"
        }
      ],
      "source": [
        "# три самых популярных курса по количеству регистраций\n",
        "studentRegistration.query('date_unregistration == \"NaN\"') \\\n",
        "                   .groupby('code_module', as_index = False) \\\n",
        "                   .agg({'id_student':'count'}) \\\n",
        "                   .sort_values('id_student') \\\n",
        "                   .tail(3)"
      ]
    },
    {
      "cell_type": "code",
      "execution_count": null,
      "metadata": {
        "id": "e-awOyezoXSS",
        "outputId": "9905e1e5-9408-4d33-c0ae-c028d6ef6eb7"
      },
      "outputs": [
        {
          "data": {
            "text/html": [
              "<div>\n",
              "<style scoped>\n",
              "    .dataframe tbody tr th:only-of-type {\n",
              "        vertical-align: middle;\n",
              "    }\n",
              "\n",
              "    .dataframe tbody tr th {\n",
              "        vertical-align: top;\n",
              "    }\n",
              "\n",
              "    .dataframe thead th {\n",
              "        text-align: right;\n",
              "    }\n",
              "</style>\n",
              "<table border=\"1\" class=\"dataframe\">\n",
              "  <thead>\n",
              "    <tr style=\"text-align: right;\">\n",
              "      <th></th>\n",
              "      <th>code_module</th>\n",
              "      <th>id_student</th>\n",
              "    </tr>\n",
              "  </thead>\n",
              "  <tbody>\n",
              "    <tr>\n",
              "      <th>3</th>\n",
              "      <td>DDD</td>\n",
              "      <td>2235</td>\n",
              "    </tr>\n",
              "    <tr>\n",
              "      <th>1</th>\n",
              "      <td>BBB</td>\n",
              "      <td>2377</td>\n",
              "    </tr>\n",
              "    <tr>\n",
              "      <th>5</th>\n",
              "      <td>FFF</td>\n",
              "      <td>2380</td>\n",
              "    </tr>\n",
              "  </tbody>\n",
              "</table>\n",
              "</div>"
            ],
            "text/plain": [
              "  code_module  id_student\n",
              "3         DDD        2235\n",
              "1         BBB        2377\n",
              "5         FFF        2380"
            ]
          },
          "execution_count": 52,
          "metadata": {},
          "output_type": "execute_result"
        }
      ],
      "source": [
        "# три курса с самым большим оттоком\n",
        "studentRegistration.query('date_unregistration != \"NaN\"') \\\n",
        "                   .groupby('code_module', as_index = False) \\\n",
        "                   .agg({'id_student':'count'}) \\\n",
        "                   .sort_values('id_student') \\\n",
        "                   .tail(3)"
      ]
    },
    {
      "cell_type": "markdown",
      "metadata": {
        "id": "jpBRAZafoXST"
      },
      "source": [
        "_______________________________________________________________________________________"
      ]
    },
    {
      "cell_type": "markdown",
      "source": [
        "Задача 5: выполнить когортный (семестровый) анализ на Python. Найти семестр с самой низкой завершаемостью курсов за период с начала 2013 по конец 2014."
      ],
      "metadata": {
        "id": "2huofB8p8sKM"
      }
    },
    {
      "cell_type": "markdown",
      "source": [],
      "metadata": {
        "id": "XxSOhDVNTnMO"
      }
    },
    {
      "cell_type": "code",
      "execution_count": null,
      "metadata": {
        "id": "4NA2G-rgoXST"
      },
      "outputs": [],
      "source": [
        "'''\n",
        "Для проведения когортного анализа нужно задать 4 параметра:\n",
        "- Признак формирования когорты — действие, которое объединяет людей в группу;\n",
        "- Размер когорты — период времени, в течение которого сформировалась когорта;\n",
        "- Отчетный период (в нашем случае - 2 года);\n",
        "- Анализируемый ключевой показатель (в нашем случае - завершаемость курсов)\n",
        "'''"
      ]
    },
    {
      "cell_type": "code",
      "execution_count": null,
      "metadata": {
        "id": "IbMaAZzyoXST",
        "outputId": "4bd2937f-0a62-480f-e6ef-fdf9c0abcb8f"
      },
      "outputs": [
        {
          "data": {
            "text/plain": [
              "array(['2013J', '2014J', '2013B', '2014B'], dtype=object)"
            ]
          },
          "execution_count": 56,
          "metadata": {},
          "output_type": "execute_result"
        }
      ],
      "source": [
        "# посчитаем количество семестров в отчетном периоде\n",
        "studentRegistration.code_presentation.unique()"
      ]
    },
    {
      "cell_type": "code",
      "source": [
        "'''\n",
        "В европейской системе месяц начала курса обозначается буквами алфавита, где A - January, B - February и т.д.\n",
        "Таким образом, B - второй семестр, J - первый семестр соответствующего года.\n",
        "В качестве признака когорты выбираем регистрацию на курс, в качестве размера когорты выбираем семестр, в котором студент начал обучение.\n",
        "Итого получаем 4 когорты.\n",
        "'''"
      ],
      "metadata": {
        "id": "ZOFh-9Vr_H2m"
      },
      "execution_count": null,
      "outputs": []
    },
    {
      "cell_type": "code",
      "execution_count": null,
      "metadata": {
        "id": "SAm8EbWZoXST",
        "outputId": "2758929a-0459-42bf-fde1-d8fcfaa00c02"
      },
      "outputs": [
        {
          "data": {
            "text/plain": [
              "array(['AAA', 'BBB', 'CCC', 'DDD', 'EEE', 'FFF', 'GGG'], dtype=object)"
            ]
          },
          "execution_count": 57,
          "metadata": {},
          "output_type": "execute_result"
        }
      ],
      "source": [
        "studentAssessment_full.code_module.unique()"
      ]
    },
    {
      "cell_type": "code",
      "execution_count": null,
      "metadata": {
        "id": "ZoxMnhTIoXSU"
      },
      "outputs": [],
      "source": [
        "#  функция, задающая когорты\n",
        "def cohort_identification(x):\n",
        "    if x == '2013J':\n",
        "        return('cohort_1')\n",
        "    elif x == '2013B':\n",
        "        return('cohort_2')\n",
        "    elif x == '2014J':\n",
        "        return('cohort_3')\n",
        "    else:\n",
        "        return('cohort_4')"
      ]
    },
    {
      "cell_type": "code",
      "execution_count": null,
      "metadata": {
        "id": "8jXfe5ploXSU"
      },
      "outputs": [],
      "source": [
        "# добавим столбец с информацией о принадлежности к когорте\n",
        "studentRegistration['cohort'] = studentRegistration.code_presentation.apply(cohort_identification)"
      ]
    },
    {
      "cell_type": "code",
      "execution_count": null,
      "metadata": {
        "id": "YIA0GDAHoXSU",
        "outputId": "ee781e33-b2aa-4be6-c47a-dab71a1f3427"
      },
      "outputs": [
        {
          "data": {
            "text/html": [
              "<div>\n",
              "<style scoped>\n",
              "    .dataframe tbody tr th:only-of-type {\n",
              "        vertical-align: middle;\n",
              "    }\n",
              "\n",
              "    .dataframe tbody tr th {\n",
              "        vertical-align: top;\n",
              "    }\n",
              "\n",
              "    .dataframe thead th {\n",
              "        text-align: right;\n",
              "    }\n",
              "</style>\n",
              "<table border=\"1\" class=\"dataframe\">\n",
              "  <thead>\n",
              "    <tr style=\"text-align: right;\">\n",
              "      <th></th>\n",
              "      <th>code_module</th>\n",
              "      <th>code_presentation</th>\n",
              "      <th>id_student</th>\n",
              "      <th>date_registration</th>\n",
              "      <th>date_unregistration</th>\n",
              "      <th>cohort</th>\n",
              "    </tr>\n",
              "  </thead>\n",
              "  <tbody>\n",
              "    <tr>\n",
              "      <th>0</th>\n",
              "      <td>AAA</td>\n",
              "      <td>2013J</td>\n",
              "      <td>11391</td>\n",
              "      <td>-159.0</td>\n",
              "      <td>NaN</td>\n",
              "      <td>cohort_1</td>\n",
              "    </tr>\n",
              "    <tr>\n",
              "      <th>1</th>\n",
              "      <td>AAA</td>\n",
              "      <td>2013J</td>\n",
              "      <td>28400</td>\n",
              "      <td>-53.0</td>\n",
              "      <td>NaN</td>\n",
              "      <td>cohort_1</td>\n",
              "    </tr>\n",
              "    <tr>\n",
              "      <th>2</th>\n",
              "      <td>AAA</td>\n",
              "      <td>2013J</td>\n",
              "      <td>30268</td>\n",
              "      <td>-92.0</td>\n",
              "      <td>12.0</td>\n",
              "      <td>cohort_1</td>\n",
              "    </tr>\n",
              "    <tr>\n",
              "      <th>3</th>\n",
              "      <td>AAA</td>\n",
              "      <td>2013J</td>\n",
              "      <td>31604</td>\n",
              "      <td>-52.0</td>\n",
              "      <td>NaN</td>\n",
              "      <td>cohort_1</td>\n",
              "    </tr>\n",
              "    <tr>\n",
              "      <th>4</th>\n",
              "      <td>AAA</td>\n",
              "      <td>2013J</td>\n",
              "      <td>32885</td>\n",
              "      <td>-176.0</td>\n",
              "      <td>NaN</td>\n",
              "      <td>cohort_1</td>\n",
              "    </tr>\n",
              "  </tbody>\n",
              "</table>\n",
              "</div>"
            ],
            "text/plain": [
              "  code_module code_presentation  id_student  date_registration  \\\n",
              "0         AAA             2013J       11391             -159.0   \n",
              "1         AAA             2013J       28400              -53.0   \n",
              "2         AAA             2013J       30268              -92.0   \n",
              "3         AAA             2013J       31604              -52.0   \n",
              "4         AAA             2013J       32885             -176.0   \n",
              "\n",
              "   date_unregistration    cohort  \n",
              "0                  NaN  cohort_1  \n",
              "1                  NaN  cohort_1  \n",
              "2                 12.0  cohort_1  \n",
              "3                  NaN  cohort_1  \n",
              "4                  NaN  cohort_1  "
            ]
          },
          "execution_count": 60,
          "metadata": {},
          "output_type": "execute_result"
        }
      ],
      "source": [
        "studentRegistration.head()"
      ]
    },
    {
      "cell_type": "code",
      "execution_count": null,
      "metadata": {
        "id": "gscXw2dhoXSV",
        "outputId": "01b72d32-478e-474c-d726-47ca9ad323e0"
      },
      "outputs": [
        {
          "data": {
            "text/html": [
              "<div>\n",
              "<style scoped>\n",
              "    .dataframe tbody tr th:only-of-type {\n",
              "        vertical-align: middle;\n",
              "    }\n",
              "\n",
              "    .dataframe tbody tr th {\n",
              "        vertical-align: top;\n",
              "    }\n",
              "\n",
              "    .dataframe thead th {\n",
              "        text-align: right;\n",
              "    }\n",
              "</style>\n",
              "<table border=\"1\" class=\"dataframe\">\n",
              "  <thead>\n",
              "    <tr style=\"text-align: right;\">\n",
              "      <th></th>\n",
              "      <th>id_assessment</th>\n",
              "      <th>id_student</th>\n",
              "      <th>date_submitted</th>\n",
              "      <th>is_banked</th>\n",
              "      <th>score</th>\n",
              "      <th>PassOrFail</th>\n",
              "    </tr>\n",
              "  </thead>\n",
              "  <tbody>\n",
              "    <tr>\n",
              "      <th>0</th>\n",
              "      <td>1752</td>\n",
              "      <td>11391</td>\n",
              "      <td>18</td>\n",
              "      <td>0</td>\n",
              "      <td>78.0</td>\n",
              "      <td>True</td>\n",
              "    </tr>\n",
              "    <tr>\n",
              "      <th>1</th>\n",
              "      <td>1752</td>\n",
              "      <td>28400</td>\n",
              "      <td>22</td>\n",
              "      <td>0</td>\n",
              "      <td>70.0</td>\n",
              "      <td>True</td>\n",
              "    </tr>\n",
              "    <tr>\n",
              "      <th>2</th>\n",
              "      <td>1752</td>\n",
              "      <td>31604</td>\n",
              "      <td>17</td>\n",
              "      <td>0</td>\n",
              "      <td>72.0</td>\n",
              "      <td>True</td>\n",
              "    </tr>\n",
              "    <tr>\n",
              "      <th>3</th>\n",
              "      <td>1752</td>\n",
              "      <td>32885</td>\n",
              "      <td>26</td>\n",
              "      <td>0</td>\n",
              "      <td>69.0</td>\n",
              "      <td>True</td>\n",
              "    </tr>\n",
              "    <tr>\n",
              "      <th>4</th>\n",
              "      <td>1752</td>\n",
              "      <td>38053</td>\n",
              "      <td>19</td>\n",
              "      <td>0</td>\n",
              "      <td>79.0</td>\n",
              "      <td>True</td>\n",
              "    </tr>\n",
              "  </tbody>\n",
              "</table>\n",
              "</div>"
            ],
            "text/plain": [
              "   id_assessment  id_student  date_submitted  is_banked  score  PassOrFail\n",
              "0           1752       11391              18          0   78.0        True\n",
              "1           1752       28400              22          0   70.0        True\n",
              "2           1752       31604              17          0   72.0        True\n",
              "3           1752       32885              26          0   69.0        True\n",
              "4           1752       38053              19          0   79.0        True"
            ]
          },
          "execution_count": 62,
          "metadata": {},
          "output_type": "execute_result"
        }
      ],
      "source": [
        "studentAssessment.head()"
      ]
    },
    {
      "cell_type": "code",
      "execution_count": null,
      "metadata": {
        "id": "z5E6bUFgoXSV"
      },
      "outputs": [],
      "source": [
        "# собираем вместе информацию об успеваемости и принадлежности к когорте\n",
        "cohorts_stats = studentAssessment.merge(studentRegistration, on = 'id_student', how = 'left')"
      ]
    },
    {
      "cell_type": "code",
      "execution_count": null,
      "metadata": {
        "id": "_JLsDhDjoXSV",
        "outputId": "deb1bb40-9231-406f-abb0-90f6f512f479"
      },
      "outputs": [
        {
          "data": {
            "text/html": [
              "<div>\n",
              "<style scoped>\n",
              "    .dataframe tbody tr th:only-of-type {\n",
              "        vertical-align: middle;\n",
              "    }\n",
              "\n",
              "    .dataframe tbody tr th {\n",
              "        vertical-align: top;\n",
              "    }\n",
              "\n",
              "    .dataframe thead th {\n",
              "        text-align: right;\n",
              "    }\n",
              "</style>\n",
              "<table border=\"1\" class=\"dataframe\">\n",
              "  <thead>\n",
              "    <tr style=\"text-align: right;\">\n",
              "      <th></th>\n",
              "      <th>id_assessment</th>\n",
              "      <th>id_student</th>\n",
              "      <th>date_submitted</th>\n",
              "      <th>is_banked</th>\n",
              "      <th>score</th>\n",
              "      <th>PassOrFail</th>\n",
              "      <th>code_module</th>\n",
              "      <th>code_presentation</th>\n",
              "      <th>date_registration</th>\n",
              "      <th>date_unregistration</th>\n",
              "      <th>cohort</th>\n",
              "    </tr>\n",
              "  </thead>\n",
              "  <tbody>\n",
              "    <tr>\n",
              "      <th>0</th>\n",
              "      <td>1752</td>\n",
              "      <td>11391</td>\n",
              "      <td>18</td>\n",
              "      <td>0</td>\n",
              "      <td>78.0</td>\n",
              "      <td>True</td>\n",
              "      <td>AAA</td>\n",
              "      <td>2013J</td>\n",
              "      <td>-159.0</td>\n",
              "      <td>NaN</td>\n",
              "      <td>cohort_1</td>\n",
              "    </tr>\n",
              "    <tr>\n",
              "      <th>1</th>\n",
              "      <td>1752</td>\n",
              "      <td>28400</td>\n",
              "      <td>22</td>\n",
              "      <td>0</td>\n",
              "      <td>70.0</td>\n",
              "      <td>True</td>\n",
              "      <td>AAA</td>\n",
              "      <td>2013J</td>\n",
              "      <td>-53.0</td>\n",
              "      <td>NaN</td>\n",
              "      <td>cohort_1</td>\n",
              "    </tr>\n",
              "    <tr>\n",
              "      <th>2</th>\n",
              "      <td>1752</td>\n",
              "      <td>31604</td>\n",
              "      <td>17</td>\n",
              "      <td>0</td>\n",
              "      <td>72.0</td>\n",
              "      <td>True</td>\n",
              "      <td>AAA</td>\n",
              "      <td>2013J</td>\n",
              "      <td>-52.0</td>\n",
              "      <td>NaN</td>\n",
              "      <td>cohort_1</td>\n",
              "    </tr>\n",
              "    <tr>\n",
              "      <th>3</th>\n",
              "      <td>1752</td>\n",
              "      <td>32885</td>\n",
              "      <td>26</td>\n",
              "      <td>0</td>\n",
              "      <td>69.0</td>\n",
              "      <td>True</td>\n",
              "      <td>AAA</td>\n",
              "      <td>2013J</td>\n",
              "      <td>-176.0</td>\n",
              "      <td>NaN</td>\n",
              "      <td>cohort_1</td>\n",
              "    </tr>\n",
              "    <tr>\n",
              "      <th>4</th>\n",
              "      <td>1752</td>\n",
              "      <td>38053</td>\n",
              "      <td>19</td>\n",
              "      <td>0</td>\n",
              "      <td>79.0</td>\n",
              "      <td>True</td>\n",
              "      <td>AAA</td>\n",
              "      <td>2013J</td>\n",
              "      <td>-110.0</td>\n",
              "      <td>NaN</td>\n",
              "      <td>cohort_1</td>\n",
              "    </tr>\n",
              "  </tbody>\n",
              "</table>\n",
              "</div>"
            ],
            "text/plain": [
              "   id_assessment  id_student  date_submitted  is_banked  score  PassOrFail  \\\n",
              "0           1752       11391              18          0   78.0        True   \n",
              "1           1752       28400              22          0   70.0        True   \n",
              "2           1752       31604              17          0   72.0        True   \n",
              "3           1752       32885              26          0   69.0        True   \n",
              "4           1752       38053              19          0   79.0        True   \n",
              "\n",
              "  code_module code_presentation  date_registration  date_unregistration  \\\n",
              "0         AAA             2013J             -159.0                  NaN   \n",
              "1         AAA             2013J              -53.0                  NaN   \n",
              "2         AAA             2013J              -52.0                  NaN   \n",
              "3         AAA             2013J             -176.0                  NaN   \n",
              "4         AAA             2013J             -110.0                  NaN   \n",
              "\n",
              "     cohort  \n",
              "0  cohort_1  \n",
              "1  cohort_1  \n",
              "2  cohort_1  \n",
              "3  cohort_1  \n",
              "4  cohort_1  "
            ]
          },
          "execution_count": 64,
          "metadata": {},
          "output_type": "execute_result"
        }
      ],
      "source": [
        "cohorts_stats.head()"
      ]
    },
    {
      "cell_type": "code",
      "execution_count": null,
      "metadata": {
        "id": "sUxpWqjYoXSW"
      },
      "outputs": [],
      "source": [
        "# фильтруем успешно сдавших тесты\n",
        "cohorts_stats_passed = cohorts_stats.query('score >= 40') \\\n",
        "             .groupby(['cohort','code_presentation', 'code_module'], as_index = False) \\\n",
        "             .agg({'id_student':'count'})"
      ]
    },
    {
      "cell_type": "code",
      "execution_count": null,
      "metadata": {
        "id": "AFY-kH0PoXSW",
        "outputId": "b668836c-7eea-4cb0-b27c-b425133c8d48"
      },
      "outputs": [
        {
          "data": {
            "text/html": [
              "<div>\n",
              "<style scoped>\n",
              "    .dataframe tbody tr th:only-of-type {\n",
              "        vertical-align: middle;\n",
              "    }\n",
              "\n",
              "    .dataframe tbody tr th {\n",
              "        vertical-align: top;\n",
              "    }\n",
              "\n",
              "    .dataframe thead th {\n",
              "        text-align: right;\n",
              "    }\n",
              "</style>\n",
              "<table border=\"1\" class=\"dataframe\">\n",
              "  <thead>\n",
              "    <tr style=\"text-align: right;\">\n",
              "      <th></th>\n",
              "      <th>code_presentation</th>\n",
              "      <th>students_passed_avg</th>\n",
              "    </tr>\n",
              "  </thead>\n",
              "  <tbody>\n",
              "    <tr>\n",
              "      <th>0</th>\n",
              "      <td>2013B</td>\n",
              "      <td>11523.000000</td>\n",
              "    </tr>\n",
              "    <tr>\n",
              "      <th>1</th>\n",
              "      <td>2013J</td>\n",
              "      <td>8977.833333</td>\n",
              "    </tr>\n",
              "    <tr>\n",
              "      <th>2</th>\n",
              "      <td>2014B</td>\n",
              "      <td>7884.833333</td>\n",
              "    </tr>\n",
              "    <tr>\n",
              "      <th>3</th>\n",
              "      <td>2014J</td>\n",
              "      <td>8763.714286</td>\n",
              "    </tr>\n",
              "  </tbody>\n",
              "</table>\n",
              "</div>"
            ],
            "text/plain": [
              "  code_presentation  students_passed_avg\n",
              "0             2013B         11523.000000\n",
              "1             2013J          8977.833333\n",
              "2             2014B          7884.833333\n",
              "3             2014J          8763.714286"
            ]
          },
          "execution_count": 67,
          "metadata": {},
          "output_type": "execute_result"
        }
      ],
      "source": [
        "# считаем среднее количество сдавших по когортам\n",
        "cohorts_stats.query('score >= 40') \\\n",
        "             .groupby(['cohort','code_presentation', 'code_module'], as_index = False) \\\n",
        "             .agg({'id_student':'count'}) \\\n",
        "             .groupby('code_presentation', as_index = False) \\\n",
        "             .agg({'id_student':'mean'}) \\\n",
        "             .rename(columns = {'id_student': 'students_passed_avg'})"
      ]
    },
    {
      "cell_type": "code",
      "execution_count": null,
      "metadata": {
        "id": "cxWfUdvpoXSW"
      },
      "outputs": [],
      "source": [
        "# 2 семестр 2014 года отличается самой низкой средней завершаемостью"
      ]
    },
    {
      "cell_type": "markdown",
      "metadata": {
        "id": "KO5GyLKroXSX"
      },
      "source": [
        "_____________________________________________________________________"
      ]
    },
    {
      "cell_type": "markdown",
      "source": [
        "Задача 6: построить RFM-кластеры студентов"
      ],
      "metadata": {
        "id": "KSmKZHMYIzSY"
      }
    },
    {
      "cell_type": "code",
      "execution_count": null,
      "metadata": {
        "id": "rbZlND3noXSX"
      },
      "outputs": [],
      "source": [
        "# в качестве метрики R принимаем среднее время сдачи одного экзамена"
      ]
    },
    {
      "cell_type": "code",
      "execution_count": null,
      "metadata": {
        "id": "uxKOSKTVoXSX",
        "outputId": "783dfaa8-364a-444e-b938-b38a0740708b"
      },
      "outputs": [
        {
          "data": {
            "text/html": [
              "<div>\n",
              "<style scoped>\n",
              "    .dataframe tbody tr th:only-of-type {\n",
              "        vertical-align: middle;\n",
              "    }\n",
              "\n",
              "    .dataframe tbody tr th {\n",
              "        vertical-align: top;\n",
              "    }\n",
              "\n",
              "    .dataframe thead th {\n",
              "        text-align: right;\n",
              "    }\n",
              "</style>\n",
              "<table border=\"1\" class=\"dataframe\">\n",
              "  <thead>\n",
              "    <tr style=\"text-align: right;\">\n",
              "      <th></th>\n",
              "      <th>code_module</th>\n",
              "      <th>code_presentation</th>\n",
              "      <th>id_assessment</th>\n",
              "      <th>assessment_type</th>\n",
              "      <th>date</th>\n",
              "      <th>weight</th>\n",
              "    </tr>\n",
              "  </thead>\n",
              "  <tbody>\n",
              "    <tr>\n",
              "      <th>0</th>\n",
              "      <td>AAA</td>\n",
              "      <td>2013J</td>\n",
              "      <td>1752</td>\n",
              "      <td>TMA</td>\n",
              "      <td>19.0</td>\n",
              "      <td>10.0</td>\n",
              "    </tr>\n",
              "    <tr>\n",
              "      <th>1</th>\n",
              "      <td>AAA</td>\n",
              "      <td>2013J</td>\n",
              "      <td>1753</td>\n",
              "      <td>TMA</td>\n",
              "      <td>54.0</td>\n",
              "      <td>20.0</td>\n",
              "    </tr>\n",
              "    <tr>\n",
              "      <th>2</th>\n",
              "      <td>AAA</td>\n",
              "      <td>2013J</td>\n",
              "      <td>1754</td>\n",
              "      <td>TMA</td>\n",
              "      <td>117.0</td>\n",
              "      <td>20.0</td>\n",
              "    </tr>\n",
              "    <tr>\n",
              "      <th>3</th>\n",
              "      <td>AAA</td>\n",
              "      <td>2013J</td>\n",
              "      <td>1755</td>\n",
              "      <td>TMA</td>\n",
              "      <td>166.0</td>\n",
              "      <td>20.0</td>\n",
              "    </tr>\n",
              "    <tr>\n",
              "      <th>4</th>\n",
              "      <td>AAA</td>\n",
              "      <td>2013J</td>\n",
              "      <td>1756</td>\n",
              "      <td>TMA</td>\n",
              "      <td>215.0</td>\n",
              "      <td>30.0</td>\n",
              "    </tr>\n",
              "  </tbody>\n",
              "</table>\n",
              "</div>"
            ],
            "text/plain": [
              "  code_module code_presentation  id_assessment assessment_type   date  weight\n",
              "0         AAA             2013J           1752             TMA   19.0    10.0\n",
              "1         AAA             2013J           1753             TMA   54.0    20.0\n",
              "2         AAA             2013J           1754             TMA  117.0    20.0\n",
              "3         AAA             2013J           1755             TMA  166.0    20.0\n",
              "4         AAA             2013J           1756             TMA  215.0    30.0"
            ]
          },
          "execution_count": 75,
          "metadata": {},
          "output_type": "execute_result"
        }
      ],
      "source": [
        "assessments.head()"
      ]
    },
    {
      "cell_type": "code",
      "execution_count": null,
      "metadata": {
        "id": "J7uiBvN4oXSY",
        "outputId": "4b1fa8e7-981f-4cbb-e49e-e6bb1ade2dc1"
      },
      "outputs": [
        {
          "data": {
            "text/plain": [
              "array([ 19.,  54., 117., 166., 215.,  nan,  89., 124., 159., 187.,  47.,\n",
              "        96., 131., 208.,  82., 152., 194.,  12.,  40., 110., 201.,  18.,\n",
              "        67., 137., 207.,  32., 102., 151., 200., 144., 214., 109., 158.,\n",
              "        23.,  51.,  79., 114., 149., 170., 206.,  25.,  53.,  81., 116.,\n",
              "       240.,  88., 123., 165., 261.,  74., 241.,  20.,  41.,  62., 111.,\n",
              "       146., 195.,  33.,  68., 235., 228., 222., 236., 173., 227.,  24.,\n",
              "        52.,  87., 129., 171.,  94., 136., 199., 229.,  61.])"
            ]
          },
          "execution_count": 101,
          "metadata": {},
          "output_type": "execute_result"
        }
      ],
      "source": [
        "# массив с уникальными значениями сроков сдачи\n",
        "assessments.date.unique()"
      ]
    },
    {
      "cell_type": "code",
      "execution_count": null,
      "metadata": {
        "id": "jeEd5d9OoXSY"
      },
      "outputs": [],
      "source": [
        "# датафрейм, содержащий данные о среднем сроке сдачи каждого теста\n",
        "assessments_rfm =  assessments.dropna().groupby('id_assessment', as_index = False) \\\n",
        "                                       .agg({'date':'mean'}) \\\n",
        "                                       .sort_values('date')"
      ]
    },
    {
      "cell_type": "code",
      "execution_count": null,
      "metadata": {
        "id": "IkfXzi-AoXSZ",
        "outputId": "68ca2f15-864c-44a8-e8ab-85be8b6e87ff"
      },
      "outputs": [
        {
          "data": {
            "text/plain": [
              "<matplotlib.axes._subplots.AxesSubplot at 0x7fc87245a780>"
            ]
          },
          "execution_count": 125,
          "metadata": {},
          "output_type": "execute_result"
        },
        {
          "data": {
            "image/png": "[encoded data removed]",
            "text/plain": [
              "<Figure size 432x288 with 1 Axes>"
            ]
          },
          "metadata": {
            "needs_background": "light"
          },
          "output_type": "display_data"
        }
      ],
      "source": [
        "# визуализация распределения средних сроков сдачи\n",
        "sns.boxplot(assessments_rfm.date)"
      ]
    },
    {
      "cell_type": "code",
      "execution_count": null,
      "metadata": {
        "id": "FGrTB8zpoXSZ",
        "outputId": "6c2c1c6a-d233-4fd7-c9c8-c3a5d6dbd680"
      },
      "outputs": [
        {
          "data": {
            "text/html": [
              "<div>\n",
              "<style scoped>\n",
              "    .dataframe tbody tr th:only-of-type {\n",
              "        vertical-align: middle;\n",
              "    }\n",
              "\n",
              "    .dataframe tbody tr th {\n",
              "        vertical-align: top;\n",
              "    }\n",
              "\n",
              "    .dataframe thead th {\n",
              "        text-align: right;\n",
              "    }\n",
              "</style>\n",
              "<table border=\"1\" class=\"dataframe\">\n",
              "  <thead>\n",
              "    <tr style=\"text-align: right;\">\n",
              "      <th></th>\n",
              "      <th>id_assessment</th>\n",
              "      <th>date</th>\n",
              "    </tr>\n",
              "  </thead>\n",
              "  <tbody>\n",
              "    <tr>\n",
              "      <th>count</th>\n",
              "      <td>195.000000</td>\n",
              "      <td>195.000000</td>\n",
              "    </tr>\n",
              "    <tr>\n",
              "      <th>mean</th>\n",
              "      <td>26851.056410</td>\n",
              "      <td>145.005128</td>\n",
              "    </tr>\n",
              "    <tr>\n",
              "      <th>std</th>\n",
              "      <td>9830.992674</td>\n",
              "      <td>76.001119</td>\n",
              "    </tr>\n",
              "    <tr>\n",
              "      <th>min</th>\n",
              "      <td>1752.000000</td>\n",
              "      <td>12.000000</td>\n",
              "    </tr>\n",
              "    <tr>\n",
              "      <th>25%</th>\n",
              "      <td>24282.500000</td>\n",
              "      <td>71.000000</td>\n",
              "    </tr>\n",
              "    <tr>\n",
              "      <th>50%</th>\n",
              "      <td>25367.000000</td>\n",
              "      <td>152.000000</td>\n",
              "    </tr>\n",
              "    <tr>\n",
              "      <th>75%</th>\n",
              "      <td>34892.500000</td>\n",
              "      <td>222.000000</td>\n",
              "    </tr>\n",
              "    <tr>\n",
              "      <th>max</th>\n",
              "      <td>37444.000000</td>\n",
              "      <td>261.000000</td>\n",
              "    </tr>\n",
              "  </tbody>\n",
              "</table>\n",
              "</div>"
            ],
            "text/plain": [
              "       id_assessment        date\n",
              "count     195.000000  195.000000\n",
              "mean    26851.056410  145.005128\n",
              "std      9830.992674   76.001119\n",
              "min      1752.000000   12.000000\n",
              "25%     24282.500000   71.000000\n",
              "50%     25367.000000  152.000000\n",
              "75%     34892.500000  222.000000\n",
              "max     37444.000000  261.000000"
            ]
          },
          "execution_count": 122,
          "metadata": {},
          "output_type": "execute_result"
        }
      ],
      "source": [
        "# описательные статистики массива для выделения кластеров\n",
        "assessments_rfm.describe()"
      ]
    },
    {
      "cell_type": "code",
      "execution_count": null,
      "metadata": {
        "id": "jRid4iRfoXSZ"
      },
      "outputs": [],
      "source": [
        "'''\n",
        "Задаем кластеры для метрики Recency:\n",
        "1: меньше или равно 71 дня;\n",
        "2: от 72 до 152 дней;\n",
        "3: от 153 до 222 дней;\n",
        "4: 223 дня и больше\n",
        "'''"
      ]
    },
    {
      "cell_type": "code",
      "execution_count": null,
      "metadata": {
        "id": "I71bbbmdoXSa",
        "outputId": "a94758e6-1fe7-4008-a809-19afe8554367"
      },
      "outputs": [
        {
          "data": {
            "text/html": [
              "<div>\n",
              "<style scoped>\n",
              "    .dataframe tbody tr th:only-of-type {\n",
              "        vertical-align: middle;\n",
              "    }\n",
              "\n",
              "    .dataframe tbody tr th {\n",
              "        vertical-align: top;\n",
              "    }\n",
              "\n",
              "    .dataframe thead th {\n",
              "        text-align: right;\n",
              "    }\n",
              "</style>\n",
              "<table border=\"1\" class=\"dataframe\">\n",
              "  <thead>\n",
              "    <tr style=\"text-align: right;\">\n",
              "      <th></th>\n",
              "      <th>id_assessment</th>\n",
              "      <th>id_student</th>\n",
              "      <th>date_submitted</th>\n",
              "      <th>is_banked</th>\n",
              "      <th>score</th>\n",
              "      <th>PassOrFail</th>\n",
              "    </tr>\n",
              "  </thead>\n",
              "  <tbody>\n",
              "    <tr>\n",
              "      <th>0</th>\n",
              "      <td>1752</td>\n",
              "      <td>11391</td>\n",
              "      <td>18</td>\n",
              "      <td>0</td>\n",
              "      <td>78.0</td>\n",
              "      <td>True</td>\n",
              "    </tr>\n",
              "    <tr>\n",
              "      <th>1</th>\n",
              "      <td>1752</td>\n",
              "      <td>28400</td>\n",
              "      <td>22</td>\n",
              "      <td>0</td>\n",
              "      <td>70.0</td>\n",
              "      <td>True</td>\n",
              "    </tr>\n",
              "    <tr>\n",
              "      <th>2</th>\n",
              "      <td>1752</td>\n",
              "      <td>31604</td>\n",
              "      <td>17</td>\n",
              "      <td>0</td>\n",
              "      <td>72.0</td>\n",
              "      <td>True</td>\n",
              "    </tr>\n",
              "    <tr>\n",
              "      <th>3</th>\n",
              "      <td>1752</td>\n",
              "      <td>32885</td>\n",
              "      <td>26</td>\n",
              "      <td>0</td>\n",
              "      <td>69.0</td>\n",
              "      <td>True</td>\n",
              "    </tr>\n",
              "    <tr>\n",
              "      <th>4</th>\n",
              "      <td>1752</td>\n",
              "      <td>38053</td>\n",
              "      <td>19</td>\n",
              "      <td>0</td>\n",
              "      <td>79.0</td>\n",
              "      <td>True</td>\n",
              "    </tr>\n",
              "  </tbody>\n",
              "</table>\n",
              "</div>"
            ],
            "text/plain": [
              "   id_assessment  id_student  date_submitted  is_banked  score  PassOrFail\n",
              "0           1752       11391              18          0   78.0        True\n",
              "1           1752       28400              22          0   70.0        True\n",
              "2           1752       31604              17          0   72.0        True\n",
              "3           1752       32885              26          0   69.0        True\n",
              "4           1752       38053              19          0   79.0        True"
            ]
          },
          "execution_count": 131,
          "metadata": {},
          "output_type": "execute_result"
        }
      ],
      "source": [
        "# в качестве метрики F принимаем процент завершаемости курсов\n",
        "studentAssessment.head()"
      ]
    },
    {
      "cell_type": "code",
      "execution_count": null,
      "metadata": {
        "id": "U5fxN1ZwoXSa"
      },
      "outputs": [],
      "source": [
        "# фильтруем сдавших и аггрегируем по количеству сданных тестов\n",
        "studentAssessment_F_rate = studentAssessment.query('PassOrFail == True').groupby(['id_student'], as_index = False) \\\n",
        "                 .agg({'PassOrFail':'count'})"
      ]
    },
    {
      "cell_type": "code",
      "execution_count": null,
      "metadata": {
        "id": "7weUBjUMoXSa"
      },
      "outputs": [],
      "source": [
        "# добавим столбец с коэффициентом завершаемости (относительно максимального числа сданных тестов)\n",
        "studentAssessment_F_rate['F_rate'] =  studentAssessment_F_rate.PassOrFail / studentAssessment_F_rate.PassOrFail.max()"
      ]
    },
    {
      "cell_type": "code",
      "execution_count": null,
      "metadata": {
        "scrolled": true,
        "id": "Jc8safvmoXSb",
        "outputId": "ff9553cb-6166-41b3-dd2f-d91cbd7cf571"
      },
      "outputs": [
        {
          "data": {
            "text/html": [
              "<div>\n",
              "<style scoped>\n",
              "    .dataframe tbody tr th:only-of-type {\n",
              "        vertical-align: middle;\n",
              "    }\n",
              "\n",
              "    .dataframe tbody tr th {\n",
              "        vertical-align: top;\n",
              "    }\n",
              "\n",
              "    .dataframe thead th {\n",
              "        text-align: right;\n",
              "    }\n",
              "</style>\n",
              "<table border=\"1\" class=\"dataframe\">\n",
              "  <thead>\n",
              "    <tr style=\"text-align: right;\">\n",
              "      <th></th>\n",
              "      <th>id_student</th>\n",
              "      <th>PassOrFail</th>\n",
              "      <th>F_rate</th>\n",
              "    </tr>\n",
              "  </thead>\n",
              "  <tbody>\n",
              "    <tr>\n",
              "      <th>0</th>\n",
              "      <td>6516</td>\n",
              "      <td>5</td>\n",
              "      <td>0.178571</td>\n",
              "    </tr>\n",
              "    <tr>\n",
              "      <th>1</th>\n",
              "      <td>8462</td>\n",
              "      <td>7</td>\n",
              "      <td>0.250000</td>\n",
              "    </tr>\n",
              "    <tr>\n",
              "      <th>2</th>\n",
              "      <td>11391</td>\n",
              "      <td>5</td>\n",
              "      <td>0.178571</td>\n",
              "    </tr>\n",
              "    <tr>\n",
              "      <th>3</th>\n",
              "      <td>23629</td>\n",
              "      <td>4</td>\n",
              "      <td>0.142857</td>\n",
              "    </tr>\n",
              "    <tr>\n",
              "      <th>4</th>\n",
              "      <td>23698</td>\n",
              "      <td>9</td>\n",
              "      <td>0.321429</td>\n",
              "    </tr>\n",
              "  </tbody>\n",
              "</table>\n",
              "</div>"
            ],
            "text/plain": [
              "   id_student  PassOrFail    F_rate\n",
              "0        6516           5  0.178571\n",
              "1        8462           7  0.250000\n",
              "2       11391           5  0.178571\n",
              "3       23629           4  0.142857\n",
              "4       23698           9  0.321429"
            ]
          },
          "execution_count": 155,
          "metadata": {},
          "output_type": "execute_result"
        }
      ],
      "source": [
        "studentAssessment_F_rate.head()"
      ]
    },
    {
      "cell_type": "code",
      "execution_count": null,
      "metadata": {
        "id": "BfQ1P7USoXSb",
        "outputId": "a9d00e13-7f57-4b6a-9347-9df76798ebdf"
      },
      "outputs": [
        {
          "name": "stderr",
          "output_type": "stream",
          "text": [
            "/opt/tljh/user/lib/python3.7/site-packages/seaborn/_decorators.py:43: FutureWarning:\n",
            "\n",
            "Pass the following variable as a keyword arg: x. From version 0.12, the only valid positional argument will be `data`, and passing other arguments without an explicit keyword will result in an error or misinterpretation.\n",
            "\n"
          ]
        },
        {
          "data": {
            "text/plain": [
              "<matplotlib.axes._subplots.AxesSubplot at 0x7fc872181390>"
            ]
          },
          "execution_count": 156,
          "metadata": {},
          "output_type": "execute_result"
        },
        {
          "data": {
            "image/png": "[encoded data removed]",
            "text/plain": [
              "<Figure size 432x288 with 1 Axes>"
            ]
          },
          "metadata": {
            "needs_background": "light"
          },
          "output_type": "display_data"
        }
      ],
      "source": [
        "# визуализируем распределение\n",
        "sns.boxplot(studentAssessment_F_rate.F_rate)"
      ]
    },
    {
      "cell_type": "code",
      "execution_count": null,
      "metadata": {
        "id": "OxfdKAdZoXSb",
        "outputId": "e02e360a-337f-4fdd-9be6-adea5baaabbe"
      },
      "outputs": [
        {
          "data": {
            "text/plain": [
              "count    22973.000000\n",
              "mean         0.258317\n",
              "std          0.149005\n",
              "min          0.035714\n",
              "25%          0.142857\n",
              "50%          0.250000\n",
              "75%          0.392857\n",
              "max          1.000000\n",
              "Name: F_rate, dtype: float64"
            ]
          },
          "execution_count": 157,
          "metadata": {},
          "output_type": "execute_result"
        }
      ],
      "source": [
        "# описательные статистики массива для выделения кластеров\n",
        "studentAssessment_F_rate.F_rate.describe()"
      ]
    },
    {
      "cell_type": "code",
      "execution_count": null,
      "metadata": {
        "id": "zFMCtFfnoXSb"
      },
      "outputs": [],
      "source": [
        "'''\n",
        "Задаем кластеры для метрики Frequency:\n",
        "1: меньше или равно 14.3%;\n",
        "2: от 14.4% до 25%;\n",
        "3: от 25% до 39.3%;\n",
        "4: от 39,3% и выше\n",
        "'''"
      ]
    },
    {
      "cell_type": "code",
      "execution_count": null,
      "metadata": {
        "id": "nmSvzdv9oXSc"
      },
      "outputs": [],
      "source": [
        "# в качестве метрики M принимаем количество баллов, полученное по результатам тестов/экзаменов"
      ]
    },
    {
      "cell_type": "code",
      "execution_count": null,
      "metadata": {
        "id": "fh-yvx1UoXSc",
        "outputId": "a99d125a-248b-49f0-f79c-ff0f93743ec8"
      },
      "outputs": [
        {
          "name": "stderr",
          "output_type": "stream",
          "text": [
            "/opt/tljh/user/lib/python3.7/site-packages/seaborn/_decorators.py:43: FutureWarning:\n",
            "\n",
            "Pass the following variable as a keyword arg: x. From version 0.12, the only valid positional argument will be `data`, and passing other arguments without an explicit keyword will result in an error or misinterpretation.\n",
            "\n"
          ]
        },
        {
          "data": {
            "text/plain": [
              "<matplotlib.axes._subplots.AxesSubplot at 0x7fc872181208>"
            ]
          },
          "execution_count": 163,
          "metadata": {},
          "output_type": "execute_result"
        },
        {
          "data": {
            "image/png": "[encoded data removed]",
            "text/plain": [
              "<Figure size 432x288 with 1 Axes>"
            ]
          },
          "metadata": {
            "needs_background": "light"
          },
          "output_type": "display_data"
        }
      ],
      "source": [
        "# визуализируем распределение количества баллов\n",
        "sns.boxplot(studentAssessment.score)"
      ]
    },
    {
      "cell_type": "code",
      "execution_count": null,
      "metadata": {
        "id": "2iYMYBeEoXSc",
        "outputId": "8b816c3a-7d22-4495-fc1f-c49217fc0481"
      },
      "outputs": [
        {
          "data": {
            "text/plain": [
              "count    173739.000000\n",
              "mean         75.799573\n",
              "std          18.798107\n",
              "min           0.000000\n",
              "25%          65.000000\n",
              "50%          80.000000\n",
              "75%          90.000000\n",
              "max         100.000000\n",
              "Name: score, dtype: float64"
            ]
          },
          "execution_count": 166,
          "metadata": {},
          "output_type": "execute_result"
        }
      ],
      "source": [
        "# описательные статистики массива для выделения кластеров\n",
        "studentAssessment.score.describe()"
      ]
    },
    {
      "cell_type": "code",
      "execution_count": null,
      "metadata": {
        "id": "PMU9qTojoXSd"
      },
      "outputs": [],
      "source": [
        "'''\n",
        "Задаем кластеры для метрики Monetary:\n",
        "1: меньше или равно 65 баллов;\n",
        "2: от 66 до 80 баллов;\n",
        "3: от 81 до 90 баллов;\n",
        "4: 91 балл и выше.\n",
        ",,,"
      ]
    }
  ],
  "metadata": {
    "kernelspec": {
      "display_name": "Python 3",
      "language": "python",
      "name": "python3"
    },
    "language_info": {
      "codemirror_mode": {
        "name": "ipython",
        "version": 3
      },
      "file_extension": ".py",
      "mimetype": "text/x-python",
      "name": "python",
      "nbconvert_exporter": "python",
      "pygments_lexer": "ipython3",
      "version": "3.7.3"
    },
    "colab": {
      "provenance": []
    }
  },
  "nbformat": 4,
  "nbformat_minor": 0
}