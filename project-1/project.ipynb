{
 "cells": [
  {
   "cell_type": "code",
   "execution_count": 1,
   "metadata": {},
   "outputs": [],
   "source": [
    "import pandas as pd\n",
    "import numpy as np\n",
    "import seaborn as sns"
   ]
  },
  {
   "cell_type": "code",
   "execution_count": 2,
   "metadata": {},
   "outputs": [],
   "source": [
    "assessments = pd.read_csv('/mnt/HC_Volume_18315164/home-jupyter/jupyter-s-bykov/project_1/assessments.csv')\n",
    "courses = pd.read_csv('/mnt/HC_Volume_18315164/home-jupyter/jupyter-s-bykov/project_1/courses.csv')\n",
    "studentAssessment = pd.read_csv('/mnt/HC_Volume_18315164/home-jupyter/jupyter-s-bykov/project_1/studentAssessment.csv')\n",
    "studentRegistration = pd.read_csv('/mnt/HC_Volume_18315164/home-jupyter/jupyter-s-bykov/project_1/studentRegistration.csv')"
   ]
  },
  {
   "cell_type": "code",
   "execution_count": 3,
   "metadata": {},
   "outputs": [
    {
     "data": {
      "text/html": [
       "<div>\n",
       "<style scoped>\n",
       "    .dataframe tbody tr th:only-of-type {\n",
       "        vertical-align: middle;\n",
       "    }\n",
       "\n",
       "    .dataframe tbody tr th {\n",
       "        vertical-align: top;\n",
       "    }\n",
       "\n",
       "    .dataframe thead th {\n",
       "        text-align: right;\n",
       "    }\n",
       "</style>\n",
       "<table border=\"1\" class=\"dataframe\">\n",
       "  <thead>\n",
       "    <tr style=\"text-align: right;\">\n",
       "      <th></th>\n",
       "      <th>code_module</th>\n",
       "      <th>code_presentation</th>\n",
       "      <th>id_assessment</th>\n",
       "      <th>assessment_type</th>\n",
       "      <th>date</th>\n",
       "      <th>weight</th>\n",
       "    </tr>\n",
       "  </thead>\n",
       "  <tbody>\n",
       "    <tr>\n",
       "      <th>0</th>\n",
       "      <td>AAA</td>\n",
       "      <td>2013J</td>\n",
       "      <td>1752</td>\n",
       "      <td>TMA</td>\n",
       "      <td>19.0</td>\n",
       "      <td>10.0</td>\n",
       "    </tr>\n",
       "    <tr>\n",
       "      <th>1</th>\n",
       "      <td>AAA</td>\n",
       "      <td>2013J</td>\n",
       "      <td>1753</td>\n",
       "      <td>TMA</td>\n",
       "      <td>54.0</td>\n",
       "      <td>20.0</td>\n",
       "    </tr>\n",
       "    <tr>\n",
       "      <th>2</th>\n",
       "      <td>AAA</td>\n",
       "      <td>2013J</td>\n",
       "      <td>1754</td>\n",
       "      <td>TMA</td>\n",
       "      <td>117.0</td>\n",
       "      <td>20.0</td>\n",
       "    </tr>\n",
       "    <tr>\n",
       "      <th>3</th>\n",
       "      <td>AAA</td>\n",
       "      <td>2013J</td>\n",
       "      <td>1755</td>\n",
       "      <td>TMA</td>\n",
       "      <td>166.0</td>\n",
       "      <td>20.0</td>\n",
       "    </tr>\n",
       "    <tr>\n",
       "      <th>4</th>\n",
       "      <td>AAA</td>\n",
       "      <td>2013J</td>\n",
       "      <td>1756</td>\n",
       "      <td>TMA</td>\n",
       "      <td>215.0</td>\n",
       "      <td>30.0</td>\n",
       "    </tr>\n",
       "  </tbody>\n",
       "</table>\n",
       "</div>"
      ],
      "text/plain": [
       "  code_module code_presentation  id_assessment assessment_type   date  weight\n",
       "0         AAA             2013J           1752             TMA   19.0    10.0\n",
       "1         AAA             2013J           1753             TMA   54.0    20.0\n",
       "2         AAA             2013J           1754             TMA  117.0    20.0\n",
       "3         AAA             2013J           1755             TMA  166.0    20.0\n",
       "4         AAA             2013J           1756             TMA  215.0    30.0"
      ]
     },
     "execution_count": 3,
     "metadata": {},
     "output_type": "execute_result"
    }
   ],
   "source": [
    "assessments.head()\n"
   ]
  },
  {
   "cell_type": "code",
   "execution_count": 4,
   "metadata": {
    "scrolled": true
   },
   "outputs": [
    {
     "data": {
      "text/html": [
       "<div>\n",
       "<style scoped>\n",
       "    .dataframe tbody tr th:only-of-type {\n",
       "        vertical-align: middle;\n",
       "    }\n",
       "\n",
       "    .dataframe tbody tr th {\n",
       "        vertical-align: top;\n",
       "    }\n",
       "\n",
       "    .dataframe thead th {\n",
       "        text-align: right;\n",
       "    }\n",
       "</style>\n",
       "<table border=\"1\" class=\"dataframe\">\n",
       "  <thead>\n",
       "    <tr style=\"text-align: right;\">\n",
       "      <th></th>\n",
       "      <th>code_module</th>\n",
       "      <th>code_presentation</th>\n",
       "      <th>module_presentation_length</th>\n",
       "    </tr>\n",
       "  </thead>\n",
       "  <tbody>\n",
       "    <tr>\n",
       "      <th>0</th>\n",
       "      <td>AAA</td>\n",
       "      <td>2013J</td>\n",
       "      <td>268</td>\n",
       "    </tr>\n",
       "    <tr>\n",
       "      <th>1</th>\n",
       "      <td>AAA</td>\n",
       "      <td>2014J</td>\n",
       "      <td>269</td>\n",
       "    </tr>\n",
       "    <tr>\n",
       "      <th>2</th>\n",
       "      <td>BBB</td>\n",
       "      <td>2013J</td>\n",
       "      <td>268</td>\n",
       "    </tr>\n",
       "    <tr>\n",
       "      <th>3</th>\n",
       "      <td>BBB</td>\n",
       "      <td>2014J</td>\n",
       "      <td>262</td>\n",
       "    </tr>\n",
       "    <tr>\n",
       "      <th>4</th>\n",
       "      <td>BBB</td>\n",
       "      <td>2013B</td>\n",
       "      <td>240</td>\n",
       "    </tr>\n",
       "  </tbody>\n",
       "</table>\n",
       "</div>"
      ],
      "text/plain": [
       "  code_module code_presentation  module_presentation_length\n",
       "0         AAA             2013J                         268\n",
       "1         AAA             2014J                         269\n",
       "2         BBB             2013J                         268\n",
       "3         BBB             2014J                         262\n",
       "4         BBB             2013B                         240"
      ]
     },
     "execution_count": 4,
     "metadata": {},
     "output_type": "execute_result"
    }
   ],
   "source": [
    "courses.head()\n"
   ]
  },
  {
   "cell_type": "code",
   "execution_count": 5,
   "metadata": {
    "scrolled": true
   },
   "outputs": [
    {
     "data": {
      "text/html": [
       "<div>\n",
       "<style scoped>\n",
       "    .dataframe tbody tr th:only-of-type {\n",
       "        vertical-align: middle;\n",
       "    }\n",
       "\n",
       "    .dataframe tbody tr th {\n",
       "        vertical-align: top;\n",
       "    }\n",
       "\n",
       "    .dataframe thead th {\n",
       "        text-align: right;\n",
       "    }\n",
       "</style>\n",
       "<table border=\"1\" class=\"dataframe\">\n",
       "  <thead>\n",
       "    <tr style=\"text-align: right;\">\n",
       "      <th></th>\n",
       "      <th>id_assessment</th>\n",
       "      <th>id_student</th>\n",
       "      <th>date_submitted</th>\n",
       "      <th>is_banked</th>\n",
       "      <th>score</th>\n",
       "    </tr>\n",
       "  </thead>\n",
       "  <tbody>\n",
       "    <tr>\n",
       "      <th>0</th>\n",
       "      <td>1752</td>\n",
       "      <td>11391</td>\n",
       "      <td>18</td>\n",
       "      <td>0</td>\n",
       "      <td>78.0</td>\n",
       "    </tr>\n",
       "    <tr>\n",
       "      <th>1</th>\n",
       "      <td>1752</td>\n",
       "      <td>28400</td>\n",
       "      <td>22</td>\n",
       "      <td>0</td>\n",
       "      <td>70.0</td>\n",
       "    </tr>\n",
       "    <tr>\n",
       "      <th>2</th>\n",
       "      <td>1752</td>\n",
       "      <td>31604</td>\n",
       "      <td>17</td>\n",
       "      <td>0</td>\n",
       "      <td>72.0</td>\n",
       "    </tr>\n",
       "    <tr>\n",
       "      <th>3</th>\n",
       "      <td>1752</td>\n",
       "      <td>32885</td>\n",
       "      <td>26</td>\n",
       "      <td>0</td>\n",
       "      <td>69.0</td>\n",
       "    </tr>\n",
       "    <tr>\n",
       "      <th>4</th>\n",
       "      <td>1752</td>\n",
       "      <td>38053</td>\n",
       "      <td>19</td>\n",
       "      <td>0</td>\n",
       "      <td>79.0</td>\n",
       "    </tr>\n",
       "  </tbody>\n",
       "</table>\n",
       "</div>"
      ],
      "text/plain": [
       "   id_assessment  id_student  date_submitted  is_banked  score\n",
       "0           1752       11391              18          0   78.0\n",
       "1           1752       28400              22          0   70.0\n",
       "2           1752       31604              17          0   72.0\n",
       "3           1752       32885              26          0   69.0\n",
       "4           1752       38053              19          0   79.0"
      ]
     },
     "execution_count": 5,
     "metadata": {},
     "output_type": "execute_result"
    }
   ],
   "source": [
    "studentAssessment.head()\n"
   ]
  },
  {
   "cell_type": "code",
   "execution_count": 6,
   "metadata": {},
   "outputs": [
    {
     "data": {
      "text/html": [
       "<div>\n",
       "<style scoped>\n",
       "    .dataframe tbody tr th:only-of-type {\n",
       "        vertical-align: middle;\n",
       "    }\n",
       "\n",
       "    .dataframe tbody tr th {\n",
       "        vertical-align: top;\n",
       "    }\n",
       "\n",
       "    .dataframe thead th {\n",
       "        text-align: right;\n",
       "    }\n",
       "</style>\n",
       "<table border=\"1\" class=\"dataframe\">\n",
       "  <thead>\n",
       "    <tr style=\"text-align: right;\">\n",
       "      <th></th>\n",
       "      <th>code_module</th>\n",
       "      <th>code_presentation</th>\n",
       "      <th>id_student</th>\n",
       "      <th>date_registration</th>\n",
       "      <th>date_unregistration</th>\n",
       "    </tr>\n",
       "  </thead>\n",
       "  <tbody>\n",
       "    <tr>\n",
       "      <th>0</th>\n",
       "      <td>AAA</td>\n",
       "      <td>2013J</td>\n",
       "      <td>11391</td>\n",
       "      <td>-159.0</td>\n",
       "      <td>NaN</td>\n",
       "    </tr>\n",
       "    <tr>\n",
       "      <th>1</th>\n",
       "      <td>AAA</td>\n",
       "      <td>2013J</td>\n",
       "      <td>28400</td>\n",
       "      <td>-53.0</td>\n",
       "      <td>NaN</td>\n",
       "    </tr>\n",
       "    <tr>\n",
       "      <th>2</th>\n",
       "      <td>AAA</td>\n",
       "      <td>2013J</td>\n",
       "      <td>30268</td>\n",
       "      <td>-92.0</td>\n",
       "      <td>12.0</td>\n",
       "    </tr>\n",
       "    <tr>\n",
       "      <th>3</th>\n",
       "      <td>AAA</td>\n",
       "      <td>2013J</td>\n",
       "      <td>31604</td>\n",
       "      <td>-52.0</td>\n",
       "      <td>NaN</td>\n",
       "    </tr>\n",
       "    <tr>\n",
       "      <th>4</th>\n",
       "      <td>AAA</td>\n",
       "      <td>2013J</td>\n",
       "      <td>32885</td>\n",
       "      <td>-176.0</td>\n",
       "      <td>NaN</td>\n",
       "    </tr>\n",
       "  </tbody>\n",
       "</table>\n",
       "</div>"
      ],
      "text/plain": [
       "  code_module code_presentation  id_student  date_registration  \\\n",
       "0         AAA             2013J       11391             -159.0   \n",
       "1         AAA             2013J       28400              -53.0   \n",
       "2         AAA             2013J       30268              -92.0   \n",
       "3         AAA             2013J       31604              -52.0   \n",
       "4         AAA             2013J       32885             -176.0   \n",
       "\n",
       "   date_unregistration  \n",
       "0                  NaN  \n",
       "1                  NaN  \n",
       "2                 12.0  \n",
       "3                  NaN  \n",
       "4                  NaN  "
      ]
     },
     "execution_count": 6,
     "metadata": {},
     "output_type": "execute_result"
    }
   ],
   "source": [
    "studentRegistration.head()\n",
   ]
  },
  {
   "cell_type": "markdown",
   "metadata": {},
   "source": [
    "ЗАДАНИЕ 1"
   ]
  },
  {
   "cell_type": "code",
   "execution_count": 7,
   "metadata": {},
   "outputs": [],
   "source": [
    "# 1. Сколько студентов успешно сдали только один курс?"
   ]
  },
  {
   "cell_type": "code",
   "execution_count": 8,
   "metadata": {
    "scrolled": true
   },
   "outputs": [
    {
     "data": {
      "text/html": [
       "<div>\n",
       "<style scoped>\n",
       "    .dataframe tbody tr th:only-of-type {\n",
       "        vertical-align: middle;\n",
       "    }\n",
       "\n",
       "    .dataframe tbody tr th {\n",
       "        vertical-align: top;\n",
       "    }\n",
       "\n",
       "    .dataframe thead th {\n",
       "        text-align: right;\n",
       "    }\n",
       "</style>\n",
       "<table border=\"1\" class=\"dataframe\">\n",
       "  <thead>\n",
       "    <tr style=\"text-align: right;\">\n",
       "      <th></th>\n",
       "      <th>code_module</th>\n",
       "      <th>code_presentation</th>\n",
       "      <th>id_assessment</th>\n",
       "      <th>assessment_type</th>\n",
       "      <th>date</th>\n",
       "      <th>weight</th>\n",
       "    </tr>\n",
       "  </thead>\n",
       "  <tbody>\n",
       "    <tr>\n",
       "      <th>0</th>\n",
       "      <td>AAA</td>\n",
       "      <td>2013J</td>\n",
       "      <td>1752</td>\n",
       "      <td>TMA</td>\n",
       "      <td>19.0</td>\n",
       "      <td>10.0</td>\n",
       "    </tr>\n",
       "    <tr>\n",
       "      <th>1</th>\n",
       "      <td>AAA</td>\n",
       "      <td>2013J</td>\n",
       "      <td>1753</td>\n",
       "      <td>TMA</td>\n",
       "      <td>54.0</td>\n",
       "      <td>20.0</td>\n",
       "    </tr>\n",
       "    <tr>\n",
       "      <th>2</th>\n",
       "      <td>AAA</td>\n",
       "      <td>2013J</td>\n",
       "      <td>1754</td>\n",
       "      <td>TMA</td>\n",
       "      <td>117.0</td>\n",
       "      <td>20.0</td>\n",
       "    </tr>\n",
       "  </tbody>\n",
       "</table>\n",
       "</div>"
      ],
      "text/plain": [
       "  code_module code_presentation  id_assessment assessment_type   date  weight\n",
       "0         AAA             2013J           1752             TMA   19.0    10.0\n",
       "1         AAA             2013J           1753             TMA   54.0    20.0\n",
       "2         AAA             2013J           1754             TMA  117.0    20.0"
      ]
     },
     "execution_count": 8,
     "metadata": {},
     "output_type": "execute_result"
    }
   ],
   "source": [
    "assessments.head(3)"
   ]
  },
  {
   "cell_type": "code",
   "execution_count": 9,
   "metadata": {},
   "outputs": [
    {
     "data": {
      "text/html": [
       "<div>\n",
       "<style scoped>\n",
       "    .dataframe tbody tr th:only-of-type {\n",
       "        vertical-align: middle;\n",
       "    }\n",
       "\n",
       "    .dataframe tbody tr th {\n",
       "        vertical-align: top;\n",
       "    }\n",
       "\n",
       "    .dataframe thead th {\n",
       "        text-align: right;\n",
       "    }\n",
       "</style>\n",
       "<table border=\"1\" class=\"dataframe\">\n",
       "  <thead>\n",
       "    <tr style=\"text-align: right;\">\n",
       "      <th></th>\n",
       "      <th>code_module</th>\n",
       "      <th>code_presentation</th>\n",
       "      <th>id_assessment</th>\n",
       "      <th>assessment_type</th>\n",
       "      <th>date</th>\n",
       "      <th>weight</th>\n",
       "    </tr>\n",
       "  </thead>\n",
       "  <tbody>\n",
       "    <tr>\n",
       "      <th>0</th>\n",
       "      <td>AAA</td>\n",
       "      <td>2013J</td>\n",
       "      <td>1752</td>\n",
       "      <td>TMA</td>\n",
       "      <td>19.0</td>\n",
       "      <td>10.0</td>\n",
       "    </tr>\n",
       "    <tr>\n",
       "      <th>1</th>\n",
       "      <td>AAA</td>\n",
       "      <td>2013J</td>\n",
       "      <td>1753</td>\n",
       "      <td>TMA</td>\n",
       "      <td>54.0</td>\n",
       "      <td>20.0</td>\n",
       "    </tr>\n",
       "    <tr>\n",
       "      <th>2</th>\n",
       "      <td>AAA</td>\n",
       "      <td>2013J</td>\n",
       "      <td>1754</td>\n",
       "      <td>TMA</td>\n",
       "      <td>117.0</td>\n",
       "      <td>20.0</td>\n",
       "    </tr>\n",
       "  </tbody>\n",
       "</table>\n",
       "</div>"
      ],
      "text/plain": [
       "  code_module code_presentation  id_assessment assessment_type   date  weight\n",
       "0         AAA             2013J           1752             TMA   19.0    10.0\n",
       "1         AAA             2013J           1753             TMA   54.0    20.0\n",
       "2         AAA             2013J           1754             TMA  117.0    20.0"
      ]
     },
     "execution_count": 9,
     "metadata": {},
     "output_type": "execute_result"
    }
   ],
   "source": [
    "assessments.head(3)"
   ]
  },
  {
   "cell_type": "code",
   "execution_count": 10,
   "metadata": {
    "scrolled": true
   },
   "outputs": [
    {
     "data": {
      "text/html": [
       "<div>\n",
       "<style scoped>\n",
       "    .dataframe tbody tr th:only-of-type {\n",
       "        vertical-align: middle;\n",
       "    }\n",
       "\n",
       "    .dataframe tbody tr th {\n",
       "        vertical-align: top;\n",
       "    }\n",
       "\n",
       "    .dataframe thead th {\n",
       "        text-align: right;\n",
       "    }\n",
       "</style>\n",
       "<table border=\"1\" class=\"dataframe\">\n",
       "  <thead>\n",
       "    <tr style=\"text-align: right;\">\n",
       "      <th></th>\n",
       "      <th>code_module</th>\n",
       "      <th>id_assessment</th>\n",
       "      <th>assessment_type</th>\n",
       "      <th>code_presentation</th>\n",
       "    </tr>\n",
       "  </thead>\n",
       "  <tbody>\n",
       "    <tr>\n",
       "      <th>0</th>\n",
       "      <td>AAA</td>\n",
       "      <td>1752</td>\n",
       "      <td>TMA</td>\n",
       "      <td>1</td>\n",
       "    </tr>\n",
       "    <tr>\n",
       "      <th>1</th>\n",
       "      <td>AAA</td>\n",
       "      <td>1753</td>\n",
       "      <td>TMA</td>\n",
       "      <td>1</td>\n",
       "    </tr>\n",
       "    <tr>\n",
       "      <th>2</th>\n",
       "      <td>AAA</td>\n",
       "      <td>1754</td>\n",
       "      <td>TMA</td>\n",
       "      <td>1</td>\n",
       "    </tr>\n",
       "    <tr>\n",
       "      <th>3</th>\n",
       "      <td>AAA</td>\n",
       "      <td>1755</td>\n",
       "      <td>TMA</td>\n",
       "      <td>1</td>\n",
       "    </tr>\n",
       "    <tr>\n",
       "      <th>4</th>\n",
       "      <td>AAA</td>\n",
       "      <td>1756</td>\n",
       "      <td>TMA</td>\n",
       "      <td>1</td>\n",
       "    </tr>\n",
       "    <tr>\n",
       "      <th>...</th>\n",
       "      <td>...</td>\n",
       "      <td>...</td>\n",
       "      <td>...</td>\n",
       "      <td>...</td>\n",
       "    </tr>\n",
       "    <tr>\n",
       "      <th>201</th>\n",
       "      <td>GGG</td>\n",
       "      <td>37440</td>\n",
       "      <td>CMA</td>\n",
       "      <td>1</td>\n",
       "    </tr>\n",
       "    <tr>\n",
       "      <th>202</th>\n",
       "      <td>GGG</td>\n",
       "      <td>37441</td>\n",
       "      <td>CMA</td>\n",
       "      <td>1</td>\n",
       "    </tr>\n",
       "    <tr>\n",
       "      <th>203</th>\n",
       "      <td>GGG</td>\n",
       "      <td>37442</td>\n",
       "      <td>CMA</td>\n",
       "      <td>1</td>\n",
       "    </tr>\n",
       "    <tr>\n",
       "      <th>204</th>\n",
       "      <td>GGG</td>\n",
       "      <td>37443</td>\n",
       "      <td>CMA</td>\n",
       "      <td>1</td>\n",
       "    </tr>\n",
       "    <tr>\n",
       "      <th>205</th>\n",
       "      <td>GGG</td>\n",
       "      <td>37444</td>\n",
       "      <td>Exam</td>\n",
       "      <td>1</td>\n",
       "    </tr>\n",
       "  </tbody>\n",
       "</table>\n",
       "<p>206 rows × 4 columns</p>\n",
       "</div>"
      ],
      "text/plain": [
       "    code_module  id_assessment assessment_type  code_presentation\n",
       "0           AAA           1752             TMA                  1\n",
       "1           AAA           1753             TMA                  1\n",
       "2           AAA           1754             TMA                  1\n",
       "3           AAA           1755             TMA                  1\n",
       "4           AAA           1756             TMA                  1\n",
       "..          ...            ...             ...                ...\n",
       "201         GGG          37440             CMA                  1\n",
       "202         GGG          37441             CMA                  1\n",
       "203         GGG          37442             CMA                  1\n",
       "204         GGG          37443             CMA                  1\n",
       "205         GGG          37444            Exam                  1\n",
       "\n",
       "[206 rows x 4 columns]"
      ]
     },
     "execution_count": 10,
     "metadata": {},
     "output_type": "execute_result"
    }
   ],
   "source": [
    "assessments.groupby(['code_module','id_assessment', 'assessment_type'], as_index = False ) \\\n",
    "           .agg({'code_presentation':'count'})"
   ]
  },
  {
   "cell_type": "code",
   "execution_count": 11,
   "metadata": {},
   "outputs": [
    {
     "data": {
      "text/html": [
       "<div>\n",
       "<style scoped>\n",
       "    .dataframe tbody tr th:only-of-type {\n",
       "        vertical-align: middle;\n",
       "    }\n",
       "\n",
       "    .dataframe tbody tr th {\n",
       "        vertical-align: top;\n",
       "    }\n",
       "\n",
       "    .dataframe thead th {\n",
       "        text-align: right;\n",
       "    }\n",
       "</style>\n",
       "<table border=\"1\" class=\"dataframe\">\n",
       "  <thead>\n",
       "    <tr style=\"text-align: right;\">\n",
       "      <th></th>\n",
       "      <th>code_module</th>\n",
       "      <th>code_presentation</th>\n",
       "      <th>id_assessment</th>\n",
       "      <th>assessment_type</th>\n",
       "      <th>date</th>\n",
       "      <th>weight</th>\n",
       "    </tr>\n",
       "  </thead>\n",
       "  <tbody>\n",
       "    <tr>\n",
       "      <th>0</th>\n",
       "      <td>AAA</td>\n",
       "      <td>2013J</td>\n",
       "      <td>1752</td>\n",
       "      <td>TMA</td>\n",
       "      <td>19.0</td>\n",
       "      <td>10.0</td>\n",
       "    </tr>\n",
       "    <tr>\n",
       "      <th>1</th>\n",
       "      <td>AAA</td>\n",
       "      <td>2013J</td>\n",
       "      <td>1753</td>\n",
       "      <td>TMA</td>\n",
       "      <td>54.0</td>\n",
       "      <td>20.0</td>\n",
       "    </tr>\n",
       "    <tr>\n",
       "      <th>2</th>\n",
       "      <td>AAA</td>\n",
       "      <td>2013J</td>\n",
       "      <td>1754</td>\n",
       "      <td>TMA</td>\n",
       "      <td>117.0</td>\n",
       "      <td>20.0</td>\n",
       "    </tr>\n",
       "    <tr>\n",
       "      <th>3</th>\n",
       "      <td>AAA</td>\n",
       "      <td>2013J</td>\n",
       "      <td>1755</td>\n",
       "      <td>TMA</td>\n",
       "      <td>166.0</td>\n",
       "      <td>20.0</td>\n",
       "    </tr>\n",
       "    <tr>\n",
       "      <th>4</th>\n",
       "      <td>AAA</td>\n",
       "      <td>2013J</td>\n",
       "      <td>1756</td>\n",
       "      <td>TMA</td>\n",
       "      <td>215.0</td>\n",
       "      <td>30.0</td>\n",
       "    </tr>\n",
       "    <tr>\n",
       "      <th>...</th>\n",
       "      <td>...</td>\n",
       "      <td>...</td>\n",
       "      <td>...</td>\n",
       "      <td>...</td>\n",
       "      <td>...</td>\n",
       "      <td>...</td>\n",
       "    </tr>\n",
       "    <tr>\n",
       "      <th>201</th>\n",
       "      <td>GGG</td>\n",
       "      <td>2014J</td>\n",
       "      <td>37443</td>\n",
       "      <td>CMA</td>\n",
       "      <td>229.0</td>\n",
       "      <td>0.0</td>\n",
       "    </tr>\n",
       "    <tr>\n",
       "      <th>202</th>\n",
       "      <td>GGG</td>\n",
       "      <td>2014J</td>\n",
       "      <td>37435</td>\n",
       "      <td>TMA</td>\n",
       "      <td>61.0</td>\n",
       "      <td>0.0</td>\n",
       "    </tr>\n",
       "    <tr>\n",
       "      <th>203</th>\n",
       "      <td>GGG</td>\n",
       "      <td>2014J</td>\n",
       "      <td>37436</td>\n",
       "      <td>TMA</td>\n",
       "      <td>124.0</td>\n",
       "      <td>0.0</td>\n",
       "    </tr>\n",
       "    <tr>\n",
       "      <th>204</th>\n",
       "      <td>GGG</td>\n",
       "      <td>2014J</td>\n",
       "      <td>37437</td>\n",
       "      <td>TMA</td>\n",
       "      <td>173.0</td>\n",
       "      <td>0.0</td>\n",
       "    </tr>\n",
       "    <tr>\n",
       "      <th>205</th>\n",
       "      <td>GGG</td>\n",
       "      <td>2014J</td>\n",
       "      <td>37444</td>\n",
       "      <td>Exam</td>\n",
       "      <td>229.0</td>\n",
       "      <td>100.0</td>\n",
       "    </tr>\n",
       "  </tbody>\n",
       "</table>\n",
       "<p>206 rows × 6 columns</p>\n",
       "</div>"
      ],
      "text/plain": [
       "    code_module code_presentation  id_assessment assessment_type   date  \\\n",
       "0           AAA             2013J           1752             TMA   19.0   \n",
       "1           AAA             2013J           1753             TMA   54.0   \n",
       "2           AAA             2013J           1754             TMA  117.0   \n",
       "3           AAA             2013J           1755             TMA  166.0   \n",
       "4           AAA             2013J           1756             TMA  215.0   \n",
       "..          ...               ...            ...             ...    ...   \n",
       "201         GGG             2014J          37443             CMA  229.0   \n",
       "202         GGG             2014J          37435             TMA   61.0   \n",
       "203         GGG             2014J          37436             TMA  124.0   \n",
       "204         GGG             2014J          37437             TMA  173.0   \n",
       "205         GGG             2014J          37444            Exam  229.0   \n",
       "\n",
       "     weight  \n",
       "0      10.0  \n",
       "1      20.0  \n",
       "2      20.0  \n",
       "3      20.0  \n",
       "4      30.0  \n",
       "..      ...  \n",
       "201     0.0  \n",
       "202     0.0  \n",
       "203     0.0  \n",
       "204     0.0  \n",
       "205   100.0  \n",
       "\n",
       "[206 rows x 6 columns]"
      ]
     },
     "execution_count": 11,
     "metadata": {},
     "output_type": "execute_result"
    }
   ],
   "source": [
    "assessments"
   ]
  },
  {
   "cell_type": "code",
   "execution_count": 12,
   "metadata": {},
   "outputs": [
    {
     "data": {
      "text/html": [
       "<div>\n",
       "<style scoped>\n",
       "    .dataframe tbody tr th:only-of-type {\n",
       "        vertical-align: middle;\n",
       "    }\n",
       "\n",
       "    .dataframe tbody tr th {\n",
       "        vertical-align: top;\n",
       "    }\n",
       "\n",
       "    .dataframe thead th {\n",
       "        text-align: right;\n",
       "    }\n",
       "</style>\n",
       "<table border=\"1\" class=\"dataframe\">\n",
       "  <thead>\n",
       "    <tr style=\"text-align: right;\">\n",
       "      <th></th>\n",
       "      <th>id_assessment</th>\n",
       "      <th>id_student</th>\n",
       "      <th>date_submitted</th>\n",
       "      <th>is_banked</th>\n",
       "      <th>score</th>\n",
       "    </tr>\n",
       "  </thead>\n",
       "  <tbody>\n",
       "    <tr>\n",
       "      <th>0</th>\n",
       "      <td>1752</td>\n",
       "      <td>11391</td>\n",
       "      <td>18</td>\n",
       "      <td>0</td>\n",
       "      <td>78.0</td>\n",
       "    </tr>\n",
       "    <tr>\n",
       "      <th>1</th>\n",
       "      <td>1752</td>\n",
       "      <td>28400</td>\n",
       "      <td>22</td>\n",
       "      <td>0</td>\n",
       "      <td>70.0</td>\n",
       "    </tr>\n",
       "    <tr>\n",
       "      <th>2</th>\n",
       "      <td>1752</td>\n",
       "      <td>31604</td>\n",
       "      <td>17</td>\n",
       "      <td>0</td>\n",
       "      <td>72.0</td>\n",
       "    </tr>\n",
       "    <tr>\n",
       "      <th>3</th>\n",
       "      <td>1752</td>\n",
       "      <td>32885</td>\n",
       "      <td>26</td>\n",
       "      <td>0</td>\n",
       "      <td>69.0</td>\n",
       "    </tr>\n",
       "    <tr>\n",
       "      <th>4</th>\n",
       "      <td>1752</td>\n",
       "      <td>38053</td>\n",
       "      <td>19</td>\n",
       "      <td>0</td>\n",
       "      <td>79.0</td>\n",
       "    </tr>\n",
       "    <tr>\n",
       "      <th>...</th>\n",
       "      <td>...</td>\n",
       "      <td>...</td>\n",
       "      <td>...</td>\n",
       "      <td>...</td>\n",
       "      <td>...</td>\n",
       "    </tr>\n",
       "    <tr>\n",
       "      <th>173907</th>\n",
       "      <td>37443</td>\n",
       "      <td>527538</td>\n",
       "      <td>227</td>\n",
       "      <td>0</td>\n",
       "      <td>60.0</td>\n",
       "    </tr>\n",
       "    <tr>\n",
       "      <th>173908</th>\n",
       "      <td>37443</td>\n",
       "      <td>534672</td>\n",
       "      <td>229</td>\n",
       "      <td>0</td>\n",
       "      <td>100.0</td>\n",
       "    </tr>\n",
       "    <tr>\n",
       "      <th>173909</th>\n",
       "      <td>37443</td>\n",
       "      <td>546286</td>\n",
       "      <td>215</td>\n",
       "      <td>0</td>\n",
       "      <td>80.0</td>\n",
       "    </tr>\n",
       "    <tr>\n",
       "      <th>173910</th>\n",
       "      <td>37443</td>\n",
       "      <td>546724</td>\n",
       "      <td>230</td>\n",
       "      <td>0</td>\n",
       "      <td>100.0</td>\n",
       "    </tr>\n",
       "    <tr>\n",
       "      <th>173911</th>\n",
       "      <td>37443</td>\n",
       "      <td>558486</td>\n",
       "      <td>224</td>\n",
       "      <td>0</td>\n",
       "      <td>80.0</td>\n",
       "    </tr>\n",
       "  </tbody>\n",
       "</table>\n",
       "<p>173912 rows × 5 columns</p>\n",
       "</div>"
      ],
      "text/plain": [
       "        id_assessment  id_student  date_submitted  is_banked  score\n",
       "0                1752       11391              18          0   78.0\n",
       "1                1752       28400              22          0   70.0\n",
       "2                1752       31604              17          0   72.0\n",
       "3                1752       32885              26          0   69.0\n",
       "4                1752       38053              19          0   79.0\n",
       "...               ...         ...             ...        ...    ...\n",
       "173907          37443      527538             227          0   60.0\n",
       "173908          37443      534672             229          0  100.0\n",
       "173909          37443      546286             215          0   80.0\n",
       "173910          37443      546724             230          0  100.0\n",
       "173911          37443      558486             224          0   80.0\n",
       "\n",
       "[173912 rows x 5 columns]"
      ]
     },
     "execution_count": 12,
     "metadata": {},
     "output_type": "execute_result"
    }
   ],
   "source": [
    "studentAssessment"
   ]
  },
  {
   "cell_type": "code",
   "execution_count": 13,
   "metadata": {},
   "outputs": [],
   "source": [
    "studentAssessment_full = studentAssessment.merge(assessments, on = 'id_assessment', how = 'left')"
   ]
  },
  {
   "cell_type": "code",
   "execution_count": 14,
   "metadata": {},
   "outputs": [
    {
     "data": {
      "text/html": [
       "<div>\n",
       "<style scoped>\n",
       "    .dataframe tbody tr th:only-of-type {\n",
       "        vertical-align: middle;\n",
       "    }\n",
       "\n",
       "    .dataframe tbody tr th {\n",
       "        vertical-align: top;\n",
       "    }\n",
       "\n",
       "    .dataframe thead th {\n",
       "        text-align: right;\n",
       "    }\n",
       "</style>\n",
       "<table border=\"1\" class=\"dataframe\">\n",
       "  <thead>\n",
       "    <tr style=\"text-align: right;\">\n",
       "      <th></th>\n",
       "      <th>id_assessment</th>\n",
       "      <th>id_student</th>\n",
       "      <th>date_submitted</th>\n",
       "      <th>is_banked</th>\n",
       "      <th>score</th>\n",
       "      <th>code_module</th>\n",
       "      <th>code_presentation</th>\n",
       "      <th>assessment_type</th>\n",
       "      <th>date</th>\n",
       "      <th>weight</th>\n",
       "    </tr>\n",
       "  </thead>\n",
       "  <tbody>\n",
       "    <tr>\n",
       "      <th>0</th>\n",
       "      <td>1752</td>\n",
       "      <td>11391</td>\n",
       "      <td>18</td>\n",
       "      <td>0</td>\n",
       "      <td>78.0</td>\n",
       "      <td>AAA</td>\n",
       "      <td>2013J</td>\n",
       "      <td>TMA</td>\n",
       "      <td>19.0</td>\n",
       "      <td>10.0</td>\n",
       "    </tr>\n",
       "    <tr>\n",
       "      <th>1</th>\n",
       "      <td>1752</td>\n",
       "      <td>28400</td>\n",
       "      <td>22</td>\n",
       "      <td>0</td>\n",
       "      <td>70.0</td>\n",
       "      <td>AAA</td>\n",
       "      <td>2013J</td>\n",
       "      <td>TMA</td>\n",
       "      <td>19.0</td>\n",
       "      <td>10.0</td>\n",
       "    </tr>\n",
       "    <tr>\n",
       "      <th>2</th>\n",
       "      <td>1752</td>\n",
       "      <td>31604</td>\n",
       "      <td>17</td>\n",
       "      <td>0</td>\n",
       "      <td>72.0</td>\n",
       "      <td>AAA</td>\n",
       "      <td>2013J</td>\n",
       "      <td>TMA</td>\n",
       "      <td>19.0</td>\n",
       "      <td>10.0</td>\n",
       "    </tr>\n",
       "    <tr>\n",
       "      <th>3</th>\n",
       "      <td>1752</td>\n",
       "      <td>32885</td>\n",
       "      <td>26</td>\n",
       "      <td>0</td>\n",
       "      <td>69.0</td>\n",
       "      <td>AAA</td>\n",
       "      <td>2013J</td>\n",
       "      <td>TMA</td>\n",
       "      <td>19.0</td>\n",
       "      <td>10.0</td>\n",
       "    </tr>\n",
       "    <tr>\n",
       "      <th>4</th>\n",
       "      <td>1752</td>\n",
       "      <td>38053</td>\n",
       "      <td>19</td>\n",
       "      <td>0</td>\n",
       "      <td>79.0</td>\n",
       "      <td>AAA</td>\n",
       "      <td>2013J</td>\n",
       "      <td>TMA</td>\n",
       "      <td>19.0</td>\n",
       "      <td>10.0</td>\n",
       "    </tr>\n",
       "  </tbody>\n",
       "</table>\n",
       "</div>"
      ],
      "text/plain": [
       "   id_assessment  id_student  date_submitted  is_banked  score code_module  \\\n",
       "0           1752       11391              18          0   78.0         AAA   \n",
       "1           1752       28400              22          0   70.0         AAA   \n",
       "2           1752       31604              17          0   72.0         AAA   \n",
       "3           1752       32885              26          0   69.0         AAA   \n",
       "4           1752       38053              19          0   79.0         AAA   \n",
       "\n",
       "  code_presentation assessment_type  date  weight  \n",
       "0             2013J             TMA  19.0    10.0  \n",
       "1             2013J             TMA  19.0    10.0  \n",
       "2             2013J             TMA  19.0    10.0  \n",
       "3             2013J             TMA  19.0    10.0  \n",
       "4             2013J             TMA  19.0    10.0  "
      ]
     },
     "execution_count": 14,
     "metadata": {},
     "output_type": "execute_result"
    }
   ],
   "source": [
    "studentAssessment_full.head(5)"
   ]
  },
  {
   "cell_type": "code",
   "execution_count": 15,
   "metadata": {},
   "outputs": [],
   "source": [
    "studentAssessmentSuccess_full_pass = studentAssessment_full.loc[studentAssessment['score'] >= 40 ] # отбираем только те тесты, где студенты прошли испытания"
   ]
  },
  {
   "cell_type": "code",
   "execution_count": 16,
   "metadata": {},
   "outputs": [],
   "source": [
    "studentAssessmentSuccess_full_pass = studentAssessment_full.loc[studentAssessment_full['assessment_type'] == 'Exam' ] # отбираем только те тесты, где студенты прошли испытания"
   ]
  },
  {
   "cell_type": "code",
   "execution_count": 17,
   "metadata": {
    "scrolled": true
   },
   "outputs": [
    {
     "data": {
      "text/plain": [
       "49590"
      ]
     },
     "execution_count": 17,
     "metadata": {},
     "output_type": "execute_result"
    }
   ],
   "source": [
    "studentAssessmentSuccess_full_pass.size"
   ]
  },
  {
   "cell_type": "code",
   "execution_count": 18,
   "metadata": {},
   "outputs": [
    {
     "data": {
      "text/html": [
       "<div>\n",
       "<style scoped>\n",
       "    .dataframe tbody tr th:only-of-type {\n",
       "        vertical-align: middle;\n",
       "    }\n",
       "\n",
       "    .dataframe tbody tr th {\n",
       "        vertical-align: top;\n",
       "    }\n",
       "\n",
       "    .dataframe thead th {\n",
       "        text-align: right;\n",
       "    }\n",
       "</style>\n",
       "<table border=\"1\" class=\"dataframe\">\n",
       "  <thead>\n",
       "    <tr style=\"text-align: right;\">\n",
       "      <th></th>\n",
       "      <th>id_assessment</th>\n",
       "      <th>id_student</th>\n",
       "      <th>date_submitted</th>\n",
       "      <th>is_banked</th>\n",
       "      <th>score</th>\n",
       "      <th>code_module</th>\n",
       "      <th>code_presentation</th>\n",
       "      <th>assessment_type</th>\n",
       "      <th>date</th>\n",
       "      <th>weight</th>\n",
       "    </tr>\n",
       "  </thead>\n",
       "  <tbody>\n",
       "    <tr>\n",
       "      <th>52923</th>\n",
       "      <td>24290</td>\n",
       "      <td>558914</td>\n",
       "      <td>230</td>\n",
       "      <td>0</td>\n",
       "      <td>32.0</td>\n",
       "      <td>CCC</td>\n",
       "      <td>2014B</td>\n",
       "      <td>Exam</td>\n",
       "      <td>NaN</td>\n",
       "      <td>100.0</td>\n",
       "    </tr>\n",
       "    <tr>\n",
       "      <th>52924</th>\n",
       "      <td>24290</td>\n",
       "      <td>559706</td>\n",
       "      <td>234</td>\n",
       "      <td>0</td>\n",
       "      <td>78.0</td>\n",
       "      <td>CCC</td>\n",
       "      <td>2014B</td>\n",
       "      <td>Exam</td>\n",
       "      <td>NaN</td>\n",
       "      <td>100.0</td>\n",
       "    </tr>\n",
       "    <tr>\n",
       "      <th>52925</th>\n",
       "      <td>24290</td>\n",
       "      <td>559770</td>\n",
       "      <td>230</td>\n",
       "      <td>0</td>\n",
       "      <td>54.0</td>\n",
       "      <td>CCC</td>\n",
       "      <td>2014B</td>\n",
       "      <td>Exam</td>\n",
       "      <td>NaN</td>\n",
       "      <td>100.0</td>\n",
       "    </tr>\n",
       "  </tbody>\n",
       "</table>\n",
       "</div>"
      ],
      "text/plain": [
       "       id_assessment  id_student  date_submitted  is_banked  score  \\\n",
       "52923          24290      558914             230          0   32.0   \n",
       "52924          24290      559706             234          0   78.0   \n",
       "52925          24290      559770             230          0   54.0   \n",
       "\n",
       "      code_module code_presentation assessment_type  date  weight  \n",
       "52923         CCC             2014B            Exam   NaN   100.0  \n",
       "52924         CCC             2014B            Exam   NaN   100.0  \n",
       "52925         CCC             2014B            Exam   NaN   100.0  "
      ]
     },
     "execution_count": 18,
     "metadata": {},
     "output_type": "execute_result"
    }
   ],
   "source": [
    "studentAssessmentSuccess_full_pass.head(3)"
   ]
  },
  {
   "cell_type": "code",
   "execution_count": 19,
   "metadata": {},
   "outputs": [],
   "source": [
    "studentAssessmentSuccess_full_pass = studentAssessmentSuccess_full_pass.groupby (['id_student'], as_index = False) \\\n",
    "                            .agg({'score':'count'}) \\\n",
    "                            .rename(columns = {'score':'tests_passed'}) \\\n",
    "                            .query('tests_passed == 1')"
   ]
  },
  {
   "cell_type": "code",
   "execution_count": 20,
   "metadata": {},
   "outputs": [
    {
     "data": {
      "text/plain": [
       "4307"
      ]
     },
     "execution_count": 20,
     "metadata": {},
     "output_type": "execute_result"
    }
   ],
   "source": [
    "studentAssessmentSuccess_full_pass.id_student.nunique() # ответ - таких студентов (сдавших только 1 экзамен) - 4307 человека"
   ]
  },
  {
   "cell_type": "code",
   "execution_count": 72,
   "metadata": {},
   "outputs": [],
   "source": [
    "#  ОТВЕТ - 4307 студентов"
   ]
  },
  {
   "cell_type": "markdown",
   "metadata": {},
   "source": [
    "_________________________________________________________________________________________________"
   ]
  },
  {
   "cell_type": "code",
   "execution_count": 21,
   "metadata": {},
   "outputs": [
    {
     "data": {
      "text/html": [
       "<div>\n",
       "<style scoped>\n",
       "    .dataframe tbody tr th:only-of-type {\n",
       "        vertical-align: middle;\n",
       "    }\n",
       "\n",
       "    .dataframe tbody tr th {\n",
       "        vertical-align: top;\n",
       "    }\n",
       "\n",
       "    .dataframe thead th {\n",
       "        text-align: right;\n",
       "    }\n",
       "</style>\n",
       "<table border=\"1\" class=\"dataframe\">\n",
       "  <thead>\n",
       "    <tr style=\"text-align: right;\">\n",
       "      <th></th>\n",
       "      <th>id_assessment</th>\n",
       "      <th>id_student</th>\n",
       "      <th>date_submitted</th>\n",
       "      <th>is_banked</th>\n",
       "      <th>score</th>\n",
       "    </tr>\n",
       "  </thead>\n",
       "  <tbody>\n",
       "    <tr>\n",
       "      <th>0</th>\n",
       "      <td>1752</td>\n",
       "      <td>11391</td>\n",
       "      <td>18</td>\n",
       "      <td>0</td>\n",
       "      <td>78.0</td>\n",
       "    </tr>\n",
       "    <tr>\n",
       "      <th>1</th>\n",
       "      <td>1752</td>\n",
       "      <td>28400</td>\n",
       "      <td>22</td>\n",
       "      <td>0</td>\n",
       "      <td>70.0</td>\n",
       "    </tr>\n",
       "    <tr>\n",
       "      <th>2</th>\n",
       "      <td>1752</td>\n",
       "      <td>31604</td>\n",
       "      <td>17</td>\n",
       "      <td>0</td>\n",
       "      <td>72.0</td>\n",
       "    </tr>\n",
       "    <tr>\n",
       "      <th>3</th>\n",
       "      <td>1752</td>\n",
       "      <td>32885</td>\n",
       "      <td>26</td>\n",
       "      <td>0</td>\n",
       "      <td>69.0</td>\n",
       "    </tr>\n",
       "    <tr>\n",
       "      <th>4</th>\n",
       "      <td>1752</td>\n",
       "      <td>38053</td>\n",
       "      <td>19</td>\n",
       "      <td>0</td>\n",
       "      <td>79.0</td>\n",
       "    </tr>\n",
       "  </tbody>\n",
       "</table>\n",
       "</div>"
      ],
      "text/plain": [
       "   id_assessment  id_student  date_submitted  is_banked  score\n",
       "0           1752       11391              18          0   78.0\n",
       "1           1752       28400              22          0   70.0\n",
       "2           1752       31604              17          0   72.0\n",
       "3           1752       32885              26          0   69.0\n",
       "4           1752       38053              19          0   79.0"
      ]
     },
     "execution_count": 21,
     "metadata": {},
     "output_type": "execute_result"
    }
   ],
   "source": [
    "# 2. Выяви самый сложный и самый простой экзамен: найди курсы и экзамены в рамках курса, \n",
    "#     которые обладают самой низкой и самой высокой завершаемостью*. (5 баллов)\n",
    "    \n",
    "# *завершаемость = кол-во успешных экзаменов / кол-во всех попыток сдать экзамен\n",
    "\n",
    "studentAssessment.head()\n"
   ]
  },
  {
   "cell_type": "code",
   "execution_count": 22,
   "metadata": {},
   "outputs": [
    {
     "data": {
      "text/plain": [
       "id_assessment       188\n",
       "id_student        23369\n",
       "date_submitted      312\n",
       "is_banked             2\n",
       "score               101\n",
       "dtype: int64"
      ]
     },
     "execution_count": 22,
     "metadata": {},
     "output_type": "execute_result"
    }
   ],
   "source": [
    "studentAssessment.nunique()"
   ]
  },
  {
   "cell_type": "code",
   "execution_count": 23,
   "metadata": {},
   "outputs": [
    {
     "data": {
      "text/plain": [
       "id_assessment       int64\n",
       "id_student          int64\n",
       "date_submitted      int64\n",
       "is_banked           int64\n",
       "score             float64\n",
       "dtype: object"
      ]
     },
     "execution_count": 23,
     "metadata": {},
     "output_type": "execute_result"
    }
   ],
   "source": [
    "studentAssessment.dtypes"
   ]
  },
  {
   "cell_type": "code",
   "execution_count": 24,
   "metadata": {},
   "outputs": [],
   "source": [
    "studentAssessment['PassOrFail'] = studentAssessment.score >= 40 # if True it means student passed"
   ]
  },
  {
   "cell_type": "code",
   "execution_count": 25,
   "metadata": {
    "scrolled": true
   },
   "outputs": [
    {
     "data": {
      "text/html": [
       "<div>\n",
       "<style scoped>\n",
       "    .dataframe tbody tr th:only-of-type {\n",
       "        vertical-align: middle;\n",
       "    }\n",
       "\n",
       "    .dataframe tbody tr th {\n",
       "        vertical-align: top;\n",
       "    }\n",
       "\n",
       "    .dataframe thead th {\n",
       "        text-align: right;\n",
       "    }\n",
       "</style>\n",
       "<table border=\"1\" class=\"dataframe\">\n",
       "  <thead>\n",
       "    <tr style=\"text-align: right;\">\n",
       "      <th></th>\n",
       "      <th>id_assessment</th>\n",
       "      <th>id_student</th>\n",
       "      <th>date_submitted</th>\n",
       "      <th>is_banked</th>\n",
       "      <th>score</th>\n",
       "      <th>PassOrFail</th>\n",
       "    </tr>\n",
       "  </thead>\n",
       "  <tbody>\n",
       "    <tr>\n",
       "      <th>0</th>\n",
       "      <td>1752</td>\n",
       "      <td>11391</td>\n",
       "      <td>18</td>\n",
       "      <td>0</td>\n",
       "      <td>78.0</td>\n",
       "      <td>True</td>\n",
       "    </tr>\n",
       "    <tr>\n",
       "      <th>1</th>\n",
       "      <td>1752</td>\n",
       "      <td>28400</td>\n",
       "      <td>22</td>\n",
       "      <td>0</td>\n",
       "      <td>70.0</td>\n",
       "      <td>True</td>\n",
       "    </tr>\n",
       "    <tr>\n",
       "      <th>2</th>\n",
       "      <td>1752</td>\n",
       "      <td>31604</td>\n",
       "      <td>17</td>\n",
       "      <td>0</td>\n",
       "      <td>72.0</td>\n",
       "      <td>True</td>\n",
       "    </tr>\n",
       "    <tr>\n",
       "      <th>3</th>\n",
       "      <td>1752</td>\n",
       "      <td>32885</td>\n",
       "      <td>26</td>\n",
       "      <td>0</td>\n",
       "      <td>69.0</td>\n",
       "      <td>True</td>\n",
       "    </tr>\n",
       "    <tr>\n",
       "      <th>4</th>\n",
       "      <td>1752</td>\n",
       "      <td>38053</td>\n",
       "      <td>19</td>\n",
       "      <td>0</td>\n",
       "      <td>79.0</td>\n",
       "      <td>True</td>\n",
       "    </tr>\n",
       "  </tbody>\n",
       "</table>\n",
       "</div>"
      ],
      "text/plain": [
       "   id_assessment  id_student  date_submitted  is_banked  score  PassOrFail\n",
       "0           1752       11391              18          0   78.0        True\n",
       "1           1752       28400              22          0   70.0        True\n",
       "2           1752       31604              17          0   72.0        True\n",
       "3           1752       32885              26          0   69.0        True\n",
       "4           1752       38053              19          0   79.0        True"
      ]
     },
     "execution_count": 25,
     "metadata": {},
     "output_type": "execute_result"
    }
   ],
   "source": [
    "studentAssessment.head()"
   ]
  },
  {
   "cell_type": "code",
   "execution_count": 26,
   "metadata": {},
   "outputs": [],
   "source": [
    "hardest_and_easiest_assesment =  studentAssessment.groupby(['id_assessment', 'PassOrFail'], as_index = False) \\\n",
    "                 .agg({'id_student': 'count'}) \\\n",
    "                 .rename(columns={'id_student':'number_of_attempts'}) \\\n",
    "                 .pivot(index = 'id_assessment', columns='PassOrFail', values='number_of_attempts') \\\n",
    "                 .reset_index() \\\n",
    "                 .rename(columns={False:'Usuccess',True:'Success'})"
   ]
  },
  {
   "cell_type": "code",
   "execution_count": 27,
   "metadata": {},
   "outputs": [
    {
     "data": {
      "text/html": [
       "<div>\n",
       "<style scoped>\n",
       "    .dataframe tbody tr th:only-of-type {\n",
       "        vertical-align: middle;\n",
       "    }\n",
       "\n",
       "    .dataframe tbody tr th {\n",
       "        vertical-align: top;\n",
       "    }\n",
       "\n",
       "    .dataframe thead th {\n",
       "        text-align: right;\n",
       "    }\n",
       "</style>\n",
       "<table border=\"1\" class=\"dataframe\">\n",
       "  <thead>\n",
       "    <tr style=\"text-align: right;\">\n",
       "      <th>PassOrFail</th>\n",
       "      <th>id_assessment</th>\n",
       "      <th>Usuccess</th>\n",
       "      <th>Success</th>\n",
       "    </tr>\n",
       "  </thead>\n",
       "  <tbody>\n",
       "    <tr>\n",
       "      <th>0</th>\n",
       "      <td>1752</td>\n",
       "      <td>7.0</td>\n",
       "      <td>352.0</td>\n",
       "    </tr>\n",
       "    <tr>\n",
       "      <th>1</th>\n",
       "      <td>1753</td>\n",
       "      <td>12.0</td>\n",
       "      <td>330.0</td>\n",
       "    </tr>\n",
       "    <tr>\n",
       "      <th>2</th>\n",
       "      <td>1754</td>\n",
       "      <td>6.0</td>\n",
       "      <td>325.0</td>\n",
       "    </tr>\n",
       "    <tr>\n",
       "      <th>3</th>\n",
       "      <td>1755</td>\n",
       "      <td>9.0</td>\n",
       "      <td>294.0</td>\n",
       "    </tr>\n",
       "    <tr>\n",
       "      <th>4</th>\n",
       "      <td>1756</td>\n",
       "      <td>8.0</td>\n",
       "      <td>290.0</td>\n",
       "    </tr>\n",
       "    <tr>\n",
       "      <th>...</th>\n",
       "      <td>...</td>\n",
       "      <td>...</td>\n",
       "      <td>...</td>\n",
       "    </tr>\n",
       "    <tr>\n",
       "      <th>183</th>\n",
       "      <td>37439</td>\n",
       "      <td>1.0</td>\n",
       "      <td>503.0</td>\n",
       "    </tr>\n",
       "    <tr>\n",
       "      <th>184</th>\n",
       "      <td>37440</td>\n",
       "      <td>13.0</td>\n",
       "      <td>466.0</td>\n",
       "    </tr>\n",
       "    <tr>\n",
       "      <th>185</th>\n",
       "      <td>37441</td>\n",
       "      <td>3.0</td>\n",
       "      <td>470.0</td>\n",
       "    </tr>\n",
       "    <tr>\n",
       "      <th>186</th>\n",
       "      <td>37442</td>\n",
       "      <td>20.0</td>\n",
       "      <td>396.0</td>\n",
       "    </tr>\n",
       "    <tr>\n",
       "      <th>187</th>\n",
       "      <td>37443</td>\n",
       "      <td>8.0</td>\n",
       "      <td>336.0</td>\n",
       "    </tr>\n",
       "  </tbody>\n",
       "</table>\n",
       "<p>188 rows × 3 columns</p>\n",
       "</div>"
      ],
      "text/plain": [
       "PassOrFail  id_assessment  Usuccess  Success\n",
       "0                    1752       7.0    352.0\n",
       "1                    1753      12.0    330.0\n",
       "2                    1754       6.0    325.0\n",
       "3                    1755       9.0    294.0\n",
       "4                    1756       8.0    290.0\n",
       "..                    ...       ...      ...\n",
       "183                 37439       1.0    503.0\n",
       "184                 37440      13.0    466.0\n",
       "185                 37441       3.0    470.0\n",
       "186                 37442      20.0    396.0\n",
       "187                 37443       8.0    336.0\n",
       "\n",
       "[188 rows x 3 columns]"
      ]
     },
     "execution_count": 27,
     "metadata": {},
     "output_type": "execute_result"
    }
   ],
   "source": [
    "hardest_and_easiest_assesment"
   ]
  },
  {
   "cell_type": "code",
   "execution_count": 28,
   "metadata": {},
   "outputs": [],
   "source": [
    "hardest_and_easiest_assesment['HardOrEasy'] = hardest_and_easiest_assesment.Success / ( hardest_and_easiest_assesment.Usuccess + hardest_and_easiest_assesment.Success)"
   ]
  },
  {
   "cell_type": "code",
   "execution_count": 29,
   "metadata": {},
   "outputs": [
    {
     "data": {
      "text/html": [
       "<div>\n",
       "<style scoped>\n",
       "    .dataframe tbody tr th:only-of-type {\n",
       "        vertical-align: middle;\n",
       "    }\n",
       "\n",
       "    .dataframe tbody tr th {\n",
       "        vertical-align: top;\n",
       "    }\n",
       "\n",
       "    .dataframe thead th {\n",
       "        text-align: right;\n",
       "    }\n",
       "</style>\n",
       "<table border=\"1\" class=\"dataframe\">\n",
       "  <thead>\n",
       "    <tr style=\"text-align: right;\">\n",
       "      <th>PassOrFail</th>\n",
       "      <th>id_assessment</th>\n",
       "      <th>Usuccess</th>\n",
       "      <th>Success</th>\n",
       "      <th>HardOrEasy</th>\n",
       "    </tr>\n",
       "  </thead>\n",
       "  <tbody>\n",
       "    <tr>\n",
       "      <th>0</th>\n",
       "      <td>1752</td>\n",
       "      <td>7.0</td>\n",
       "      <td>352.0</td>\n",
       "      <td>0.980501</td>\n",
       "    </tr>\n",
       "    <tr>\n",
       "      <th>1</th>\n",
       "      <td>1753</td>\n",
       "      <td>12.0</td>\n",
       "      <td>330.0</td>\n",
       "      <td>0.964912</td>\n",
       "    </tr>\n",
       "    <tr>\n",
       "      <th>2</th>\n",
       "      <td>1754</td>\n",
       "      <td>6.0</td>\n",
       "      <td>325.0</td>\n",
       "      <td>0.981873</td>\n",
       "    </tr>\n",
       "    <tr>\n",
       "      <th>3</th>\n",
       "      <td>1755</td>\n",
       "      <td>9.0</td>\n",
       "      <td>294.0</td>\n",
       "      <td>0.970297</td>\n",
       "    </tr>\n",
       "    <tr>\n",
       "      <th>4</th>\n",
       "      <td>1756</td>\n",
       "      <td>8.0</td>\n",
       "      <td>290.0</td>\n",
       "      <td>0.973154</td>\n",
       "    </tr>\n",
       "  </tbody>\n",
       "</table>\n",
       "</div>"
      ],
      "text/plain": [
       "PassOrFail  id_assessment  Usuccess  Success  HardOrEasy\n",
       "0                    1752       7.0    352.0    0.980501\n",
       "1                    1753      12.0    330.0    0.964912\n",
       "2                    1754       6.0    325.0    0.981873\n",
       "3                    1755       9.0    294.0    0.970297\n",
       "4                    1756       8.0    290.0    0.973154"
      ]
     },
     "execution_count": 29,
     "metadata": {},
     "output_type": "execute_result"
    }
   ],
   "source": [
    "hardest_and_easiest_assesment.head()"
   ]
  },
  {
   "cell_type": "code",
   "execution_count": 30,
   "metadata": {},
   "outputs": [
    {
     "data": {
      "text/plain": [
       "PassOrFail\n",
       "id_assessment    34878.00000\n",
       "Usuccess             1.00000\n",
       "Success           1469.00000\n",
       "HardOrEasy           0.99932\n",
       "Name: 130, dtype: float64"
      ]
     },
     "execution_count": 30,
     "metadata": {},
     "output_type": "execute_result"
    }
   ],
   "source": [
    "hardest_and_easiest_assesment.loc[hardest_and_easiest_assesment.HardOrEasy.idxmax()]"
   ]
  },
  {
   "cell_type": "code",
   "execution_count": 31,
   "metadata": {},
   "outputs": [
    {
     "data": {
      "text/plain": [
       "PassOrFail\n",
       "id_assessment    15020.000000\n",
       "Usuccess           736.000000\n",
       "Success           1040.000000\n",
       "HardOrEasy           0.585586\n",
       "Name: 43, dtype: float64"
      ]
     },
     "execution_count": 31,
     "metadata": {},
     "output_type": "execute_result"
    }
   ],
   "source": [
    "hardest_and_easiest_assesment.loc[hardest_and_easiest_assesment.HardOrEasy.idxmin()]"
   ]
  },
  {
   "cell_type": "code",
   "execution_count": 32,
   "metadata": {},
   "outputs": [],
   "source": [
    "#  Ответ на наш вопрос: оценивание номер 34878 самое легкое, оценивание номер 15020 - самое сложное"
   ]
  },
  {
   "cell_type": "markdown",
   "metadata": {},
   "source": [
    "Задание 3"
   ]
  },
  {
   "cell_type": "markdown",
   "metadata": {},
   "source": [
    "__________________________________________________________________________________"
   ]
  },
  {
   "cell_type": "code",
   "execution_count": 33,
   "metadata": {},
   "outputs": [],
   "source": [
    "# 3. По каждому предмету определи средний срок сдачи экзаменов \n",
    "# (под сдачей понимаем последнее успешное прохождение экзамена студентом). (5 баллов) "
   ]
  },
  {
   "cell_type": "code",
   "execution_count": 34,
   "metadata": {
    "scrolled": false
   },
   "outputs": [
    {
     "data": {
      "text/html": [
       "<div>\n",
       "<style scoped>\n",
       "    .dataframe tbody tr th:only-of-type {\n",
       "        vertical-align: middle;\n",
       "    }\n",
       "\n",
       "    .dataframe tbody tr th {\n",
       "        vertical-align: top;\n",
       "    }\n",
       "\n",
       "    .dataframe thead th {\n",
       "        text-align: right;\n",
       "    }\n",
       "</style>\n",
       "<table border=\"1\" class=\"dataframe\">\n",
       "  <thead>\n",
       "    <tr style=\"text-align: right;\">\n",
       "      <th></th>\n",
       "      <th>id_assessment</th>\n",
       "      <th>id_student</th>\n",
       "      <th>date_submitted</th>\n",
       "      <th>is_banked</th>\n",
       "      <th>score</th>\n",
       "      <th>code_module</th>\n",
       "      <th>code_presentation</th>\n",
       "      <th>assessment_type</th>\n",
       "      <th>date</th>\n",
       "      <th>weight</th>\n",
       "    </tr>\n",
       "  </thead>\n",
       "  <tbody>\n",
       "    <tr>\n",
       "      <th>0</th>\n",
       "      <td>1752</td>\n",
       "      <td>11391</td>\n",
       "      <td>18</td>\n",
       "      <td>0</td>\n",
       "      <td>78.0</td>\n",
       "      <td>AAA</td>\n",
       "      <td>2013J</td>\n",
       "      <td>TMA</td>\n",
       "      <td>19.0</td>\n",
       "      <td>10.0</td>\n",
       "    </tr>\n",
       "    <tr>\n",
       "      <th>1</th>\n",
       "      <td>1752</td>\n",
       "      <td>28400</td>\n",
       "      <td>22</td>\n",
       "      <td>0</td>\n",
       "      <td>70.0</td>\n",
       "      <td>AAA</td>\n",
       "      <td>2013J</td>\n",
       "      <td>TMA</td>\n",
       "      <td>19.0</td>\n",
       "      <td>10.0</td>\n",
       "    </tr>\n",
       "    <tr>\n",
       "      <th>2</th>\n",
       "      <td>1752</td>\n",
       "      <td>31604</td>\n",
       "      <td>17</td>\n",
       "      <td>0</td>\n",
       "      <td>72.0</td>\n",
       "      <td>AAA</td>\n",
       "      <td>2013J</td>\n",
       "      <td>TMA</td>\n",
       "      <td>19.0</td>\n",
       "      <td>10.0</td>\n",
       "    </tr>\n",
       "    <tr>\n",
       "      <th>3</th>\n",
       "      <td>1752</td>\n",
       "      <td>32885</td>\n",
       "      <td>26</td>\n",
       "      <td>0</td>\n",
       "      <td>69.0</td>\n",
       "      <td>AAA</td>\n",
       "      <td>2013J</td>\n",
       "      <td>TMA</td>\n",
       "      <td>19.0</td>\n",
       "      <td>10.0</td>\n",
       "    </tr>\n",
       "    <tr>\n",
       "      <th>4</th>\n",
       "      <td>1752</td>\n",
       "      <td>38053</td>\n",
       "      <td>19</td>\n",
       "      <td>0</td>\n",
       "      <td>79.0</td>\n",
       "      <td>AAA</td>\n",
       "      <td>2013J</td>\n",
       "      <td>TMA</td>\n",
       "      <td>19.0</td>\n",
       "      <td>10.0</td>\n",
       "    </tr>\n",
       "  </tbody>\n",
       "</table>\n",
       "</div>"
      ],
      "text/plain": [
       "   id_assessment  id_student  date_submitted  is_banked  score code_module  \\\n",
       "0           1752       11391              18          0   78.0         AAA   \n",
       "1           1752       28400              22          0   70.0         AAA   \n",
       "2           1752       31604              17          0   72.0         AAA   \n",
       "3           1752       32885              26          0   69.0         AAA   \n",
       "4           1752       38053              19          0   79.0         AAA   \n",
       "\n",
       "  code_presentation assessment_type  date  weight  \n",
       "0             2013J             TMA  19.0    10.0  \n",
       "1             2013J             TMA  19.0    10.0  \n",
       "2             2013J             TMA  19.0    10.0  \n",
       "3             2013J             TMA  19.0    10.0  \n",
       "4             2013J             TMA  19.0    10.0  "
      ]
     },
     "execution_count": 34,
     "metadata": {},
     "output_type": "execute_result"
    }
   ],
   "source": [
    "studentAssessment_full.head()"
   ]
  },
  {
   "cell_type": "code",
   "execution_count": 35,
   "metadata": {},
   "outputs": [],
   "source": [
    "studentAssessment_full_last_succ = studentAssessment_full.loc[studentAssessment['score'] >= 40]"
   ]
  },
  {
   "cell_type": "code",
   "execution_count": 36,
   "metadata": {},
   "outputs": [],
   "source": [
    "studentAssessment_full_last_succ = studentAssessment_full_last_succ.loc[studentAssessment_full_last_succ['assessment_type'] == 'Exam']"
   ]
  },
  {
   "cell_type": "code",
   "execution_count": 37,
   "metadata": {},
   "outputs": [
    {
     "data": {
      "text/plain": [
       "array([24290, 24299, 25340, 25354, 25361, 25368])"
      ]
     },
     "execution_count": 37,
     "metadata": {},
     "output_type": "execute_result"
    }
   ],
   "source": [
    "studentAssessment_full_last_succ.id_assessment.unique()"
   ]
  },
  {
   "cell_type": "code",
   "execution_count": 38,
   "metadata": {
    "scrolled": true
   },
   "outputs": [
    {
     "data": {
      "text/html": [
       "<div>\n",
       "<style scoped>\n",
       "    .dataframe tbody tr th:only-of-type {\n",
       "        vertical-align: middle;\n",
       "    }\n",
       "\n",
       "    .dataframe tbody tr th {\n",
       "        vertical-align: top;\n",
       "    }\n",
       "\n",
       "    .dataframe thead th {\n",
       "        text-align: right;\n",
       "    }\n",
       "</style>\n",
       "<table border=\"1\" class=\"dataframe\">\n",
       "  <thead>\n",
       "    <tr style=\"text-align: right;\">\n",
       "      <th></th>\n",
       "      <th>id_assessment</th>\n",
       "      <th>id_student</th>\n",
       "      <th>date_submitted</th>\n",
       "      <th>is_banked</th>\n",
       "      <th>score</th>\n",
       "      <th>code_module</th>\n",
       "      <th>code_presentation</th>\n",
       "      <th>assessment_type</th>\n",
       "      <th>date</th>\n",
       "      <th>weight</th>\n",
       "    </tr>\n",
       "  </thead>\n",
       "  <tbody>\n",
       "    <tr>\n",
       "      <th>52924</th>\n",
       "      <td>24290</td>\n",
       "      <td>559706</td>\n",
       "      <td>234</td>\n",
       "      <td>0</td>\n",
       "      <td>78.0</td>\n",
       "      <td>CCC</td>\n",
       "      <td>2014B</td>\n",
       "      <td>Exam</td>\n",
       "      <td>NaN</td>\n",
       "      <td>100.0</td>\n",
       "    </tr>\n",
       "    <tr>\n",
       "      <th>52925</th>\n",
       "      <td>24290</td>\n",
       "      <td>559770</td>\n",
       "      <td>230</td>\n",
       "      <td>0</td>\n",
       "      <td>54.0</td>\n",
       "      <td>CCC</td>\n",
       "      <td>2014B</td>\n",
       "      <td>Exam</td>\n",
       "      <td>NaN</td>\n",
       "      <td>100.0</td>\n",
       "    </tr>\n",
       "    <tr>\n",
       "      <th>52926</th>\n",
       "      <td>24290</td>\n",
       "      <td>560114</td>\n",
       "      <td>230</td>\n",
       "      <td>0</td>\n",
       "      <td>64.0</td>\n",
       "      <td>CCC</td>\n",
       "      <td>2014B</td>\n",
       "      <td>Exam</td>\n",
       "      <td>NaN</td>\n",
       "      <td>100.0</td>\n",
       "    </tr>\n",
       "    <tr>\n",
       "      <th>52927</th>\n",
       "      <td>24290</td>\n",
       "      <td>560311</td>\n",
       "      <td>234</td>\n",
       "      <td>0</td>\n",
       "      <td>100.0</td>\n",
       "      <td>CCC</td>\n",
       "      <td>2014B</td>\n",
       "      <td>Exam</td>\n",
       "      <td>NaN</td>\n",
       "      <td>100.0</td>\n",
       "    </tr>\n",
       "    <tr>\n",
       "      <th>52928</th>\n",
       "      <td>24290</td>\n",
       "      <td>560494</td>\n",
       "      <td>230</td>\n",
       "      <td>0</td>\n",
       "      <td>92.0</td>\n",
       "      <td>CCC</td>\n",
       "      <td>2014B</td>\n",
       "      <td>Exam</td>\n",
       "      <td>NaN</td>\n",
       "      <td>100.0</td>\n",
       "    </tr>\n",
       "  </tbody>\n",
       "</table>\n",
       "</div>"
      ],
      "text/plain": [
       "       id_assessment  id_student  date_submitted  is_banked  score  \\\n",
       "52924          24290      559706             234          0   78.0   \n",
       "52925          24290      559770             230          0   54.0   \n",
       "52926          24290      560114             230          0   64.0   \n",
       "52927          24290      560311             234          0  100.0   \n",
       "52928          24290      560494             230          0   92.0   \n",
       "\n",
       "      code_module code_presentation assessment_type  date  weight  \n",
       "52924         CCC             2014B            Exam   NaN   100.0  \n",
       "52925         CCC             2014B            Exam   NaN   100.0  \n",
       "52926         CCC             2014B            Exam   NaN   100.0  \n",
       "52927         CCC             2014B            Exam   NaN   100.0  \n",
       "52928         CCC             2014B            Exam   NaN   100.0  "
      ]
     },
     "execution_count": 38,
     "metadata": {},
     "output_type": "execute_result"
    }
   ],
   "source": [
    "studentAssessment_full_last_succ.head()  # датафрейм, в котором только успешно сданные испытания (не только EXAM). "
   ]
  },
  {
   "cell_type": "code",
   "execution_count": 39,
   "metadata": {},
   "outputs": [],
   "source": [
    "studentAssessment_full_last_succ = studentAssessment_full_last_succ.sort_values(['id_student', 'date_submitted']) # список, отсортированный по студентам и дате сдачи"
   ]
  },
  {
   "cell_type": "code",
   "execution_count": 40,
   "metadata": {},
   "outputs": [
    {
     "data": {
      "text/plain": [
       "<bound method IndexOpsMixin.nunique of 64812      23698\n",
       "87448      24213\n",
       "64813      27116\n",
       "83014      28046\n",
       "64814      28787\n",
       "          ...   \n",
       "87970    2694886\n",
       "70241    2694933\n",
       "83013    2695608\n",
       "53369    2697181\n",
       "87971    2698251\n",
       "Name: id_student, Length: 4392, dtype: int64>"
      ]
     },
     "execution_count": 40,
     "metadata": {},
     "output_type": "execute_result"
    }
   ],
   "source": [
    "studentAssessment_full_last_succ.id_student.nunique"
   ]
  },
  {
   "cell_type": "code",
   "execution_count": 41,
   "metadata": {},
   "outputs": [],
   "source": [
    "studentAssessment_full_last_succ = studentAssessment_full_last_succ.drop_duplicates('id_student', keep='last')"
   ]
  },
  {
   "cell_type": "code",
   "execution_count": 42,
   "metadata": {},
   "outputs": [
    {
     "data": {
      "text/plain": [
       "<bound method IndexOpsMixin.nunique of 64812      23698\n",
       "87448      24213\n",
       "64813      27116\n",
       "83014      28046\n",
       "64814      28787\n",
       "          ...   \n",
       "87970    2694886\n",
       "70241    2694933\n",
       "83013    2695608\n",
       "53369    2697181\n",
       "87971    2698251\n",
       "Name: id_student, Length: 4097, dtype: int64>"
      ]
     },
     "execution_count": 42,
     "metadata": {},
     "output_type": "execute_result"
    }
   ],
   "source": [
    "studentAssessment_full_last_succ.id_student.nunique"
   ]
  },
  {
   "cell_type": "code",
   "execution_count": 43,
   "metadata": {},
   "outputs": [
    {
     "data": {
      "text/html": [
       "<div>\n",
       "<style scoped>\n",
       "    .dataframe tbody tr th:only-of-type {\n",
       "        vertical-align: middle;\n",
       "    }\n",
       "\n",
       "    .dataframe tbody tr th {\n",
       "        vertical-align: top;\n",
       "    }\n",
       "\n",
       "    .dataframe thead th {\n",
       "        text-align: right;\n",
       "    }\n",
       "</style>\n",
       "<table border=\"1\" class=\"dataframe\">\n",
       "  <thead>\n",
       "    <tr style=\"text-align: right;\">\n",
       "      <th></th>\n",
       "      <th>id_assessment</th>\n",
       "      <th>id_student</th>\n",
       "      <th>date_submitted</th>\n",
       "      <th>is_banked</th>\n",
       "      <th>score</th>\n",
       "      <th>code_module</th>\n",
       "      <th>code_presentation</th>\n",
       "      <th>assessment_type</th>\n",
       "      <th>date</th>\n",
       "      <th>weight</th>\n",
       "    </tr>\n",
       "  </thead>\n",
       "  <tbody>\n",
       "    <tr>\n",
       "      <th>64812</th>\n",
       "      <td>24299</td>\n",
       "      <td>23698</td>\n",
       "      <td>243</td>\n",
       "      <td>0</td>\n",
       "      <td>80.0</td>\n",
       "      <td>CCC</td>\n",
       "      <td>2014J</td>\n",
       "      <td>Exam</td>\n",
       "      <td>NaN</td>\n",
       "      <td>100.0</td>\n",
       "    </tr>\n",
       "    <tr>\n",
       "      <th>87448</th>\n",
       "      <td>25361</td>\n",
       "      <td>24213</td>\n",
       "      <td>236</td>\n",
       "      <td>0</td>\n",
       "      <td>58.0</td>\n",
       "      <td>DDD</td>\n",
       "      <td>2014B</td>\n",
       "      <td>Exam</td>\n",
       "      <td>241.0</td>\n",
       "      <td>100.0</td>\n",
       "    </tr>\n",
       "    <tr>\n",
       "      <th>64813</th>\n",
       "      <td>24299</td>\n",
       "      <td>27116</td>\n",
       "      <td>243</td>\n",
       "      <td>0</td>\n",
       "      <td>96.0</td>\n",
       "      <td>CCC</td>\n",
       "      <td>2014J</td>\n",
       "      <td>Exam</td>\n",
       "      <td>NaN</td>\n",
       "      <td>100.0</td>\n",
       "    </tr>\n",
       "    <tr>\n",
       "      <th>83014</th>\n",
       "      <td>25354</td>\n",
       "      <td>28046</td>\n",
       "      <td>237</td>\n",
       "      <td>0</td>\n",
       "      <td>40.0</td>\n",
       "      <td>DDD</td>\n",
       "      <td>2013J</td>\n",
       "      <td>Exam</td>\n",
       "      <td>261.0</td>\n",
       "      <td>100.0</td>\n",
       "    </tr>\n",
       "    <tr>\n",
       "      <th>64814</th>\n",
       "      <td>24299</td>\n",
       "      <td>28787</td>\n",
       "      <td>243</td>\n",
       "      <td>0</td>\n",
       "      <td>44.0</td>\n",
       "      <td>CCC</td>\n",
       "      <td>2014J</td>\n",
       "      <td>Exam</td>\n",
       "      <td>NaN</td>\n",
       "      <td>100.0</td>\n",
       "    </tr>\n",
       "  </tbody>\n",
       "</table>\n",
       "</div>"
      ],
      "text/plain": [
       "       id_assessment  id_student  date_submitted  is_banked  score  \\\n",
       "64812          24299       23698             243          0   80.0   \n",
       "87448          25361       24213             236          0   58.0   \n",
       "64813          24299       27116             243          0   96.0   \n",
       "83014          25354       28046             237          0   40.0   \n",
       "64814          24299       28787             243          0   44.0   \n",
       "\n",
       "      code_module code_presentation assessment_type   date  weight  \n",
       "64812         CCC             2014J            Exam    NaN   100.0  \n",
       "87448         DDD             2014B            Exam  241.0   100.0  \n",
       "64813         CCC             2014J            Exam    NaN   100.0  \n",
       "83014         DDD             2013J            Exam  261.0   100.0  \n",
       "64814         CCC             2014J            Exam    NaN   100.0  "
      ]
     },
     "execution_count": 43,
     "metadata": {},
     "output_type": "execute_result"
    }
   ],
   "source": [
    "studentAssessment_full_last_succ.head()"
   ]
  },
  {
   "cell_type": "code",
   "execution_count": 44,
   "metadata": {},
   "outputs": [
    {
     "data": {
      "text/html": [
       "<div>\n",
       "<style scoped>\n",
       "    .dataframe tbody tr th:only-of-type {\n",
       "        vertical-align: middle;\n",
       "    }\n",
       "\n",
       "    .dataframe tbody tr th {\n",
       "        vertical-align: top;\n",
       "    }\n",
       "\n",
       "    .dataframe thead th {\n",
       "        text-align: right;\n",
       "    }\n",
       "</style>\n",
       "<table border=\"1\" class=\"dataframe\">\n",
       "  <thead>\n",
       "    <tr style=\"text-align: right;\">\n",
       "      <th></th>\n",
       "      <th>id_assessment</th>\n",
       "      <th>date_submitted</th>\n",
       "    </tr>\n",
       "  </thead>\n",
       "  <tbody>\n",
       "    <tr>\n",
       "      <th>0</th>\n",
       "      <td>24290</td>\n",
       "      <td>232.0</td>\n",
       "    </tr>\n",
       "    <tr>\n",
       "      <th>1</th>\n",
       "      <td>24299</td>\n",
       "      <td>244.0</td>\n",
       "    </tr>\n",
       "    <tr>\n",
       "      <th>2</th>\n",
       "      <td>25340</td>\n",
       "      <td>230.0</td>\n",
       "    </tr>\n",
       "    <tr>\n",
       "      <th>3</th>\n",
       "      <td>25354</td>\n",
       "      <td>240.0</td>\n",
       "    </tr>\n",
       "    <tr>\n",
       "      <th>4</th>\n",
       "      <td>25361</td>\n",
       "      <td>235.0</td>\n",
       "    </tr>\n",
       "    <tr>\n",
       "      <th>5</th>\n",
       "      <td>25368</td>\n",
       "      <td>243.0</td>\n",
       "    </tr>\n",
       "  </tbody>\n",
       "</table>\n",
       "</div>"
      ],
      "text/plain": [
       "   id_assessment  date_submitted\n",
       "0          24290           232.0\n",
       "1          24299           244.0\n",
       "2          25340           230.0\n",
       "3          25354           240.0\n",
       "4          25361           235.0\n",
       "5          25368           243.0"
      ]
     },
     "execution_count": 44,
     "metadata": {},
     "output_type": "execute_result"
    }
   ],
   "source": [
    "studentAssessment_full_last_succ.groupby('id_assessment', as_index = False) \\\n",
    "                                .agg({'date_submitted':'mean'}).round(0)"
   ]
  },
  {
   "cell_type": "code",
   "execution_count": 45,
   "metadata": {},
   "outputs": [],
   "source": [
    "#  Последний датафрейм - ответ на наш вопрос, это средние сроки сдачи экзаменов (последние разы)"
   ]
  },
  {
   "cell_type": "markdown",
   "metadata": {},
   "source": [
    "___________________________________________________"
   ]
  },
  {
   "cell_type": "code",
   "execution_count": 46,
   "metadata": {},
   "outputs": [],
   "source": [
    "# 4. Выяви самые популярные курсы (ТОП-3) по количеству регистраций на них.\n",
    "# А также курсы с самым большим оттоком (ТОП-3)."
   ]
  },
  {
   "cell_type": "code",
   "execution_count": 47,
   "metadata": {},
   "outputs": [
    {
     "data": {
      "text/html": [
       "<div>\n",
       "<style scoped>\n",
       "    .dataframe tbody tr th:only-of-type {\n",
       "        vertical-align: middle;\n",
       "    }\n",
       "\n",
       "    .dataframe tbody tr th {\n",
       "        vertical-align: top;\n",
       "    }\n",
       "\n",
       "    .dataframe thead th {\n",
       "        text-align: right;\n",
       "    }\n",
       "</style>\n",
       "<table border=\"1\" class=\"dataframe\">\n",
       "  <thead>\n",
       "    <tr style=\"text-align: right;\">\n",
       "      <th></th>\n",
       "      <th>code_module</th>\n",
       "      <th>code_presentation</th>\n",
       "      <th>id_student</th>\n",
       "      <th>date_registration</th>\n",
       "      <th>date_unregistration</th>\n",
       "    </tr>\n",
       "  </thead>\n",
       "  <tbody>\n",
       "    <tr>\n",
       "      <th>0</th>\n",
       "      <td>AAA</td>\n",
       "      <td>2013J</td>\n",
       "      <td>11391</td>\n",
       "      <td>-159.0</td>\n",
       "      <td>NaN</td>\n",
       "    </tr>\n",
       "    <tr>\n",
       "      <th>1</th>\n",
       "      <td>AAA</td>\n",
       "      <td>2013J</td>\n",
       "      <td>28400</td>\n",
       "      <td>-53.0</td>\n",
       "      <td>NaN</td>\n",
       "    </tr>\n",
       "    <tr>\n",
       "      <th>2</th>\n",
       "      <td>AAA</td>\n",
       "      <td>2013J</td>\n",
       "      <td>30268</td>\n",
       "      <td>-92.0</td>\n",
       "      <td>12.0</td>\n",
       "    </tr>\n",
       "    <tr>\n",
       "      <th>3</th>\n",
       "      <td>AAA</td>\n",
       "      <td>2013J</td>\n",
       "      <td>31604</td>\n",
       "      <td>-52.0</td>\n",
       "      <td>NaN</td>\n",
       "    </tr>\n",
       "    <tr>\n",
       "      <th>4</th>\n",
       "      <td>AAA</td>\n",
       "      <td>2013J</td>\n",
       "      <td>32885</td>\n",
       "      <td>-176.0</td>\n",
       "      <td>NaN</td>\n",
       "    </tr>\n",
       "  </tbody>\n",
       "</table>\n",
       "</div>"
      ],
      "text/plain": [
       "  code_module code_presentation  id_student  date_registration  \\\n",
       "0         AAA             2013J       11391             -159.0   \n",
       "1         AAA             2013J       28400              -53.0   \n",
       "2         AAA             2013J       30268              -92.0   \n",
       "3         AAA             2013J       31604              -52.0   \n",
       "4         AAA             2013J       32885             -176.0   \n",
       "\n",
       "   date_unregistration  \n",
       "0                  NaN  \n",
       "1                  NaN  \n",
       "2                 12.0  \n",
       "3                  NaN  \n",
       "4                  NaN  "
      ]
     },
     "execution_count": 47,
     "metadata": {},
     "output_type": "execute_result"
    }
   ],
   "source": [
    "studentRegistration.head()"
   ]
  },
  {
   "cell_type": "code",
   "execution_count": 48,
   "metadata": {},
   "outputs": [
    {
     "data": {
      "text/plain": [
       "(32593, 5)"
      ]
     },
     "execution_count": 48,
     "metadata": {},
     "output_type": "execute_result"
    }
   ],
   "source": [
    "studentRegistration.shape"
   ]
  },
  {
   "cell_type": "code",
   "execution_count": 49,
   "metadata": {},
   "outputs": [
    {
     "data": {
      "text/plain": [
       "array(['AAA', 'BBB', 'CCC', 'DDD', 'EEE', 'FFF', 'GGG'], dtype=object)"
      ]
     },
     "execution_count": 49,
     "metadata": {},
     "output_type": "execute_result"
    }
   ],
   "source": [
    "studentRegistration.code_module.unique() # всего 7 курсов"
   ]
  },
  {
   "cell_type": "code",
   "execution_count": 50,
   "metadata": {
    "scrolled": true
   },
   "outputs": [
    {
     "data": {
      "text/html": [
       "<div>\n",
       "<style scoped>\n",
       "    .dataframe tbody tr th:only-of-type {\n",
       "        vertical-align: middle;\n",
       "    }\n",
       "\n",
       "    .dataframe tbody tr th {\n",
       "        vertical-align: top;\n",
       "    }\n",
       "\n",
       "    .dataframe thead th {\n",
       "        text-align: right;\n",
       "    }\n",
       "</style>\n",
       "<table border=\"1\" class=\"dataframe\">\n",
       "  <thead>\n",
       "    <tr style=\"text-align: right;\">\n",
       "      <th></th>\n",
       "      <th>code_module</th>\n",
       "      <th>id_student</th>\n",
       "    </tr>\n",
       "  </thead>\n",
       "  <tbody>\n",
       "    <tr>\n",
       "      <th>3</th>\n",
       "      <td>DDD</td>\n",
       "      <td>4037</td>\n",
       "    </tr>\n",
       "    <tr>\n",
       "      <th>5</th>\n",
       "      <td>FFF</td>\n",
       "      <td>5382</td>\n",
       "    </tr>\n",
       "    <tr>\n",
       "      <th>1</th>\n",
       "      <td>BBB</td>\n",
       "      <td>5532</td>\n",
       "    </tr>\n",
       "  </tbody>\n",
       "</table>\n",
       "</div>"
      ],
      "text/plain": [
       "  code_module  id_student\n",
       "3         DDD        4037\n",
       "5         FFF        5382\n",
       "1         BBB        5532"
      ]
     },
     "execution_count": 50,
     "metadata": {},
     "output_type": "execute_result"
    }
   ],
   "source": [
    "studentRegistration.query('date_unregistration == \"NaN\"') \\\n",
    "                   .groupby('code_module', as_index = False) \\\n",
    "                   .agg({'id_student':'count'}) \\\n",
    "                   .sort_values('id_student') \\\n",
    "                   .tail(3)"
   ]
  },
  {
   "cell_type": "code",
   "execution_count": 51,
   "metadata": {},
   "outputs": [],
   "source": [
    "# Ответ на первый вопрос - три самых популярных курса: DDD, FFF, BBB\n"
   ]
  },
  {
   "cell_type": "code",
   "execution_count": 52,
   "metadata": {},
   "outputs": [
    {
     "data": {
      "text/html": [
       "<div>\n",
       "<style scoped>\n",
       "    .dataframe tbody tr th:only-of-type {\n",
       "        vertical-align: middle;\n",
       "    }\n",
       "\n",
       "    .dataframe tbody tr th {\n",
       "        vertical-align: top;\n",
       "    }\n",
       "\n",
       "    .dataframe thead th {\n",
       "        text-align: right;\n",
       "    }\n",
       "</style>\n",
       "<table border=\"1\" class=\"dataframe\">\n",
       "  <thead>\n",
       "    <tr style=\"text-align: right;\">\n",
       "      <th></th>\n",
       "      <th>code_module</th>\n",
       "      <th>id_student</th>\n",
       "    </tr>\n",
       "  </thead>\n",
       "  <tbody>\n",
       "    <tr>\n",
       "      <th>3</th>\n",
       "      <td>DDD</td>\n",
       "      <td>2235</td>\n",
       "    </tr>\n",
       "    <tr>\n",
       "      <th>1</th>\n",
       "      <td>BBB</td>\n",
       "      <td>2377</td>\n",
       "    </tr>\n",
       "    <tr>\n",
       "      <th>5</th>\n",
       "      <td>FFF</td>\n",
       "      <td>2380</td>\n",
       "    </tr>\n",
       "  </tbody>\n",
       "</table>\n",
       "</div>"
      ],
      "text/plain": [
       "  code_module  id_student\n",
       "3         DDD        2235\n",
       "1         BBB        2377\n",
       "5         FFF        2380"
      ]
     },
     "execution_count": 52,
     "metadata": {},
     "output_type": "execute_result"
    }
   ],
   "source": [
    "studentRegistration.query('date_unregistration != \"NaN\"') \\\n",
    "                   .groupby('code_module', as_index = False) \\\n",
    "                   .agg({'id_student':'count'}) \\\n",
    "                   .sort_values('id_student') \\\n",
    "                   .tail(3)"
   ]
  },
  {
   "cell_type": "code",
   "execution_count": 53,
   "metadata": {},
   "outputs": [],
   "source": [
    "# Ответ на этот вопрос такой же, как и на первый - три курса с самым большим оттоком: DDD, FFF, BBB\n"
   ]
  },
  {
   "cell_type": "markdown",
   "metadata": {},
   "source": [
    "_______________________________________________________________________________________"
   ]
  },
  {
   "cell_type": "code",
   "execution_count": 54,
   "metadata": {},
   "outputs": [],
   "source": [
    "# 5. Напиши функцию на python, позволяющую строить когортный (семестровый) анализ. \n",
    "# В период с начала 2013 по конец 2014 выяви семестр с самой низкой завершаемостью\n",
    "# курсов и самыми долгими средними сроками сдачи курсов. Описание подхода можно найти тут.(10 баллов) "
   ]
  },
  {
   "cell_type": "code",
   "execution_count": 55,
   "metadata": {},
   "outputs": [],
   "source": [
    "# Перед проведением когортного анализа определяют четыре параметра:\n",
    "\n",
    "# Признак формирования когорты — действие, которое объединяет людей в группу: \n",
    "#     первый визит, покупка, установка, регистрация и т.п.\n",
    "\n",
    "# Размер когорты — временной интервал: день, неделя, месяц.\n",
    "\n",
    "# Отчетный период — время исследования поведения групп.\n",
    "\n",
    "# Анализируемый ключевой показатель: ROI, Retention Rate, LTV и т.д."
   ]
  },
  {
   "cell_type": "code",
   "execution_count": 56,
   "metadata": {},
   "outputs": [
    {
     "data": {
      "text/plain": [
       "array(['2013J', '2014J', '2013B', '2014B'], dtype=object)"
      ]
     },
     "execution_count": 56,
     "metadata": {},
     "output_type": "execute_result"
    }
   ],
   "source": [
    "studentRegistration.code_presentation.unique()\n",
    "# в европейской системе месяц старта курса обозначается по буквам алфавита, где A - January, B - February и т.д. \n",
    "# Таким образом, B - вторые семестры, а J -первые семестры соответствующих годов\n",
    "# Соответственно, буду выделять четыре когорты по признаку формирования когорты - одному из четырех семестров"
   ]
  },
  {
   "cell_type": "code",
   "execution_count": 57,
   "metadata": {},
   "outputs": [
    {
     "data": {
      "text/plain": [
       "array(['AAA', 'BBB', 'CCC', 'DDD', 'EEE', 'FFF', 'GGG'], dtype=object)"
      ]
     },
     "execution_count": 57,
     "metadata": {},
     "output_type": "execute_result"
    }
   ],
   "source": [
    "studentAssessment_full.code_module.unique()"
   ]
  },
  {
   "cell_type": "code",
   "execution_count": 58,
   "metadata": {},
   "outputs": [],
   "source": [
    "def cohort_identification(x):\n",
    "    if x == '2013J':\n",
    "        return('cohort_1')\n",
    "    elif x == '2013B':\n",
    "        return('cohort_2')\n",
    "    elif x == '2014J':\n",
    "        return('cohort_3')\n",
    "    else:\n",
    "        return('cohort_4')\n",
    "#  построение функции, определеяющей когорты"
   ]
  },
  {
   "cell_type": "code",
   "execution_count": 59,
   "metadata": {},
   "outputs": [],
   "source": [
    "studentRegistration['cohort'] = studentRegistration.code_presentation.apply(cohort_identification)\n",
    "\n",
    "# создаем функцию и определяем когорты студентов в соответствии с признаком формирования когорты - семестром поступления"
   ]
  },
  {
   "cell_type": "code",
   "execution_count": 60,
   "metadata": {},
   "outputs": [
    {
     "data": {
      "text/html": [
       "<div>\n",
       "<style scoped>\n",
       "    .dataframe tbody tr th:only-of-type {\n",
       "        vertical-align: middle;\n",
       "    }\n",
       "\n",
       "    .dataframe tbody tr th {\n",
       "        vertical-align: top;\n",
       "    }\n",
       "\n",
       "    .dataframe thead th {\n",
       "        text-align: right;\n",
       "    }\n",
       "</style>\n",
       "<table border=\"1\" class=\"dataframe\">\n",
       "  <thead>\n",
       "    <tr style=\"text-align: right;\">\n",
       "      <th></th>\n",
       "      <th>code_module</th>\n",
       "      <th>code_presentation</th>\n",
       "      <th>id_student</th>\n",
       "      <th>date_registration</th>\n",
       "      <th>date_unregistration</th>\n",
       "      <th>cohort</th>\n",
       "    </tr>\n",
       "  </thead>\n",
       "  <tbody>\n",
       "    <tr>\n",
       "      <th>0</th>\n",
       "      <td>AAA</td>\n",
       "      <td>2013J</td>\n",
       "      <td>11391</td>\n",
       "      <td>-159.0</td>\n",
       "      <td>NaN</td>\n",
       "      <td>cohort_1</td>\n",
       "    </tr>\n",
       "    <tr>\n",
       "      <th>1</th>\n",
       "      <td>AAA</td>\n",
       "      <td>2013J</td>\n",
       "      <td>28400</td>\n",
       "      <td>-53.0</td>\n",
       "      <td>NaN</td>\n",
       "      <td>cohort_1</td>\n",
       "    </tr>\n",
       "    <tr>\n",
       "      <th>2</th>\n",
       "      <td>AAA</td>\n",
       "      <td>2013J</td>\n",
       "      <td>30268</td>\n",
       "      <td>-92.0</td>\n",
       "      <td>12.0</td>\n",
       "      <td>cohort_1</td>\n",
       "    </tr>\n",
       "    <tr>\n",
       "      <th>3</th>\n",
       "      <td>AAA</td>\n",
       "      <td>2013J</td>\n",
       "      <td>31604</td>\n",
       "      <td>-52.0</td>\n",
       "      <td>NaN</td>\n",
       "      <td>cohort_1</td>\n",
       "    </tr>\n",
       "    <tr>\n",
       "      <th>4</th>\n",
       "      <td>AAA</td>\n",
       "      <td>2013J</td>\n",
       "      <td>32885</td>\n",
       "      <td>-176.0</td>\n",
       "      <td>NaN</td>\n",
       "      <td>cohort_1</td>\n",
       "    </tr>\n",
       "  </tbody>\n",
       "</table>\n",
       "</div>"
      ],
      "text/plain": [
       "  code_module code_presentation  id_student  date_registration  \\\n",
       "0         AAA             2013J       11391             -159.0   \n",
       "1         AAA             2013J       28400              -53.0   \n",
       "2         AAA             2013J       30268              -92.0   \n",
       "3         AAA             2013J       31604              -52.0   \n",
       "4         AAA             2013J       32885             -176.0   \n",
       "\n",
       "   date_unregistration    cohort  \n",
       "0                  NaN  cohort_1  \n",
       "1                  NaN  cohort_1  \n",
       "2                 12.0  cohort_1  \n",
       "3                  NaN  cohort_1  \n",
       "4                  NaN  cohort_1  "
      ]
     },
     "execution_count": 60,
     "metadata": {},
     "output_type": "execute_result"
    }
   ],
   "source": [
    "studentRegistration.head()"
   ]
  },
  {
   "cell_type": "code",
   "execution_count": 61,
   "metadata": {},
   "outputs": [],
   "source": [
    "# надо придумать метрику по завершаемости - что считать завершенным курсом?\n",
    "# семестр code_presentation - > внутри семестра есть предметы code_module - > \n",
    "# внутри предметов есть оценивания id_assessment - > weight — вес теста в % в оценке за курс. \n",
    "# Обычно экзамены рассматриваются отдельно и имеют вес 100%; сумма всех остальных оценок составляет 100%."
   ]
  },
  {
   "cell_type": "code",
   "execution_count": 62,
   "metadata": {},
   "outputs": [
    {
     "data": {
      "text/html": [
       "<div>\n",
       "<style scoped>\n",
       "    .dataframe tbody tr th:only-of-type {\n",
       "        vertical-align: middle;\n",
       "    }\n",
       "\n",
       "    .dataframe tbody tr th {\n",
       "        vertical-align: top;\n",
       "    }\n",
       "\n",
       "    .dataframe thead th {\n",
       "        text-align: right;\n",
       "    }\n",
       "</style>\n",
       "<table border=\"1\" class=\"dataframe\">\n",
       "  <thead>\n",
       "    <tr style=\"text-align: right;\">\n",
       "      <th></th>\n",
       "      <th>id_assessment</th>\n",
       "      <th>id_student</th>\n",
       "      <th>date_submitted</th>\n",
       "      <th>is_banked</th>\n",
       "      <th>score</th>\n",
       "      <th>PassOrFail</th>\n",
       "    </tr>\n",
       "  </thead>\n",
       "  <tbody>\n",
       "    <tr>\n",
       "      <th>0</th>\n",
       "      <td>1752</td>\n",
       "      <td>11391</td>\n",
       "      <td>18</td>\n",
       "      <td>0</td>\n",
       "      <td>78.0</td>\n",
       "      <td>True</td>\n",
       "    </tr>\n",
       "    <tr>\n",
       "      <th>1</th>\n",
       "      <td>1752</td>\n",
       "      <td>28400</td>\n",
       "      <td>22</td>\n",
       "      <td>0</td>\n",
       "      <td>70.0</td>\n",
       "      <td>True</td>\n",
       "    </tr>\n",
       "    <tr>\n",
       "      <th>2</th>\n",
       "      <td>1752</td>\n",
       "      <td>31604</td>\n",
       "      <td>17</td>\n",
       "      <td>0</td>\n",
       "      <td>72.0</td>\n",
       "      <td>True</td>\n",
       "    </tr>\n",
       "    <tr>\n",
       "      <th>3</th>\n",
       "      <td>1752</td>\n",
       "      <td>32885</td>\n",
       "      <td>26</td>\n",
       "      <td>0</td>\n",
       "      <td>69.0</td>\n",
       "      <td>True</td>\n",
       "    </tr>\n",
       "    <tr>\n",
       "      <th>4</th>\n",
       "      <td>1752</td>\n",
       "      <td>38053</td>\n",
       "      <td>19</td>\n",
       "      <td>0</td>\n",
       "      <td>79.0</td>\n",
       "      <td>True</td>\n",
       "    </tr>\n",
       "  </tbody>\n",
       "</table>\n",
       "</div>"
      ],
      "text/plain": [
       "   id_assessment  id_student  date_submitted  is_banked  score  PassOrFail\n",
       "0           1752       11391              18          0   78.0        True\n",
       "1           1752       28400              22          0   70.0        True\n",
       "2           1752       31604              17          0   72.0        True\n",
       "3           1752       32885              26          0   69.0        True\n",
       "4           1752       38053              19          0   79.0        True"
      ]
     },
     "execution_count": 62,
     "metadata": {},
     "output_type": "execute_result"
    }
   ],
   "source": [
    "studentAssessment.head()"
   ]
  },
  {
   "cell_type": "code",
   "execution_count": 63,
   "metadata": {},
   "outputs": [],
   "source": [
    "cohorts_stats = studentAssessment.merge(studentRegistration, on = 'id_student', how = 'left')"
   ]
  },
  {
   "cell_type": "code",
   "execution_count": 64,
   "metadata": {},
   "outputs": [
    {
     "data": {
      "text/html": [
       "<div>\n",
       "<style scoped>\n",
       "    .dataframe tbody tr th:only-of-type {\n",
       "        vertical-align: middle;\n",
       "    }\n",
       "\n",
       "    .dataframe tbody tr th {\n",
       "        vertical-align: top;\n",
       "    }\n",
       "\n",
       "    .dataframe thead th {\n",
       "        text-align: right;\n",
       "    }\n",
       "</style>\n",
       "<table border=\"1\" class=\"dataframe\">\n",
       "  <thead>\n",
       "    <tr style=\"text-align: right;\">\n",
       "      <th></th>\n",
       "      <th>id_assessment</th>\n",
       "      <th>id_student</th>\n",
       "      <th>date_submitted</th>\n",
       "      <th>is_banked</th>\n",
       "      <th>score</th>\n",
       "      <th>PassOrFail</th>\n",
       "      <th>code_module</th>\n",
       "      <th>code_presentation</th>\n",
       "      <th>date_registration</th>\n",
       "      <th>date_unregistration</th>\n",
       "      <th>cohort</th>\n",
       "    </tr>\n",
       "  </thead>\n",
       "  <tbody>\n",
       "    <tr>\n",
       "      <th>0</th>\n",
       "      <td>1752</td>\n",
       "      <td>11391</td>\n",
       "      <td>18</td>\n",
       "      <td>0</td>\n",
       "      <td>78.0</td>\n",
       "      <td>True</td>\n",
       "      <td>AAA</td>\n",
       "      <td>2013J</td>\n",
       "      <td>-159.0</td>\n",
       "      <td>NaN</td>\n",
       "      <td>cohort_1</td>\n",
       "    </tr>\n",
       "    <tr>\n",
       "      <th>1</th>\n",
       "      <td>1752</td>\n",
       "      <td>28400</td>\n",
       "      <td>22</td>\n",
       "      <td>0</td>\n",
       "      <td>70.0</td>\n",
       "      <td>True</td>\n",
       "      <td>AAA</td>\n",
       "      <td>2013J</td>\n",
       "      <td>-53.0</td>\n",
       "      <td>NaN</td>\n",
       "      <td>cohort_1</td>\n",
       "    </tr>\n",
       "    <tr>\n",
       "      <th>2</th>\n",
       "      <td>1752</td>\n",
       "      <td>31604</td>\n",
       "      <td>17</td>\n",
       "      <td>0</td>\n",
       "      <td>72.0</td>\n",
       "      <td>True</td>\n",
       "      <td>AAA</td>\n",
       "      <td>2013J</td>\n",
       "      <td>-52.0</td>\n",
       "      <td>NaN</td>\n",
       "      <td>cohort_1</td>\n",
       "    </tr>\n",
       "    <tr>\n",
       "      <th>3</th>\n",
       "      <td>1752</td>\n",
       "      <td>32885</td>\n",
       "      <td>26</td>\n",
       "      <td>0</td>\n",
       "      <td>69.0</td>\n",
       "      <td>True</td>\n",
       "      <td>AAA</td>\n",
       "      <td>2013J</td>\n",
       "      <td>-176.0</td>\n",
       "      <td>NaN</td>\n",
       "      <td>cohort_1</td>\n",
       "    </tr>\n",
       "    <tr>\n",
       "      <th>4</th>\n",
       "      <td>1752</td>\n",
       "      <td>38053</td>\n",
       "      <td>19</td>\n",
       "      <td>0</td>\n",
       "      <td>79.0</td>\n",
       "      <td>True</td>\n",
       "      <td>AAA</td>\n",
       "      <td>2013J</td>\n",
       "      <td>-110.0</td>\n",
       "      <td>NaN</td>\n",
       "      <td>cohort_1</td>\n",
       "    </tr>\n",
       "  </tbody>\n",
       "</table>\n",
       "</div>"
      ],
      "text/plain": [
       "   id_assessment  id_student  date_submitted  is_banked  score  PassOrFail  \\\n",
       "0           1752       11391              18          0   78.0        True   \n",
       "1           1752       28400              22          0   70.0        True   \n",
       "2           1752       31604              17          0   72.0        True   \n",
       "3           1752       32885              26          0   69.0        True   \n",
       "4           1752       38053              19          0   79.0        True   \n",
       "\n",
       "  code_module code_presentation  date_registration  date_unregistration  \\\n",
       "0         AAA             2013J             -159.0                  NaN   \n",
       "1         AAA             2013J              -53.0                  NaN   \n",
       "2         AAA             2013J              -52.0                  NaN   \n",
       "3         AAA             2013J             -176.0                  NaN   \n",
       "4         AAA             2013J             -110.0                  NaN   \n",
       "\n",
       "     cohort  \n",
       "0  cohort_1  \n",
       "1  cohort_1  \n",
       "2  cohort_1  \n",
       "3  cohort_1  \n",
       "4  cohort_1  "
      ]
     },
     "execution_count": 64,
     "metadata": {},
     "output_type": "execute_result"
    }
   ],
   "source": [
    "cohorts_stats.head()"
   ]
  },
  {
   "cell_type": "code",
   "execution_count": 65,
   "metadata": {},
   "outputs": [],
   "source": [
    "cohorts_stats_passed = cohorts_stats.query('score >= 40') \\\n",
    "             .groupby(['cohort','code_presentation', 'code_module'], as_index = False) \\\n",
    "             .agg({'id_student':'count'})"
   ]
  },
  {
   "cell_type": "code",
   "execution_count": 66,
   "metadata": {
    "scrolled": true
   },
   "outputs": [
    {
     "data": {
      "text/plain": [
       "<seaborn.axisgrid.FacetGrid at 0x7fc87a177710>"
      ]
     },
     "execution_count": 66,
     "metadata": {},
     "output_type": "execute_result"
    },
    {
     "data": {
      "image/png": "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\n",
      "text/plain": [
       "<Figure size 360x360 with 1 Axes>"
      ]
     },
     "metadata": {
      "needs_background": "light"
     },
     "output_type": "display_data"
    }
   ],
   "source": [
    "sns.displot(cohorts_stats_passed, x='code_presentation', y='cohort',)"
   ]
  },
  {
   "cell_type": "code",
   "execution_count": 67,
   "metadata": {},
   "outputs": [
    {
     "data": {
      "text/html": [
       "<div>\n",
       "<style scoped>\n",
       "    .dataframe tbody tr th:only-of-type {\n",
       "        vertical-align: middle;\n",
       "    }\n",
       "\n",
       "    .dataframe tbody tr th {\n",
       "        vertical-align: top;\n",
       "    }\n",
       "\n",
       "    .dataframe thead th {\n",
       "        text-align: right;\n",
       "    }\n",
       "</style>\n",
       "<table border=\"1\" class=\"dataframe\">\n",
       "  <thead>\n",
       "    <tr style=\"text-align: right;\">\n",
       "      <th></th>\n",
       "      <th>code_presentation</th>\n",
       "      <th>students_passed_avg</th>\n",
       "    </tr>\n",
       "  </thead>\n",
       "  <tbody>\n",
       "    <tr>\n",
       "      <th>0</th>\n",
       "      <td>2013B</td>\n",
       "      <td>11523.000000</td>\n",
       "    </tr>\n",
       "    <tr>\n",
       "      <th>1</th>\n",
       "      <td>2013J</td>\n",
       "      <td>8977.833333</td>\n",
       "    </tr>\n",
       "    <tr>\n",
       "      <th>2</th>\n",
       "      <td>2014B</td>\n",
       "      <td>7884.833333</td>\n",
       "    </tr>\n",
       "    <tr>\n",
       "      <th>3</th>\n",
       "      <td>2014J</td>\n",
       "      <td>8763.714286</td>\n",
       "    </tr>\n",
       "  </tbody>\n",
       "</table>\n",
       "</div>"
      ],
      "text/plain": [
       "  code_presentation  students_passed_avg\n",
       "0             2013B         11523.000000\n",
       "1             2013J          8977.833333\n",
       "2             2014B          7884.833333\n",
       "3             2014J          8763.714286"
      ]
     },
     "execution_count": 67,
     "metadata": {},
     "output_type": "execute_result"
    }
   ],
   "source": [
    "cohorts_stats.query('score >= 40') \\\n",
    "             .groupby(['cohort','code_presentation', 'code_module'], as_index = False) \\\n",
    "             .agg({'id_student':'count'}) \\\n",
    "             .groupby('code_presentation', as_index = False) \\\n",
    "             .agg({'id_student':'mean'}) \\\n",
    "             .rename(columns = {'id_student': 'students_passed_avg'})"
   ]
  },
  {
   "cell_type": "code",
   "execution_count": 71,
   "metadata": {},
   "outputs": [],
   "source": [
    "# переменная students_passed_avg как раз и показывает, сколько в среднем студентов \n",
    "# в разбивке на когорты сдавало предметы в рамках каждого семестра.\n",
    "# Второй семестр 2014 года характеризуется самой низкой средней завершаемостью"
   ]
  },
  {
   "cell_type": "markdown",
   "metadata": {},
   "source": [
    "_____________________________________________________________________"
   ]
  },
  {
   "cell_type": "code",
   "execution_count": 69,
   "metadata": {},
   "outputs": [],
   "source": [
    "# 6. Часто для качественного анализа аудитории использую подходы, основанные на сегментации. \n",
    "# Используя python, построй адаптированные RFM-кластеры студентов, чтобы качественно оценить \n",
    "# свою аудиторию. В адаптированной кластеризации можешь выбрать следующие метрики: R - среднее\n",
    "#     время сдачи одного экзамена, F - завершаемость курсов, M - среднее количество баллов,\n",
    "#     получаемое за экзамен. Подробно опиши, как ты создавал кластеры. Для каждого RFM-сегмента\n",
    "#     построй границы метрик recency, frequency и monetary для интерпретации этих кластеров. \n",
    "#     Пример такого описания: RFM-сегмент 132 (recency=1, frequency=3, monetary=2) имеет границы \n",
    "#         метрик recency от 130 до 500 дней, frequency от 0.1 до 0.5, monetary от 55 до 72 баллов.\n",
    "#         Описание подхода можно найти тут. (35 баллов)"
   ]
  },
  {
   "cell_type": "code",
   "execution_count": 70,
   "metadata": {},
   "outputs": [],
   "source": [
    "# # С rfm может я упростила всё, но мне показалось не сложно, посчитала каждую метрику, \n",
    "# которая в задании написана и по describe прикинула на какие кластеры разбить, чтобы было логично,\n",
    "# за кем было бы удобно следить как за единой группой"
   ]
  },
  {
   "cell_type": "code",
   "execution_count": 74,
   "metadata": {},
   "outputs": [],
   "source": [
    "# R - среднее  время сдачи одного экзамена. Для расчета этого показателя нам понадобится посмотреть на экзамены и их сдаваемость"
   ]
  },
  {
   "cell_type": "code",
   "execution_count": 75,
   "metadata": {},
   "outputs": [
    {
     "data": {
      "text/html": [
       "<div>\n",
       "<style scoped>\n",
       "    .dataframe tbody tr th:only-of-type {\n",
       "        vertical-align: middle;\n",
       "    }\n",
       "\n",
       "    .dataframe tbody tr th {\n",
       "        vertical-align: top;\n",
       "    }\n",
       "\n",
       "    .dataframe thead th {\n",
       "        text-align: right;\n",
       "    }\n",
       "</style>\n",
       "<table border=\"1\" class=\"dataframe\">\n",
       "  <thead>\n",
       "    <tr style=\"text-align: right;\">\n",
       "      <th></th>\n",
       "      <th>code_module</th>\n",
       "      <th>code_presentation</th>\n",
       "      <th>id_assessment</th>\n",
       "      <th>assessment_type</th>\n",
       "      <th>date</th>\n",
       "      <th>weight</th>\n",
       "    </tr>\n",
       "  </thead>\n",
       "  <tbody>\n",
       "    <tr>\n",
       "      <th>0</th>\n",
       "      <td>AAA</td>\n",
       "      <td>2013J</td>\n",
       "      <td>1752</td>\n",
       "      <td>TMA</td>\n",
       "      <td>19.0</td>\n",
       "      <td>10.0</td>\n",
       "    </tr>\n",
       "    <tr>\n",
       "      <th>1</th>\n",
       "      <td>AAA</td>\n",
       "      <td>2013J</td>\n",
       "      <td>1753</td>\n",
       "      <td>TMA</td>\n",
       "      <td>54.0</td>\n",
       "      <td>20.0</td>\n",
       "    </tr>\n",
       "    <tr>\n",
       "      <th>2</th>\n",
       "      <td>AAA</td>\n",
       "      <td>2013J</td>\n",
       "      <td>1754</td>\n",
       "      <td>TMA</td>\n",
       "      <td>117.0</td>\n",
       "      <td>20.0</td>\n",
       "    </tr>\n",
       "    <tr>\n",
       "      <th>3</th>\n",
       "      <td>AAA</td>\n",
       "      <td>2013J</td>\n",
       "      <td>1755</td>\n",
       "      <td>TMA</td>\n",
       "      <td>166.0</td>\n",
       "      <td>20.0</td>\n",
       "    </tr>\n",
       "    <tr>\n",
       "      <th>4</th>\n",
       "      <td>AAA</td>\n",
       "      <td>2013J</td>\n",
       "      <td>1756</td>\n",
       "      <td>TMA</td>\n",
       "      <td>215.0</td>\n",
       "      <td>30.0</td>\n",
       "    </tr>\n",
       "  </tbody>\n",
       "</table>\n",
       "</div>"
      ],
      "text/plain": [
       "  code_module code_presentation  id_assessment assessment_type   date  weight\n",
       "0         AAA             2013J           1752             TMA   19.0    10.0\n",
       "1         AAA             2013J           1753             TMA   54.0    20.0\n",
       "2         AAA             2013J           1754             TMA  117.0    20.0\n",
       "3         AAA             2013J           1755             TMA  166.0    20.0\n",
       "4         AAA             2013J           1756             TMA  215.0    30.0"
      ]
     },
     "execution_count": 75,
     "metadata": {},
     "output_type": "execute_result"
    }
   ],
   "source": [
    "assessments.head()"
   ]
  },
  {
   "cell_type": "code",
   "execution_count": 101,
   "metadata": {},
   "outputs": [
    {
     "data": {
      "text/plain": [
       "array([ 19.,  54., 117., 166., 215.,  nan,  89., 124., 159., 187.,  47.,\n",
       "        96., 131., 208.,  82., 152., 194.,  12.,  40., 110., 201.,  18.,\n",
       "        67., 137., 207.,  32., 102., 151., 200., 144., 214., 109., 158.,\n",
       "        23.,  51.,  79., 114., 149., 170., 206.,  25.,  53.,  81., 116.,\n",
       "       240.,  88., 123., 165., 261.,  74., 241.,  20.,  41.,  62., 111.,\n",
       "       146., 195.,  33.,  68., 235., 228., 222., 236., 173., 227.,  24.,\n",
       "        52.,  87., 129., 171.,  94., 136., 199., 229.,  61.])"
      ]
     },
     "execution_count": 101,
     "metadata": {},
     "output_type": "execute_result"
    }
   ],
   "source": [
    "assessments.date.unique()"
   ]
  },
  {
   "cell_type": "code",
   "execution_count": 102,
   "metadata": {},
   "outputs": [],
   "source": [
    "# NaN в столбце date лучше удалить"
   ]
  },
  {
   "cell_type": "code",
   "execution_count": 118,
   "metadata": {},
   "outputs": [],
   "source": [
    "assessments_rfm =  assessments.dropna().groupby('id_assessment', as_index = False) \\\n",
    "                                       .agg({'date':'mean'}) \\\n",
    "                                       .sort_values('date')"
   ]
  },
  {
   "cell_type": "code",
   "execution_count": 119,
   "metadata": {},
   "outputs": [],
   "source": [
    "# График распределения"
   ]
  },
  {
   "cell_type": "code",
   "execution_count": 125,
   "metadata": {},
   "outputs": [
    {
     "data": {
      "text/plain": [
       "<matplotlib.axes._subplots.AxesSubplot at 0x7fc87245a780>"
      ]
     },
     "execution_count": 125,
     "metadata": {},
     "output_type": "execute_result"
    },
    {
     "data": {
      "image/png": "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\n",
      "text/plain": [
       "<Figure size 432x288 with 1 Axes>"
      ]
     },
     "metadata": {
      "needs_background": "light"
     },
     "output_type": "display_data"
    }
   ],
   "source": [
    "sns.boxplot(assessments_rfm.date)"
   ]
  },
  {
   "cell_type": "code",
   "execution_count": 122,
   "metadata": {},
   "outputs": [
    {
     "data": {
      "text/html": [
       "<div>\n",
       "<style scoped>\n",
       "    .dataframe tbody tr th:only-of-type {\n",
       "        vertical-align: middle;\n",
       "    }\n",
       "\n",
       "    .dataframe tbody tr th {\n",
       "        vertical-align: top;\n",
       "    }\n",
       "\n",
       "    .dataframe thead th {\n",
       "        text-align: right;\n",
       "    }\n",
       "</style>\n",
       "<table border=\"1\" class=\"dataframe\">\n",
       "  <thead>\n",
       "    <tr style=\"text-align: right;\">\n",
       "      <th></th>\n",
       "      <th>id_assessment</th>\n",
       "      <th>date</th>\n",
       "    </tr>\n",
       "  </thead>\n",
       "  <tbody>\n",
       "    <tr>\n",
       "      <th>count</th>\n",
       "      <td>195.000000</td>\n",
       "      <td>195.000000</td>\n",
       "    </tr>\n",
       "    <tr>\n",
       "      <th>mean</th>\n",
       "      <td>26851.056410</td>\n",
       "      <td>145.005128</td>\n",
       "    </tr>\n",
       "    <tr>\n",
       "      <th>std</th>\n",
       "      <td>9830.992674</td>\n",
       "      <td>76.001119</td>\n",
       "    </tr>\n",
       "    <tr>\n",
       "      <th>min</th>\n",
       "      <td>1752.000000</td>\n",
       "      <td>12.000000</td>\n",
       "    </tr>\n",
       "    <tr>\n",
       "      <th>25%</th>\n",
       "      <td>24282.500000</td>\n",
       "      <td>71.000000</td>\n",
       "    </tr>\n",
       "    <tr>\n",
       "      <th>50%</th>\n",
       "      <td>25367.000000</td>\n",
       "      <td>152.000000</td>\n",
       "    </tr>\n",
       "    <tr>\n",
       "      <th>75%</th>\n",
       "      <td>34892.500000</td>\n",
       "      <td>222.000000</td>\n",
       "    </tr>\n",
       "    <tr>\n",
       "      <th>max</th>\n",
       "      <td>37444.000000</td>\n",
       "      <td>261.000000</td>\n",
       "    </tr>\n",
       "  </tbody>\n",
       "</table>\n",
       "</div>"
      ],
      "text/plain": [
       "       id_assessment        date\n",
       "count     195.000000  195.000000\n",
       "mean    26851.056410  145.005128\n",
       "std      9830.992674   76.001119\n",
       "min      1752.000000   12.000000\n",
       "25%     24282.500000   71.000000\n",
       "50%     25367.000000  152.000000\n",
       "75%     34892.500000  222.000000\n",
       "max     37444.000000  261.000000"
      ]
     },
     "execution_count": 122,
     "metadata": {},
     "output_type": "execute_result"
    }
   ],
   "source": [
    "assessments_rfm.describe()"
   ]
  },
  {
   "cell_type": "code",
   "execution_count": 126,
   "metadata": {},
   "outputs": [],
   "source": [
    "# Задаем параметр Recency\n",
    "#  1 - меньше или равно 71\n",
    "#  2 - между 72 и 151\n",
    "#  3 - между 151 и 222\n",
    "# 4 - 223 и больше"
   ]
  },
  {
   "cell_type": "code",
   "execution_count": 130,
   "metadata": {},
   "outputs": [],
   "source": [
    "#  Теперь определим параметр F (завершаемость курсов)"
   ]
  },
  {
   "cell_type": "code",
   "execution_count": 131,
   "metadata": {},
   "outputs": [
    {
     "data": {
      "text/html": [
       "<div>\n",
       "<style scoped>\n",
       "    .dataframe tbody tr th:only-of-type {\n",
       "        vertical-align: middle;\n",
       "    }\n",
       "\n",
       "    .dataframe tbody tr th {\n",
       "        vertical-align: top;\n",
       "    }\n",
       "\n",
       "    .dataframe thead th {\n",
       "        text-align: right;\n",
       "    }\n",
       "</style>\n",
       "<table border=\"1\" class=\"dataframe\">\n",
       "  <thead>\n",
       "    <tr style=\"text-align: right;\">\n",
       "      <th></th>\n",
       "      <th>id_assessment</th>\n",
       "      <th>id_student</th>\n",
       "      <th>date_submitted</th>\n",
       "      <th>is_banked</th>\n",
       "      <th>score</th>\n",
       "      <th>PassOrFail</th>\n",
       "    </tr>\n",
       "  </thead>\n",
       "  <tbody>\n",
       "    <tr>\n",
       "      <th>0</th>\n",
       "      <td>1752</td>\n",
       "      <td>11391</td>\n",
       "      <td>18</td>\n",
       "      <td>0</td>\n",
       "      <td>78.0</td>\n",
       "      <td>True</td>\n",
       "    </tr>\n",
       "    <tr>\n",
       "      <th>1</th>\n",
       "      <td>1752</td>\n",
       "      <td>28400</td>\n",
       "      <td>22</td>\n",
       "      <td>0</td>\n",
       "      <td>70.0</td>\n",
       "      <td>True</td>\n",
       "    </tr>\n",
       "    <tr>\n",
       "      <th>2</th>\n",
       "      <td>1752</td>\n",
       "      <td>31604</td>\n",
       "      <td>17</td>\n",
       "      <td>0</td>\n",
       "      <td>72.0</td>\n",
       "      <td>True</td>\n",
       "    </tr>\n",
       "    <tr>\n",
       "      <th>3</th>\n",
       "      <td>1752</td>\n",
       "      <td>32885</td>\n",
       "      <td>26</td>\n",
       "      <td>0</td>\n",
       "      <td>69.0</td>\n",
       "      <td>True</td>\n",
       "    </tr>\n",
       "    <tr>\n",
       "      <th>4</th>\n",
       "      <td>1752</td>\n",
       "      <td>38053</td>\n",
       "      <td>19</td>\n",
       "      <td>0</td>\n",
       "      <td>79.0</td>\n",
       "      <td>True</td>\n",
       "    </tr>\n",
       "  </tbody>\n",
       "</table>\n",
       "</div>"
      ],
      "text/plain": [
       "   id_assessment  id_student  date_submitted  is_banked  score  PassOrFail\n",
       "0           1752       11391              18          0   78.0        True\n",
       "1           1752       28400              22          0   70.0        True\n",
       "2           1752       31604              17          0   72.0        True\n",
       "3           1752       32885              26          0   69.0        True\n",
       "4           1752       38053              19          0   79.0        True"
      ]
     },
     "execution_count": 131,
     "metadata": {},
     "output_type": "execute_result"
    }
   ],
   "source": [
    "studentAssessment.head()"
   ]
  },
  {
   "cell_type": "code",
   "execution_count": null,
   "metadata": {},
   "outputs": [],
   "source": [
    "# Используем расчитанный столбец PassOrFail. Определим частоту завершаемости курсов"
   ]
  },
  {
   "cell_type": "code",
   "execution_count": 136,
   "metadata": {},
   "outputs": [],
   "source": [
    "studentAssessment_F_rate = studentAssessment.query('PassOrFail == True').groupby(['id_student'], as_index = False) \\\n",
    "                 .agg({'PassOrFail':'count'})"
   ]
  },
  {
   "cell_type": "code",
   "execution_count": 154,
   "metadata": {},
   "outputs": [],
   "source": [
    "studentAssessment_F_rate['F_rate'] =  studentAssessment_F_rate.PassOrFail / studentAssessment_F_rate.PassOrFail.max()"
   ]
  },
  {
   "cell_type": "code",
   "execution_count": null,
   "metadata": {},
   "outputs": [],
   "source": [
    "# За точку отсчета берется максимальное число курсов, пройденных любым студентом"
   ]
  },
  {
   "cell_type": "code",
   "execution_count": 155,
   "metadata": {
    "scrolled": true
   },
   "outputs": [
    {
     "data": {
      "text/html": [
       "<div>\n",
       "<style scoped>\n",
       "    .dataframe tbody tr th:only-of-type {\n",
       "        vertical-align: middle;\n",
       "    }\n",
       "\n",
       "    .dataframe tbody tr th {\n",
       "        vertical-align: top;\n",
       "    }\n",
       "\n",
       "    .dataframe thead th {\n",
       "        text-align: right;\n",
       "    }\n",
       "</style>\n",
       "<table border=\"1\" class=\"dataframe\">\n",
       "  <thead>\n",
       "    <tr style=\"text-align: right;\">\n",
       "      <th></th>\n",
       "      <th>id_student</th>\n",
       "      <th>PassOrFail</th>\n",
       "      <th>F_rate</th>\n",
       "    </tr>\n",
       "  </thead>\n",
       "  <tbody>\n",
       "    <tr>\n",
       "      <th>0</th>\n",
       "      <td>6516</td>\n",
       "      <td>5</td>\n",
       "      <td>0.178571</td>\n",
       "    </tr>\n",
       "    <tr>\n",
       "      <th>1</th>\n",
       "      <td>8462</td>\n",
       "      <td>7</td>\n",
       "      <td>0.250000</td>\n",
       "    </tr>\n",
       "    <tr>\n",
       "      <th>2</th>\n",
       "      <td>11391</td>\n",
       "      <td>5</td>\n",
       "      <td>0.178571</td>\n",
       "    </tr>\n",
       "    <tr>\n",
       "      <th>3</th>\n",
       "      <td>23629</td>\n",
       "      <td>4</td>\n",
       "      <td>0.142857</td>\n",
       "    </tr>\n",
       "    <tr>\n",
       "      <th>4</th>\n",
       "      <td>23698</td>\n",
       "      <td>9</td>\n",
       "      <td>0.321429</td>\n",
       "    </tr>\n",
       "  </tbody>\n",
       "</table>\n",
       "</div>"
      ],
      "text/plain": [
       "   id_student  PassOrFail    F_rate\n",
       "0        6516           5  0.178571\n",
       "1        8462           7  0.250000\n",
       "2       11391           5  0.178571\n",
       "3       23629           4  0.142857\n",
       "4       23698           9  0.321429"
      ]
     },
     "execution_count": 155,
     "metadata": {},
     "output_type": "execute_result"
    }
   ],
   "source": [
    "studentAssessment_F_rate.head()"
   ]
  },
  {
   "cell_type": "code",
   "execution_count": 156,
   "metadata": {},
   "outputs": [
    {
     "name": "stderr",
     "output_type": "stream",
     "text": [
      "/opt/tljh/user/lib/python3.7/site-packages/seaborn/_decorators.py:43: FutureWarning:\n",
      "\n",
      "Pass the following variable as a keyword arg: x. From version 0.12, the only valid positional argument will be `data`, and passing other arguments without an explicit keyword will result in an error or misinterpretation.\n",
      "\n"
     ]
    },
    {
     "data": {
      "text/plain": [
       "<matplotlib.axes._subplots.AxesSubplot at 0x7fc872181390>"
      ]
     },
     "execution_count": 156,
     "metadata": {},
     "output_type": "execute_result"
    },
    {
     "data": {
      "image/png": "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\n",
      "text/plain": [
       "<Figure size 432x288 with 1 Axes>"
      ]
     },
     "metadata": {
      "needs_background": "light"
     },
     "output_type": "display_data"
    }
   ],
   "source": [
    "sns.boxplot(studentAssessment_F_rate.F_rate)"
   ]
  },
  {
   "cell_type": "code",
   "execution_count": 157,
   "metadata": {},
   "outputs": [
    {
     "data": {
      "text/plain": [
       "count    22973.000000\n",
       "mean         0.258317\n",
       "std          0.149005\n",
       "min          0.035714\n",
       "25%          0.142857\n",
       "50%          0.250000\n",
       "75%          0.392857\n",
       "max          1.000000\n",
       "Name: F_rate, dtype: float64"
      ]
     },
     "execution_count": 157,
     "metadata": {},
     "output_type": "execute_result"
    }
   ],
   "source": [
    "studentAssessment_F_rate.F_rate.describe()"
   ]
  },
  {
   "cell_type": "code",
   "execution_count": 158,
   "metadata": {},
   "outputs": [],
   "source": [
    "#  Определим параметр Frequency следующим образом\n",
    "#  1 - меньше или равно 0.143\n",
    "#  2 - от 0.144 до 0.250\n",
    "#  3  - от 0.251 до 0.392\n",
    "#  4 - 0.393 и выше"
   ]
  },
  {
   "cell_type": "code",
   "execution_count": 161,
   "metadata": {},
   "outputs": [],
   "source": [
    "# Посчитаем M - среднее количество баллов за экзамен"
   ]
  },
  {
   "cell_type": "code",
   "execution_count": 162,
   "metadata": {},
   "outputs": [
    {
     "data": {
      "text/html": [
       "<div>\n",
       "<style scoped>\n",
       "    .dataframe tbody tr th:only-of-type {\n",
       "        vertical-align: middle;\n",
       "    }\n",
       "\n",
       "    .dataframe tbody tr th {\n",
       "        vertical-align: top;\n",
       "    }\n",
       "\n",
       "    .dataframe thead th {\n",
       "        text-align: right;\n",
       "    }\n",
       "</style>\n",
       "<table border=\"1\" class=\"dataframe\">\n",
       "  <thead>\n",
       "    <tr style=\"text-align: right;\">\n",
       "      <th></th>\n",
       "      <th>id_assessment</th>\n",
       "      <th>id_student</th>\n",
       "      <th>date_submitted</th>\n",
       "      <th>is_banked</th>\n",
       "      <th>score</th>\n",
       "      <th>PassOrFail</th>\n",
       "    </tr>\n",
       "  </thead>\n",
       "  <tbody>\n",
       "    <tr>\n",
       "      <th>0</th>\n",
       "      <td>1752</td>\n",
       "      <td>11391</td>\n",
       "      <td>18</td>\n",
       "      <td>0</td>\n",
       "      <td>78.0</td>\n",
       "      <td>True</td>\n",
       "    </tr>\n",
       "    <tr>\n",
       "      <th>1</th>\n",
       "      <td>1752</td>\n",
       "      <td>28400</td>\n",
       "      <td>22</td>\n",
       "      <td>0</td>\n",
       "      <td>70.0</td>\n",
       "      <td>True</td>\n",
       "    </tr>\n",
       "    <tr>\n",
       "      <th>2</th>\n",
       "      <td>1752</td>\n",
       "      <td>31604</td>\n",
       "      <td>17</td>\n",
       "      <td>0</td>\n",
       "      <td>72.0</td>\n",
       "      <td>True</td>\n",
       "    </tr>\n",
       "    <tr>\n",
       "      <th>3</th>\n",
       "      <td>1752</td>\n",
       "      <td>32885</td>\n",
       "      <td>26</td>\n",
       "      <td>0</td>\n",
       "      <td>69.0</td>\n",
       "      <td>True</td>\n",
       "    </tr>\n",
       "    <tr>\n",
       "      <th>4</th>\n",
       "      <td>1752</td>\n",
       "      <td>38053</td>\n",
       "      <td>19</td>\n",
       "      <td>0</td>\n",
       "      <td>79.0</td>\n",
       "      <td>True</td>\n",
       "    </tr>\n",
       "  </tbody>\n",
       "</table>\n",
       "</div>"
      ],
      "text/plain": [
       "   id_assessment  id_student  date_submitted  is_banked  score  PassOrFail\n",
       "0           1752       11391              18          0   78.0        True\n",
       "1           1752       28400              22          0   70.0        True\n",
       "2           1752       31604              17          0   72.0        True\n",
       "3           1752       32885              26          0   69.0        True\n",
       "4           1752       38053              19          0   79.0        True"
      ]
     },
     "execution_count": 162,
     "metadata": {},
     "output_type": "execute_result"
    }
   ],
   "source": [
    "studentAssessment.head()\n"
   ]
  },
  {
   "cell_type": "code",
   "execution_count": 163,
   "metadata": {},
   "outputs": [
    {
     "name": "stderr",
     "output_type": "stream",
     "text": [
      "/opt/tljh/user/lib/python3.7/site-packages/seaborn/_decorators.py:43: FutureWarning:\n",
      "\n",
      "Pass the following variable as a keyword arg: x. From version 0.12, the only valid positional argument will be `data`, and passing other arguments without an explicit keyword will result in an error or misinterpretation.\n",
      "\n"
     ]
    },
    {
     "data": {
      "text/plain": [
       "<matplotlib.axes._subplots.AxesSubplot at 0x7fc872181208>"
      ]
     },
     "execution_count": 163,
     "metadata": {},
     "output_type": "execute_result"
    },
    {
     "data": {
      "image/png": "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\n",
      "text/plain": [
       "<Figure size 432x288 with 1 Axes>"
      ]
     },
     "metadata": {
      "needs_background": "light"
     },
     "output_type": "display_data"
    }
   ],
   "source": [
    "sns.boxplot(studentAssessment.score)"
   ]
  },
  {
   "cell_type": "code",
   "execution_count": 166,
   "metadata": {},
   "outputs": [
    {
     "data": {
      "text/plain": [
       "count    173739.000000\n",
       "mean         75.799573\n",
       "std          18.798107\n",
       "min           0.000000\n",
       "25%          65.000000\n",
       "50%          80.000000\n",
       "75%          90.000000\n",
       "max         100.000000\n",
       "Name: score, dtype: float64"
      ]
     },
     "execution_count": 166,
     "metadata": {},
     "output_type": "execute_result"
    }
   ],
   "source": [
    "studentAssessment.score.describe()"
   ]
  },
  {
   "cell_type": "code",
   "execution_count": 167,
   "metadata": {},
   "outputs": [],
   "source": [
    "#  Задаем параметр Frequency следующим образом\n",
    "#  1 - меньше или равно 65\n",
    "#  2 - между 66 и 80\n",
    "#  3  - между 81 и 90\n",
    "#  4 - равно 90"
   ]
  },
  {
   "cell_type": "code",
   "execution_count": 168,
   "metadata": {},
   "outputs": [],
   "source": [
    "# RFM-сегменты сформированы"
   ]
  },
  {
   "cell_type": "code",
   "execution_count": null,
   "metadata": {},
   "outputs": [],
   "source": []
  }
 ],
 "metadata": {
  "kernelspec": {
   "display_name": "Python 3",
   "language": "python",
   "name": "python3"
  },
  "language_info": {
   "codemirror_mode": {
    "name": "ipython",
    "version": 3
   },
   "file_extension": ".py",
   "mimetype": "text/x-python",
   "name": "python",
   "nbconvert_exporter": "python",
   "pygments_lexer": "ipython3",
   "version": "3.7.3"
  }
 },
 "nbformat": 4,
 "nbformat_minor": 4
}
