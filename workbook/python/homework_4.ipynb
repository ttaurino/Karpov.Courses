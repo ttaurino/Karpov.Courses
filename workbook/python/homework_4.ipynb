{
 "cells": [
  {
   "cell_type": "code",
   "execution_count": 2,
   "metadata": {},
   "outputs": [],
   "source": [
    "import pandas as pd\n",
    "import os"
   ]
  },
  {
   "cell_type": "code",
   "execution_count": 15,
   "metadata": {},
   "outputs": [
    {
     "data": {
      "text/plain": [
       "'df has 3 rows and 2 columns'"
      ]
     },
     "execution_count": 15,
     "metadata": {},
     "output_type": "execute_result"
    }
   ],
   "source": [
    "# шаг 1\n",
    "# df = pd.DataFrame([[1,2], [3,4], [5,6]], columns=['a', 'b'])\n",
    "df_out = 'df has {} rows and {} columns'\n",
    "df_shape = df_out.format(df.shape[0], df.shape[1])\n",
    "# df_shape"
   ]
  },
  {
   "cell_type": "code",
   "execution_count": 33,
   "metadata": {},
   "outputs": [],
   "source": [
    "# шаг 2\n",
    "# import numpy as np\n",
    "# df = pd.DataFrame([[1, np.nan, np.nan, 9], [2, 3, np.nan, 5], [np.nan, np.nan, 6, 10], [7, 8, np.nan, 5]], columns=['a', 'b', 'c', 'd'])\n",
    "na_number = df.isna().sum()\n",
    "# na_number"
   ]
  },
  {
   "cell_type": "code",
   "execution_count": 34,
   "metadata": {},
   "outputs": [
    {
     "data": {
      "text/plain": [
       "a    float64\n",
       "b    float64\n",
       "c    float64\n",
       "d      int64\n",
       "dtype: object"
      ]
     },
     "execution_count": 34,
     "metadata": {},
     "output_type": "execute_result"
    }
   ],
   "source": [
    "# шаг 3\n",
    "df_types = df.dtypes"
   ]
  },
  {
   "cell_type": "code",
   "execution_count": 46,
   "metadata": {},
   "outputs": [],
   "source": [
    "# шаг 4\n",
    "# df = pd.DataFrame([[1, 7, 7, 9], [2, 3, 7, 5], [7, 7, 6, 10], [7, 8, 7, 5]], columns=['age', 'b', 'c', 'd'])\n",
    "df.age = df.age.astype('int')"
   ]
  },
  {
   "cell_type": "code",
   "execution_count": 45,
   "metadata": {},
   "outputs": [],
   "source": [
    "# шаг 5\n",
    "# df = pd.DataFrame([[1, 7, 7, 9], [2, 3, 7, 5], [7, 7, 6, 10], [7, 8, 7, 5]], columns=['age', 'sex', 'c', 'd'])\n",
    "df = df.drop(columns=['age', 'sex'])\n",
    "# вариант:\n",
    "# df = df.drop(['age', 'sex'], axis=1)"
   ]
  },
  {
   "cell_type": "code",
   "execution_count": null,
   "metadata": {},
   "outputs": [],
   "source": [
    "# шаг 6\n",
    "df = df.drop_duplicates(subset='client_id')"
   ]
  },
  {
   "cell_type": "code",
   "execution_count": 53,
   "metadata": {},
   "outputs": [],
   "source": [
    "# шаг 7\n",
    "# numbers = [1, -2, 3, 0, -3, 2]\n",
    "positive_numbers = []\n",
    "for i in numbers:\n",
    "    if i < 0:\n",
    "        continue\n",
    "    elif i == 0:\n",
    "        break\n",
    "    positive_numbers.append(i)"
   ]
  },
  {
   "cell_type": "code",
   "execution_count": 4,
   "metadata": {},
   "outputs": [],
   "source": [
    "# шаг 8\n",
    "# path_to_file = '/mnt/HC_Volume_18315164/home-jupyter/jupyter-s-bykov/lesson_3/3_taxi_peru.csv'\n",
    "taxi = pd.read_csv(path_to_file, sep=';')\n",
    "taxi['start_at'] = pd.to_datetime(taxi['start_at'])\n",
    "taxi['end_at'] = pd.to_datetime(taxi['end_at'])\n",
    "taxi['arrived_at'] = pd.to_datetime(taxi['arrived_at'])\n",
    "taxi = taxi.query(\"start_type == 'asap' or start_type == 'reserved'\")\n",
    "# вариант конвертации данных в колонках (одна строка вместо трех):\n",
    "# taxi[['start_at', 'end_at', 'arrived_at']] = taxi[['start_at', 'end_at', 'arrived_at']].apply(pd.to_datetime)"
   ]
  },
  {
   "cell_type": "code",
   "execution_count": null,
   "metadata": {},
   "outputs": [],
   "source": []
  }
 ],
 "metadata": {
  "kernelspec": {
   "display_name": "Python 3",
   "language": "python",
   "name": "python3"
  },
  "language_info": {
   "codemirror_mode": {
    "name": "ipython",
    "version": 3
   },
   "file_extension": ".py",
   "mimetype": "text/x-python",
   "name": "python",
   "nbconvert_exporter": "python",
   "pygments_lexer": "ipython3",
   "version": "3.7.3"
  }
 },
 "nbformat": 4,
 "nbformat_minor": 4
}
