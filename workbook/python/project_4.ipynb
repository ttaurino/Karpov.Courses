{
 "cells": [
  {
   "cell_type": "code",
   "execution_count": 1,
   "metadata": {},
   "outputs": [],
   "source": [
    "import pandas as pd\n",
    "import os"
   ]
  },
  {
   "cell_type": "code",
   "execution_count": 107,
   "metadata": {},
   "outputs": [
    {
     "data": {
      "text/plain": [
       "'/mnt/HC_Volume_18315164/home-jupyter/jupyter-s-bykov/lesson_4'"
      ]
     },
     "execution_count": 107,
     "metadata": {},
     "output_type": "execute_result"
    }
   ],
   "source": [
    "# шаг 2\n",
    "os.getcwd()"
   ]
  },
  {
   "cell_type": "code",
   "execution_count": 112,
   "metadata": {},
   "outputs": [
    {
     "data": {
      "text/plain": [
       "'/srv/data/shared/homeworks/python_ds_miniprojects/4'"
      ]
     },
     "execution_count": 112,
     "metadata": {},
     "output_type": "execute_result"
    }
   ],
   "source": [
    "os.chdir('/mnt/HC_Volume_18315164/home-jupyter/jupyter-s-bykov/shared/homeworks/python_ds_miniprojects/4/')\n",
    "os.getcwd()"
   ]
  },
  {
   "cell_type": "code",
   "execution_count": 135,
   "metadata": {},
   "outputs": [
    {
     "data": {
      "text/plain": [
       "['data',\n",
       " 'data/2020-12-05',\n",
       " 'data/2020-12-05/Petr_Ivanov',\n",
       " 'data/2020-12-05/Petr_Smirnov',\n",
       " 'data/2020-12-05/Rostislav_Smirnov',\n",
       " 'data/2020-12-05/Kirill_Smirnov',\n",
       " 'data/2020-12-05/Alexey_Fedorov',\n",
       " 'data/2020-12-05/Alexey_Petrov',\n",
       " 'data/2020-12-08',\n",
       " 'data/2020-12-08/Petr_Petrov',\n",
       " 'data/2020-12-08/Rostislav_Petrov',\n",
       " 'data/2020-12-08/Kirill_Smirnov',\n",
       " 'data/2020-12-08/Alexey_Fedorov',\n",
       " 'data/2020-12-08/Anton_Smirnov',\n",
       " 'data/2020-12-09',\n",
       " 'data/2020-12-09/Alexey_Smirnov',\n",
       " 'data/2020-12-09/Anton_Petrov',\n",
       " 'data/2020-12-09/Rostislav_Petrov',\n",
       " 'data/2020-12-09/Anton_Smirnov',\n",
       " 'data/2020-12-09/Anton_Ivanov',\n",
       " 'data/2020-12-09/Petr_Fedorov',\n",
       " 'data/2020-12-09/Vasiliy_Ivanov',\n",
       " 'data/2020-12-04',\n",
       " 'data/2020-12-04/Kirill_Fedorov',\n",
       " 'data/2020-12-04/Alexey_Smirnov',\n",
       " 'data/2020-12-04/Rostislav_Ivanov',\n",
       " 'data/2020-12-04/Petr_Ivanov',\n",
       " 'data/2020-12-04/Rostislav_Fedorov',\n",
       " 'data/2020-12-04/Petr_Smirnov',\n",
       " 'data/2020-12-04/Rostislav_Smirnov',\n",
       " 'data/2020-12-04/Petr_Fedorov',\n",
       " 'data/2020-12-04/Vasiliy_Ivanov',\n",
       " 'data/2020-12-06',\n",
       " 'data/2020-12-06/Vasiliy_Fedorov',\n",
       " 'data/2020-12-03',\n",
       " 'data/2020-12-03/Alexey_Smirnov',\n",
       " 'data/2020-12-03/Anton_Petrov',\n",
       " 'data/2020-12-03/Vasiliy_Petrov',\n",
       " 'data/2020-12-03/Kirill_Petrov',\n",
       " 'data/2020-12-03/Petr_Fedorov',\n",
       " 'data/2020-12-03/Vasiliy_Ivanov',\n",
       " 'data/2020-12-07',\n",
       " 'data/2020-12-07/Kirill_Fedorov',\n",
       " 'data/2020-12-07/Alexey_Smirnov',\n",
       " 'data/2020-12-07/Rostislav_Fedorov',\n",
       " 'data/2020-12-07/Alexey_Ivanov',\n",
       " 'data/2020-12-07/Petr_Smirnov',\n",
       " 'data/2020-12-07/Alexey_Fedorov',\n",
       " 'data/2020-12-07/Anton_Smirnov',\n",
       " 'data/2020-12-07/Anton_Ivanov',\n",
       " 'data/2020-12-07/Petr_Fedorov',\n",
       " 'data/2020-12-07/Vasiliy_Ivanov']"
      ]
     },
     "execution_count": 135,
     "metadata": {},
     "output_type": "execute_result"
    }
   ],
   "source": [
    "p_list = []\n",
    "for path, dir, files in os.walk('data'):\n",
    "    p_list.append(path)\n",
    "p_list"
   ]
  },
  {
   "cell_type": "code",
   "execution_count": 138,
   "metadata": {},
   "outputs": [
    {
     "data": {
      "text/plain": [
       "['data',\n",
       " 'data/2020-12-05',\n",
       " 'data/2020-12-05/Petr_Ivanov',\n",
       " 'data/2020-12-05/Petr_Smirnov',\n",
       " 'data/2020-12-05/Rostislav_Smirnov',\n",
       " 'data/2020-12-05/Kirill_Smirnov',\n",
       " 'data/2020-12-05/Alexey_Fedorov',\n",
       " 'data/2020-12-05/Alexey_Petrov',\n",
       " 'data/2020-12-08',\n",
       " 'data/2020-12-08/Petr_Petrov',\n",
       " 'data/2020-12-08/Rostislav_Petrov',\n",
       " 'data/2020-12-08/Kirill_Smirnov',\n",
       " 'data/2020-12-08/Alexey_Fedorov',\n",
       " 'data/2020-12-08/Anton_Smirnov',\n",
       " 'data/2020-12-09',\n",
       " 'data/2020-12-09/Alexey_Smirnov',\n",
       " 'data/2020-12-09/Anton_Petrov',\n",
       " 'data/2020-12-09/Rostislav_Petrov',\n",
       " 'data/2020-12-09/Anton_Smirnov',\n",
       " 'data/2020-12-09/Anton_Ivanov',\n",
       " 'data/2020-12-09/Petr_Fedorov',\n",
       " 'data/2020-12-09/Vasiliy_Ivanov',\n",
       " 'data/2020-12-04',\n",
       " 'data/2020-12-04/Kirill_Fedorov',\n",
       " 'data/2020-12-04/Alexey_Smirnov',\n",
       " 'data/2020-12-04/Rostislav_Ivanov',\n",
       " 'data/2020-12-04/Petr_Ivanov',\n",
       " 'data/2020-12-04/Rostislav_Fedorov',\n",
       " 'data/2020-12-04/Petr_Smirnov',\n",
       " 'data/2020-12-04/Rostislav_Smirnov',\n",
       " 'data/2020-12-04/Petr_Fedorov',\n",
       " 'data/2020-12-04/Vasiliy_Ivanov',\n",
       " 'data/2020-12-06',\n",
       " 'data/2020-12-06/Vasiliy_Fedorov',\n",
       " 'data/2020-12-03',\n",
       " 'data/2020-12-03/Alexey_Smirnov',\n",
       " 'data/2020-12-03/Anton_Petrov',\n",
       " 'data/2020-12-03/Vasiliy_Petrov',\n",
       " 'data/2020-12-03/Kirill_Petrov',\n",
       " 'data/2020-12-03/Petr_Fedorov',\n",
       " 'data/2020-12-03/Vasiliy_Ivanov',\n",
       " 'data/2020-12-07',\n",
       " 'data/2020-12-07/Kirill_Fedorov',\n",
       " 'data/2020-12-07/Alexey_Smirnov',\n",
       " 'data/2020-12-07/Rostislav_Fedorov',\n",
       " 'data/2020-12-07/Alexey_Ivanov',\n",
       " 'data/2020-12-07/Petr_Smirnov',\n",
       " 'data/2020-12-07/Alexey_Fedorov',\n",
       " 'data/2020-12-07/Anton_Smirnov',\n",
       " 'data/2020-12-07/Anton_Ivanov',\n",
       " 'data/2020-12-07/Petr_Fedorov',\n",
       " 'data/2020-12-07/Vasiliy_Ivanov']"
      ]
     },
     "execution_count": 138,
     "metadata": {},
     "output_type": "execute_result"
    }
   ],
   "source": [
    "add = '/data.csv'\n",
    "for i in p_list:\n",
    "    i = i + add\n",
    "p_list"
   ]
  },
  {
   "cell_type": "code",
   "execution_count": 137,
   "metadata": {},
   "outputs": [
    {
     "data": {
      "text/plain": [
       "['data',\n",
       " 'data/2020-12-05',\n",
       " 'data/2020-12-05/Petr_Ivanov',\n",
       " 'data/2020-12-05/Petr_Smirnov',\n",
       " 'data/2020-12-05/Rostislav_Smirnov',\n",
       " 'data/2020-12-05/Kirill_Smirnov',\n",
       " 'data/2020-12-05/Alexey_Fedorov',\n",
       " 'data/2020-12-05/Alexey_Petrov',\n",
       " 'data/2020-12-08',\n",
       " 'data/2020-12-08/Petr_Petrov',\n",
       " 'data/2020-12-08/Rostislav_Petrov',\n",
       " 'data/2020-12-08/Kirill_Smirnov',\n",
       " 'data/2020-12-08/Alexey_Fedorov',\n",
       " 'data/2020-12-08/Anton_Smirnov',\n",
       " 'data/2020-12-09',\n",
       " 'data/2020-12-09/Alexey_Smirnov',\n",
       " 'data/2020-12-09/Anton_Petrov',\n",
       " 'data/2020-12-09/Rostislav_Petrov',\n",
       " 'data/2020-12-09/Anton_Smirnov',\n",
       " 'data/2020-12-09/Anton_Ivanov',\n",
       " 'data/2020-12-09/Petr_Fedorov',\n",
       " 'data/2020-12-09/Vasiliy_Ivanov',\n",
       " 'data/2020-12-04',\n",
       " 'data/2020-12-04/Kirill_Fedorov',\n",
       " 'data/2020-12-04/Alexey_Smirnov',\n",
       " 'data/2020-12-04/Rostislav_Ivanov',\n",
       " 'data/2020-12-04/Petr_Ivanov',\n",
       " 'data/2020-12-04/Rostislav_Fedorov',\n",
       " 'data/2020-12-04/Petr_Smirnov',\n",
       " 'data/2020-12-04/Rostislav_Smirnov',\n",
       " 'data/2020-12-04/Petr_Fedorov',\n",
       " 'data/2020-12-04/Vasiliy_Ivanov',\n",
       " 'data/2020-12-06',\n",
       " 'data/2020-12-06/Vasiliy_Fedorov',\n",
       " 'data/2020-12-03',\n",
       " 'data/2020-12-03/Alexey_Smirnov',\n",
       " 'data/2020-12-03/Anton_Petrov',\n",
       " 'data/2020-12-03/Vasiliy_Petrov',\n",
       " 'data/2020-12-03/Kirill_Petrov',\n",
       " 'data/2020-12-03/Petr_Fedorov',\n",
       " 'data/2020-12-03/Vasiliy_Ivanov',\n",
       " 'data/2020-12-07',\n",
       " 'data/2020-12-07/Kirill_Fedorov',\n",
       " 'data/2020-12-07/Alexey_Smirnov',\n",
       " 'data/2020-12-07/Rostislav_Fedorov',\n",
       " 'data/2020-12-07/Alexey_Ivanov',\n",
       " 'data/2020-12-07/Petr_Smirnov',\n",
       " 'data/2020-12-07/Alexey_Fedorov',\n",
       " 'data/2020-12-07/Anton_Smirnov',\n",
       " 'data/2020-12-07/Anton_Ivanov',\n",
       " 'data/2020-12-07/Petr_Fedorov',\n",
       " 'data/2020-12-07/Vasiliy_Ivanov']"
      ]
     },
     "execution_count": 137,
     "metadata": {},
     "output_type": "execute_result"
    }
   ],
   "source": [
    "p_list"
   ]
  },
  {
   "cell_type": "code",
   "execution_count": 123,
   "metadata": {},
   "outputs": [
    {
     "data": {
      "text/plain": [
       "['2020-12-05',\n",
       " '2020-12-08',\n",
       " '2020-12-09',\n",
       " '2020-12-04',\n",
       " '2020-12-06',\n",
       " '2020-12-03',\n",
       " '2020-12-07']"
      ]
     },
     "execution_count": 123,
     "metadata": {},
     "output_type": "execute_result"
    }
   ],
   "source": [
    "day = os.listdir('data')\n",
    "day"
   ]
  },
  {
   "cell_type": "code",
   "execution_count": 128,
   "metadata": {},
   "outputs": [
    {
     "data": {
      "text/plain": [
       "['Petr_Ivanov',\n",
       " 'Petr_Smirnov',\n",
       " 'Rostislav_Smirnov',\n",
       " 'Kirill_Smirnov',\n",
       " 'Alexey_Fedorov',\n",
       " 'Alexey_Petrov']"
      ]
     },
     "execution_count": 128,
     "metadata": {},
     "output_type": "execute_result"
    }
   ],
   "source": [
    "os.listdir('data/2020-12-05')"
   ]
  },
  {
   "cell_type": "code",
   "execution_count": 129,
   "metadata": {},
   "outputs": [
    {
     "data": {
      "text/plain": [
       "['data.csv']"
      ]
     },
     "execution_count": 129,
     "metadata": {},
     "output_type": "execute_result"
    }
   ],
   "source": [
    "os.listdir('data/2020-12-05/Petr_Ivanov')"
   ]
  },
  {
   "cell_type": "code",
   "execution_count": 130,
   "metadata": {},
   "outputs": [
    {
     "name": "stdout",
     "output_type": "stream",
     "text": [
      "data\n",
      "data/2020-12-05\n",
      "data/2020-12-05/Petr_Ivanov\n",
      "data/2020-12-05/Petr_Smirnov\n",
      "data/2020-12-05/Rostislav_Smirnov\n",
      "data/2020-12-05/Kirill_Smirnov\n",
      "data/2020-12-05/Alexey_Fedorov\n",
      "data/2020-12-05/Alexey_Petrov\n",
      "data/2020-12-08\n",
      "data/2020-12-08/Petr_Petrov\n",
      "data/2020-12-08/Rostislav_Petrov\n",
      "data/2020-12-08/Kirill_Smirnov\n",
      "data/2020-12-08/Alexey_Fedorov\n",
      "data/2020-12-08/Anton_Smirnov\n",
      "data/2020-12-09\n",
      "data/2020-12-09/Alexey_Smirnov\n",
      "data/2020-12-09/Anton_Petrov\n",
      "data/2020-12-09/Rostislav_Petrov\n",
      "data/2020-12-09/Anton_Smirnov\n",
      "data/2020-12-09/Anton_Ivanov\n",
      "data/2020-12-09/Petr_Fedorov\n",
      "data/2020-12-09/Vasiliy_Ivanov\n",
      "data/2020-12-04\n",
      "data/2020-12-04/Kirill_Fedorov\n",
      "data/2020-12-04/Alexey_Smirnov\n",
      "data/2020-12-04/Rostislav_Ivanov\n",
      "data/2020-12-04/Petr_Ivanov\n",
      "data/2020-12-04/Rostislav_Fedorov\n",
      "data/2020-12-04/Petr_Smirnov\n",
      "data/2020-12-04/Rostislav_Smirnov\n",
      "data/2020-12-04/Petr_Fedorov\n",
      "data/2020-12-04/Vasiliy_Ivanov\n",
      "data/2020-12-06\n",
      "data/2020-12-06/Vasiliy_Fedorov\n",
      "data/2020-12-03\n",
      "data/2020-12-03/Alexey_Smirnov\n",
      "data/2020-12-03/Anton_Petrov\n",
      "data/2020-12-03/Vasiliy_Petrov\n",
      "data/2020-12-03/Kirill_Petrov\n",
      "data/2020-12-03/Petr_Fedorov\n",
      "data/2020-12-03/Vasiliy_Ivanov\n",
      "data/2020-12-07\n",
      "data/2020-12-07/Kirill_Fedorov\n",
      "data/2020-12-07/Alexey_Smirnov\n",
      "data/2020-12-07/Rostislav_Fedorov\n",
      "data/2020-12-07/Alexey_Ivanov\n",
      "data/2020-12-07/Petr_Smirnov\n",
      "data/2020-12-07/Alexey_Fedorov\n",
      "data/2020-12-07/Anton_Smirnov\n",
      "data/2020-12-07/Anton_Ivanov\n",
      "data/2020-12-07/Petr_Fedorov\n",
      "data/2020-12-07/Vasiliy_Ivanov\n"
     ]
    }
   ],
   "source": [
    "for path, dir, files in os.walk('data'):\n",
    "    print(path)"
   ]
  },
  {
   "cell_type": "code",
   "execution_count": null,
   "metadata": {},
   "outputs": [],
   "source": []
  },
  {
   "cell_type": "code",
   "execution_count": 127,
   "metadata": {},
   "outputs": [
    {
     "data": {
      "text/plain": [
       "['Kirill_Fedorov',\n",
       " 'Alexey_Smirnov',\n",
       " 'Rostislav_Fedorov',\n",
       " 'Alexey_Ivanov',\n",
       " 'Petr_Smirnov',\n",
       " 'Alexey_Fedorov',\n",
       " 'Anton_Smirnov',\n",
       " 'Anton_Ivanov',\n",
       " 'Petr_Fedorov',\n",
       " 'Vasiliy_Ivanov']"
      ]
     },
     "execution_count": 127,
     "metadata": {},
     "output_type": "execute_result"
    }
   ],
   "source": [
    "p = 'data/' + d\n",
    "for d in day:\n",
    "    n = os.listdir(p)\n",
    "n"
   ]
  },
  {
   "cell_type": "code",
   "execution_count": 111,
   "metadata": {},
   "outputs": [
    {
     "name": "stdout",
     "output_type": "stream",
     "text": [
      "data ['2020-12-05', '2020-12-08', '2020-12-09', '2020-12-04', '2020-12-06', '2020-12-03', '2020-12-07'] []\n",
      "data/2020-12-05 ['Petr_Ivanov', 'Petr_Smirnov', 'Rostislav_Smirnov', 'Kirill_Smirnov', 'Alexey_Fedorov', 'Alexey_Petrov'] []\n",
      "data/2020-12-05/Petr_Ivanov [] ['data.csv']\n",
      "data/2020-12-05/Petr_Smirnov [] ['data.csv']\n",
      "data/2020-12-05/Rostislav_Smirnov [] ['data.csv']\n",
      "data/2020-12-05/Kirill_Smirnov [] ['data.csv']\n",
      "data/2020-12-05/Alexey_Fedorov [] ['data.csv']\n",
      "data/2020-12-05/Alexey_Petrov [] ['data.csv']\n",
      "data/2020-12-08 ['Petr_Petrov', 'Rostislav_Petrov', 'Kirill_Smirnov', 'Alexey_Fedorov', 'Anton_Smirnov'] []\n",
      "data/2020-12-08/Petr_Petrov [] ['data.csv']\n",
      "data/2020-12-08/Rostislav_Petrov [] ['data.csv']\n",
      "data/2020-12-08/Kirill_Smirnov [] ['data.csv']\n",
      "data/2020-12-08/Alexey_Fedorov [] ['data.csv']\n",
      "data/2020-12-08/Anton_Smirnov [] ['data.csv']\n",
      "data/2020-12-09 ['Alexey_Smirnov', 'Anton_Petrov', 'Rostislav_Petrov', 'Anton_Smirnov', 'Anton_Ivanov', 'Petr_Fedorov', 'Vasiliy_Ivanov'] []\n",
      "data/2020-12-09/Alexey_Smirnov [] ['data.csv']\n",
      "data/2020-12-09/Anton_Petrov [] ['data.csv']\n",
      "data/2020-12-09/Rostislav_Petrov [] ['data.csv']\n",
      "data/2020-12-09/Anton_Smirnov [] ['data.csv']\n",
      "data/2020-12-09/Anton_Ivanov [] ['data.csv']\n",
      "data/2020-12-09/Petr_Fedorov [] ['data.csv']\n",
      "data/2020-12-09/Vasiliy_Ivanov [] ['data.csv']\n",
      "data/2020-12-04 ['Kirill_Fedorov', 'Alexey_Smirnov', 'Rostislav_Ivanov', 'Petr_Ivanov', 'Rostislav_Fedorov', 'Petr_Smirnov', 'Rostislav_Smirnov', 'Petr_Fedorov', 'Vasiliy_Ivanov'] []\n",
      "data/2020-12-04/Kirill_Fedorov [] ['data.csv']\n",
      "data/2020-12-04/Alexey_Smirnov [] ['data.csv']\n",
      "data/2020-12-04/Rostislav_Ivanov [] ['data.csv']\n",
      "data/2020-12-04/Petr_Ivanov [] ['data.csv']\n",
      "data/2020-12-04/Rostislav_Fedorov [] ['data.csv']\n",
      "data/2020-12-04/Petr_Smirnov [] ['data.csv']\n",
      "data/2020-12-04/Rostislav_Smirnov [] ['data.csv']\n",
      "data/2020-12-04/Petr_Fedorov [] ['data.csv']\n",
      "data/2020-12-04/Vasiliy_Ivanov [] ['data.csv']\n",
      "data/2020-12-06 ['Vasiliy_Fedorov'] []\n",
      "data/2020-12-06/Vasiliy_Fedorov [] ['data.csv']\n",
      "data/2020-12-03 ['Alexey_Smirnov', 'Anton_Petrov', 'Vasiliy_Petrov', 'Kirill_Petrov', 'Petr_Fedorov', 'Vasiliy_Ivanov'] []\n",
      "data/2020-12-03/Alexey_Smirnov [] ['data.csv']\n",
      "data/2020-12-03/Anton_Petrov [] ['data.csv']\n",
      "data/2020-12-03/Vasiliy_Petrov [] ['data.csv']\n",
      "data/2020-12-03/Kirill_Petrov [] ['data.csv']\n",
      "data/2020-12-03/Petr_Fedorov [] ['data.csv']\n",
      "data/2020-12-03/Vasiliy_Ivanov [] ['data.csv']\n",
      "data/2020-12-07 ['Kirill_Fedorov', 'Alexey_Smirnov', 'Rostislav_Fedorov', 'Alexey_Ivanov', 'Petr_Smirnov', 'Alexey_Fedorov', 'Anton_Smirnov', 'Anton_Ivanov', 'Petr_Fedorov', 'Vasiliy_Ivanov'] []\n",
      "data/2020-12-07/Kirill_Fedorov [] ['data.csv']\n",
      "data/2020-12-07/Alexey_Smirnov [] ['data.csv']\n",
      "data/2020-12-07/Rostislav_Fedorov [] ['data.csv']\n",
      "data/2020-12-07/Alexey_Ivanov [] ['data.csv']\n",
      "data/2020-12-07/Petr_Smirnov [] ['data.csv']\n",
      "data/2020-12-07/Alexey_Fedorov [] ['data.csv']\n",
      "data/2020-12-07/Anton_Smirnov [] ['data.csv']\n",
      "data/2020-12-07/Anton_Ivanov [] ['data.csv']\n",
      "data/2020-12-07/Petr_Fedorov [] ['data.csv']\n",
      "data/2020-12-07/Vasiliy_Ivanov [] ['data.csv']\n"
     ]
    }
   ],
   "source": [
    "for path, dir, files in os.walk('data'):\n",
    "    print(path, dir, files)"
   ]
  },
  {
   "cell_type": "code",
   "execution_count": null,
   "metadata": {},
   "outputs": [],
   "source": []
  },
  {
   "cell_type": "code",
   "execution_count": 113,
   "metadata": {},
   "outputs": [],
   "source": [
    "# p = '/mnt/HC_Volume_18315164/home-jupyter/jupyter-s-bykov/shared/homeworks/python_ds_miniprojects/4/data/'\n",
    "# for path, dir, files in os.walk(p):\n",
    "#    print(path, dir, files)"
   ]
  },
  {
   "cell_type": "code",
   "execution_count": null,
   "metadata": {},
   "outputs": [],
   "source": []
  },
  {
   "cell_type": "code",
   "execution_count": null,
   "metadata": {},
   "outputs": [],
   "source": []
  },
  {
   "cell_type": "code",
   "execution_count": null,
   "metadata": {},
   "outputs": [],
   "source": []
  },
  {
   "cell_type": "code",
   "execution_count": 88,
   "metadata": {},
   "outputs": [],
   "source": [
    "# дополнительный проект\n",
    "inn_list = pd.read_csv('/mnt/HC_Volume_18315164/home-jupyter/jupyter-s-bykov/lesson_4/necessary_inn.txt', header=None)\\\n",
    "    .rename(columns={0: 'inn'})\n",
    "inn = inn_list.inn # получаем серию из датафрейма\n",
    "# или так получаем серию из датафрейма\n",
    "# inn = pd.Series(inn)\n",
    "# или делаем лист из колонки датафрейма:\n",
    "# inn = inn_list.inn.tolist()"
   ]
  },
  {
   "cell_type": "code",
   "execution_count": 92,
   "metadata": {},
   "outputs": [
    {
     "data": {
      "text/plain": [
       "Index(['Unnamed: 0', '#', 'name', 'reg_number', 'address', 'head', 'head_job',\n",
       "       'head_inn', 'phone', 'email', 'site', 'registration_date',\n",
       "       'nalogoplatelschik_code', 'oktmo_code', 'okato_code',\n",
       "       'registration_region', 'okato_name', 'field', 'capital,RUB',\n",
       "       'income,RUB'],\n",
       "      dtype='object')"
      ]
     },
     "execution_count": 92,
     "metadata": {},
     "output_type": "execute_result"
    }
   ],
   "source": [
    "df = pd.read_excel('/mnt/HC_Volume_18315164/home-jupyter/jupyter-s-bykov/lesson_4/inn.xls')\n",
    "df.columns"
   ]
  },
  {
   "cell_type": "code",
   "execution_count": 97,
   "metadata": {},
   "outputs": [],
   "source": [
    "res = df.query('head_inn in @inn')\n",
    "res.to_csv('selected_inn.csv')"
   ]
  },
  {
   "cell_type": "code",
   "execution_count": 96,
   "metadata": {},
   "outputs": [
    {
     "data": {
      "text/plain": [
       "6104522627393"
      ]
     },
     "execution_count": 96,
     "metadata": {},
     "output_type": "execute_result"
    }
   ],
   "source": [
    "res['income,RUB'].sum()"
   ]
  }
 ],
 "metadata": {
  "kernelspec": {
   "display_name": "Python 3",
   "language": "python",
   "name": "python3"
  },
  "language_info": {
   "codemirror_mode": {
    "name": "ipython",
    "version": 3
   },
   "file_extension": ".py",
   "mimetype": "text/x-python",
   "name": "python",
   "nbconvert_exporter": "python",
   "pygments_lexer": "ipython3",
   "version": "3.7.3"
  }
 },
 "nbformat": 4,
 "nbformat_minor": 4
}
