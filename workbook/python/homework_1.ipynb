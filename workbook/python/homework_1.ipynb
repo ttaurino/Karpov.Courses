{
 "cells": [
  {
   "cell_type": "code",
   "execution_count": 3,
   "metadata": {},
   "outputs": [],
   "source": [
    "# шаг 2\n",
    "age = 12\n",
    "name = 'Anna'"
   ]
  },
  {
   "cell_type": "code",
   "execution_count": 5,
   "metadata": {},
   "outputs": [],
   "source": [
    "# шаг 3\n",
    "user_info = ['name', 'lastname', 150.0, 4]"
   ]
  },
  {
   "cell_type": "code",
   "execution_count": 7,
   "metadata": {},
   "outputs": [],
   "source": [
    "salaries =[10, 20, 30, 40]"
   ]
  },
  {
   "cell_type": "code",
   "execution_count": 8,
   "metadata": {},
   "outputs": [],
   "source": [
    "# шаг 4\n",
    "first = salaries[0]"
   ]
  },
  {
   "cell_type": "code",
   "execution_count": 1,
   "metadata": {},
   "outputs": [],
   "source": [
    "users = ['Anna', 'Ivan']"
   ]
  },
  {
   "cell_type": "code",
   "execution_count": 11,
   "metadata": {},
   "outputs": [],
   "source": [
    "# шаг 5\n",
    "users.append('Voronov')\n",
    "users.append(42)"
   ]
  },
  {
   "cell_type": "code",
   "execution_count": 2,
   "metadata": {},
   "outputs": [],
   "source": [
    "user_ages = [10, 18, 21, 35, 42, 27, 12, 16]"
   ]
  },
  {
   "cell_type": "code",
   "execution_count": 3,
   "metadata": {},
   "outputs": [
    {
     "name": "stdout",
     "output_type": "stream",
     "text": [
      "21\n",
      "35\n",
      "42\n",
      "27\n"
     ]
    }
   ],
   "source": [
    "# шаг 6\n",
    "for i in user_ages:\n",
    "    if i > 18:\n",
    "        print(i)"
   ]
  },
  {
   "cell_type": "code",
   "execution_count": 4,
   "metadata": {},
   "outputs": [],
   "source": [
    "worker = ['Olya', 'Silyutina', 350000, 3]"
   ]
  },
  {
   "cell_type": "code",
   "execution_count": 5,
   "metadata": {},
   "outputs": [],
   "source": [
    "# шаг 7\n",
    "if worker[-1] < 2:\n",
    "    position = 'junior'\n",
    "elif worker[-1] > 5:\n",
    "    position = 'senior'\n",
    "else: position = 'middle'\n",
    "status = worker[0] + ' ' + worker[1] + ' ' + 'is' + ' ' + position"
   ]
  },
  {
   "cell_type": "code",
   "execution_count": 41,
   "metadata": {},
   "outputs": [],
   "source": [
    "values = [12, 134, 10, 47, 100, 20, 50, 160, 210]"
   ]
  },
  {
   "cell_type": "code",
   "execution_count": 57,
   "metadata": {},
   "outputs": [],
   "source": [
    "# шаг 8\n",
    "tens =[]\n",
    "for i in values:\n",
    "    if i % 10 == 0:\n",
    "        tens.append(i)"
   ]
  },
  {
   "cell_type": "code",
   "execution_count": 22,
   "metadata": {},
   "outputs": [],
   "source": [
    "workers = [['Ivan', 'Ivanov', 100000, 2], ['Petr', 'Petrov', 150000, 2], ['Sidor', 'Sidorov', 200000, 3]]"
   ]
  },
  {
   "cell_type": "code",
   "execution_count": 27,
   "metadata": {},
   "outputs": [
    {
     "name": "stdout",
     "output_type": "stream",
     "text": [
      "Ivan Ivanov is middle\n",
      "Petr Petrov is middle\n",
      "Sidor Sidorov is middle\n"
     ]
    }
   ],
   "source": [
    "# шаг 9\n",
    "for i in workers:\n",
    "    if i[-1] < 2:\n",
    "        position = 'junior'\n",
    "        print(i[0] + ' ' + i[1] + ' ' + 'is' + ' ' + position)\n",
    "    elif i[-1] > 5:\n",
    "        position = 'senior'\n",
    "        print(i[0] + ' ' + i[1] + ' ' + 'is' + ' ' + position)\n",
    "    else:\n",
    "        position = 'middle'\n",
    "        print(i[0] + ' ' + i[1] + ' ' + 'is' + ' ' + position)"
   ]
  },
  {
   "cell_type": "code",
   "execution_count": 30,
   "metadata": {},
   "outputs": [],
   "source": [
    "n = 0\n",
    "N = 10\n",
    "dn = 2"
   ]
  },
  {
   "cell_type": "code",
   "execution_count": 34,
   "metadata": {},
   "outputs": [],
   "source": [
    "# шаг 10\n",
    "lst = []\n",
    "a = n\n",
    "while a <= N:\n",
    "    lst.append(a)\n",
    "    a += dn"
   ]
  },
  {
   "cell_type": "code",
   "execution_count": 1,
   "metadata": {},
   "outputs": [],
   "source": [
    "# шаг 11\n",
    "salaries_dict = {'name':'Masha', 'surname':'Volkova', 'age':25, 'salary':60000, 'position':'junior'}"
   ]
  },
  {
   "cell_type": "code",
   "execution_count": 58,
   "metadata": {},
   "outputs": [],
   "source": [
    "# шаг 12\n",
    "users_dict = {\n",
    "    'mvolkova':{'name':'Masha', 'surname':'Volkova', 'age':25, 'salary':60000, 'position':'junior'},\n",
    "    'pvoronov':{'name':'Peter', 'surname':'Voronov', 'age':27, 'salary':100000, 'position':'junior'},\n",
    "    'pparker':{'name':'Peter', 'surname':'Parker', 'age':35, 'salary':150000, 'position':'middle'},\n",
    "    'akarpov':{'name':'Anatoly', 'surname':'Karpov', 'age':30, 'salary':250000, 'position':'senior'}\n",
    "}"
   ]
  }
 ],
 "metadata": {
  "kernelspec": {
   "display_name": "Python 3",
   "language": "python",
   "name": "python3"
  },
  "language_info": {
   "codemirror_mode": {
    "name": "ipython",
    "version": 3
   },
   "file_extension": ".py",
   "mimetype": "text/x-python",
   "name": "python",
   "nbconvert_exporter": "python",
   "pygments_lexer": "ipython3",
   "version": "3.7.3"
  }
 },
 "nbformat": 4,
 "nbformat_minor": 4
}
