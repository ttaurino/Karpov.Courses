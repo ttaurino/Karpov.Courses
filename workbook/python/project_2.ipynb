{
 "cells": [
  {
   "cell_type": "code",
   "execution_count": 1,
   "metadata": {},
   "outputs": [],
   "source": [
    "# шаг 2\n",
    "import pandas as pd\n",
    "path_to_file = ('/mnt/HC_Volume_18315164/home-jupyter/jupyter-s-bykov/shared/homeworks/python_ds_miniprojects/2/bookings.csv')\n",
    "bookings = pd.read_csv(path_to_file, sep=';')\n",
    "bookings_head = bookings.head(7)"
   ]
  },
  {
   "cell_type": "code",
   "execution_count": 2,
   "metadata": {},
   "outputs": [
    {
     "data": {
      "text/html": [
       "<div>\n",
       "<style scoped>\n",
       "    .dataframe tbody tr th:only-of-type {\n",
       "        vertical-align: middle;\n",
       "    }\n",
       "\n",
       "    .dataframe tbody tr th {\n",
       "        vertical-align: top;\n",
       "    }\n",
       "\n",
       "    .dataframe thead th {\n",
       "        text-align: right;\n",
       "    }\n",
       "</style>\n",
       "<table border=\"1\" class=\"dataframe\">\n",
       "  <thead>\n",
       "    <tr style=\"text-align: right;\">\n",
       "      <th></th>\n",
       "      <th>Hotel</th>\n",
       "      <th>Is Canceled</th>\n",
       "      <th>Lead Time</th>\n",
       "      <th>arrival full date</th>\n",
       "      <th>Arrival Date Year</th>\n",
       "      <th>Arrival Date Month</th>\n",
       "      <th>Arrival Date Week Number</th>\n",
       "      <th>Arrival Date Day of Month</th>\n",
       "      <th>Stays in Weekend nights</th>\n",
       "      <th>Stays in week nights</th>\n",
       "      <th>...</th>\n",
       "      <th>Adults</th>\n",
       "      <th>Children</th>\n",
       "      <th>Babies</th>\n",
       "      <th>Meal</th>\n",
       "      <th>Country</th>\n",
       "      <th>Reserved Room Type</th>\n",
       "      <th>Assigned room type</th>\n",
       "      <th>customer type</th>\n",
       "      <th>Reservation Status</th>\n",
       "      <th>Reservation status_date</th>\n",
       "    </tr>\n",
       "  </thead>\n",
       "  <tbody>\n",
       "    <tr>\n",
       "      <th>0</th>\n",
       "      <td>Resort Hotel</td>\n",
       "      <td>0</td>\n",
       "      <td>342</td>\n",
       "      <td>2015-07-01</td>\n",
       "      <td>2015</td>\n",
       "      <td>July</td>\n",
       "      <td>27</td>\n",
       "      <td>1</td>\n",
       "      <td>0</td>\n",
       "      <td>0</td>\n",
       "      <td>...</td>\n",
       "      <td>2</td>\n",
       "      <td>0.0</td>\n",
       "      <td>0</td>\n",
       "      <td>BB</td>\n",
       "      <td>PRT</td>\n",
       "      <td>C</td>\n",
       "      <td>C</td>\n",
       "      <td>Transient</td>\n",
       "      <td>Check-Out</td>\n",
       "      <td>2015-07-01</td>\n",
       "    </tr>\n",
       "    <tr>\n",
       "      <th>1</th>\n",
       "      <td>Resort Hotel</td>\n",
       "      <td>0</td>\n",
       "      <td>737</td>\n",
       "      <td>2015-07-01</td>\n",
       "      <td>2015</td>\n",
       "      <td>July</td>\n",
       "      <td>27</td>\n",
       "      <td>1</td>\n",
       "      <td>0</td>\n",
       "      <td>0</td>\n",
       "      <td>...</td>\n",
       "      <td>2</td>\n",
       "      <td>0.0</td>\n",
       "      <td>0</td>\n",
       "      <td>BB</td>\n",
       "      <td>PRT</td>\n",
       "      <td>C</td>\n",
       "      <td>C</td>\n",
       "      <td>Transient</td>\n",
       "      <td>Check-Out</td>\n",
       "      <td>2015-07-01</td>\n",
       "    </tr>\n",
       "  </tbody>\n",
       "</table>\n",
       "<p>2 rows × 21 columns</p>\n",
       "</div>"
      ],
      "text/plain": [
       "          Hotel  Is Canceled  Lead Time arrival full date  Arrival Date Year  \\\n",
       "0  Resort Hotel            0        342        2015-07-01               2015   \n",
       "1  Resort Hotel            0        737        2015-07-01               2015   \n",
       "\n",
       "  Arrival Date Month  Arrival Date Week Number  Arrival Date Day of Month  \\\n",
       "0               July                        27                          1   \n",
       "1               July                        27                          1   \n",
       "\n",
       "   Stays in Weekend nights  Stays in week nights  ...  Adults  Children  \\\n",
       "0                        0                     0  ...       2       0.0   \n",
       "1                        0                     0  ...       2       0.0   \n",
       "\n",
       "   Babies  Meal Country Reserved Room Type Assigned room type customer type  \\\n",
       "0       0    BB     PRT                  C                  C     Transient   \n",
       "1       0    BB     PRT                  C                  C     Transient   \n",
       "\n",
       "  Reservation Status Reservation status_date  \n",
       "0          Check-Out              2015-07-01  \n",
       "1          Check-Out              2015-07-01  \n",
       "\n",
       "[2 rows x 21 columns]"
      ]
     },
     "execution_count": 2,
     "metadata": {},
     "output_type": "execute_result"
    }
   ],
   "source": [
    "bookings.head(2)"
   ]
  },
  {
   "cell_type": "code",
   "execution_count": 3,
   "metadata": {},
   "outputs": [
    {
     "data": {
      "text/plain": [
       "(119390, 21)"
      ]
     },
     "execution_count": 3,
     "metadata": {},
     "output_type": "execute_result"
    }
   ],
   "source": [
    "# шаг 3\n",
    "bookings.shape"
   ]
  },
  {
   "cell_type": "code",
   "execution_count": 4,
   "metadata": {},
   "outputs": [
    {
     "data": {
      "text/plain": [
       "Hotel                         object\n",
       "Is Canceled                    int64\n",
       "Lead Time                      int64\n",
       "arrival full date             object\n",
       "Arrival Date Year              int64\n",
       "Arrival Date Month            object\n",
       "Arrival Date Week Number       int64\n",
       "Arrival Date Day of Month      int64\n",
       "Stays in Weekend nights        int64\n",
       "Stays in week nights           int64\n",
       "stays total nights             int64\n",
       "Adults                         int64\n",
       "Children                     float64\n",
       "Babies                         int64\n",
       "Meal                          object\n",
       "Country                       object\n",
       "Reserved Room Type            object\n",
       "Assigned room type            object\n",
       "customer type                 object\n",
       "Reservation Status            object\n",
       "Reservation status_date       object\n",
       "dtype: object"
      ]
     },
     "execution_count": 4,
     "metadata": {},
     "output_type": "execute_result"
    }
   ],
   "source": [
    "# шаг 4\n",
    "bookings.dtypes"
   ]
  },
  {
   "cell_type": "code",
   "execution_count": 2,
   "metadata": {},
   "outputs": [],
   "source": [
    "# шаг 5\n",
    "bookings = bookings.rename(str.lower, axis='columns')\n",
    "def rename_whitespace(name):\n",
    "    new_name = name.replace(' ', '_')\n",
    "    return new_name\n",
    "bookings = bookings.rename(columns = rename_whitespace)"
   ]
  },
  {
   "cell_type": "code",
   "execution_count": 5,
   "metadata": {},
   "outputs": [],
   "source": [
    "# шаг 5 вариант\n",
    "def rename_whitespace(name):\n",
    "    new_name = name.replace(' ', '_').lower()\n",
    "    return new_name\n",
    "bookings = bookings.rename(columns = rename_whitespace)"
   ]
  },
  {
   "cell_type": "code",
   "execution_count": 5,
   "metadata": {},
   "outputs": [],
   "source": [
    "# шаг 5 вариант\n",
    "bookings.columns = bookings.columns.str.replace(' ', '_')\n",
    "bookings = bookings.rename(str.lower, axis='columns')"
   ]
  },
  {
   "cell_type": "code",
   "execution_count": null,
   "metadata": {
    "scrolled": true
   },
   "outputs": [],
   "source": [
    "# шаг 5 непонятка, метод не работает\n",
    "bookings = bookings.rename(str.replace(' ', '_'), axis='columns')"
   ]
  },
  {
   "cell_type": "code",
   "execution_count": 6,
   "metadata": {},
   "outputs": [
    {
     "data": {
      "text/plain": [
       "Index(['hotel', 'is_canceled', 'lead_time', 'arrival_full_date',\n",
       "       'arrival_date_year', 'arrival_date_month', 'arrival_date_week_number',\n",
       "       'arrival_date_day_of_month', 'stays_in_weekend_nights',\n",
       "       'stays_in_week_nights', 'stays_total_nights', 'adults', 'children',\n",
       "       'babies', 'meal', 'country', 'reserved_room_type', 'assigned_room_type',\n",
       "       'customer_type', 'reservation_status', 'reservation_status_date'],\n",
       "      dtype='object')"
      ]
     },
     "execution_count": 6,
     "metadata": {},
     "output_type": "execute_result"
    }
   ],
   "source": [
    "bookings.columns"
   ]
  },
  {
   "cell_type": "code",
   "execution_count": 9,
   "metadata": {},
   "outputs": [
    {
     "data": {
      "text/html": [
       "<div>\n",
       "<style scoped>\n",
       "    .dataframe tbody tr th:only-of-type {\n",
       "        vertical-align: middle;\n",
       "    }\n",
       "\n",
       "    .dataframe tbody tr th {\n",
       "        vertical-align: top;\n",
       "    }\n",
       "\n",
       "    .dataframe thead th {\n",
       "        text-align: right;\n",
       "    }\n",
       "</style>\n",
       "<table border=\"1\" class=\"dataframe\">\n",
       "  <thead>\n",
       "    <tr style=\"text-align: right;\">\n",
       "      <th></th>\n",
       "      <th>hotel</th>\n",
       "    </tr>\n",
       "    <tr>\n",
       "      <th>country</th>\n",
       "      <th></th>\n",
       "    </tr>\n",
       "  </thead>\n",
       "  <tbody>\n",
       "    <tr>\n",
       "      <th>PRT</th>\n",
       "      <td>21071</td>\n",
       "    </tr>\n",
       "    <tr>\n",
       "      <th>GBR</th>\n",
       "      <td>9676</td>\n",
       "    </tr>\n",
       "    <tr>\n",
       "      <th>FRA</th>\n",
       "      <td>8481</td>\n",
       "    </tr>\n",
       "    <tr>\n",
       "      <th>ESP</th>\n",
       "      <td>6391</td>\n",
       "    </tr>\n",
       "    <tr>\n",
       "      <th>DEU</th>\n",
       "      <td>6069</td>\n",
       "    </tr>\n",
       "  </tbody>\n",
       "</table>\n",
       "</div>"
      ],
      "text/plain": [
       "         hotel\n",
       "country       \n",
       "PRT      21071\n",
       "GBR       9676\n",
       "FRA       8481\n",
       "ESP       6391\n",
       "DEU       6069"
      ]
     },
     "execution_count": 9,
     "metadata": {},
     "output_type": "execute_result"
    }
   ],
   "source": [
    "# шаг 6\n",
    "top_country = (bookings\n",
    "               .query('is_canceled == 0')\n",
    "               .groupby('country')\n",
    "               .agg({'hotel': 'count'})\n",
    "               .sort_values('hotel', ascending=False))\n",
    "top_country.head()"
   ]
  },
  {
   "cell_type": "code",
   "execution_count": 10,
   "metadata": {},
   "outputs": [
    {
     "data": {
      "text/plain": [
       "PRT    21071\n",
       "GBR     9676\n",
       "FRA     8481\n",
       "ESP     6391\n",
       "DEU     6069\n",
       "Name: country, dtype: int64"
      ]
     },
     "execution_count": 10,
     "metadata": {},
     "output_type": "execute_result"
    }
   ],
   "source": [
    "# шаг 6 вариант\n",
    "top_country = bookings.query('is_canceled == 0')\n",
    "top_country.country.value_counts().head()"
   ]
  },
  {
   "cell_type": "code",
   "execution_count": 11,
   "metadata": {},
   "outputs": [
    {
     "data": {
      "text/html": [
       "<div>\n",
       "<style scoped>\n",
       "    .dataframe tbody tr th:only-of-type {\n",
       "        vertical-align: middle;\n",
       "    }\n",
       "\n",
       "    .dataframe tbody tr th {\n",
       "        vertical-align: top;\n",
       "    }\n",
       "\n",
       "    .dataframe thead th {\n",
       "        text-align: right;\n",
       "    }\n",
       "</style>\n",
       "<table border=\"1\" class=\"dataframe\">\n",
       "  <thead>\n",
       "    <tr style=\"text-align: right;\">\n",
       "      <th></th>\n",
       "      <th>stays_total_nights</th>\n",
       "    </tr>\n",
       "    <tr>\n",
       "      <th>hotel</th>\n",
       "      <th></th>\n",
       "    </tr>\n",
       "  </thead>\n",
       "  <tbody>\n",
       "    <tr>\n",
       "      <th>City Hotel</th>\n",
       "      <td>2.98</td>\n",
       "    </tr>\n",
       "    <tr>\n",
       "      <th>Resort Hotel</th>\n",
       "      <td>4.32</td>\n",
       "    </tr>\n",
       "  </tbody>\n",
       "</table>\n",
       "</div>"
      ],
      "text/plain": [
       "              stays_total_nights\n",
       "hotel                           \n",
       "City Hotel                  2.98\n",
       "Resort Hotel                4.32"
      ]
     },
     "execution_count": 11,
     "metadata": {},
     "output_type": "execute_result"
    }
   ],
   "source": [
    "# шаг 7\n",
    "bookings.groupby('hotel').agg({'stays_total_nights': 'mean'}).round(2)"
   ]
  },
  {
   "cell_type": "code",
   "execution_count": 12,
   "metadata": {},
   "outputs": [
    {
     "data": {
      "text/plain": [
       "(14917, 21)"
      ]
     },
     "execution_count": 12,
     "metadata": {},
     "output_type": "execute_result"
    }
   ],
   "source": [
    "# шаг 8\n",
    "fault = bookings.query('reserved_room_type != assigned_room_type')\n",
    "fault.shape"
   ]
  },
  {
   "cell_type": "code",
   "execution_count": 102,
   "metadata": {},
   "outputs": [
    {
     "data": {
      "text/html": [
       "<div>\n",
       "<style scoped>\n",
       "    .dataframe tbody tr th:only-of-type {\n",
       "        vertical-align: middle;\n",
       "    }\n",
       "\n",
       "    .dataframe tbody tr th {\n",
       "        vertical-align: top;\n",
       "    }\n",
       "\n",
       "    .dataframe thead th {\n",
       "        text-align: right;\n",
       "    }\n",
       "</style>\n",
       "<table border=\"1\" class=\"dataframe\">\n",
       "  <thead>\n",
       "    <tr style=\"text-align: right;\">\n",
       "      <th></th>\n",
       "      <th></th>\n",
       "      <th>hotel</th>\n",
       "    </tr>\n",
       "    <tr>\n",
       "      <th>arrival_date_year</th>\n",
       "      <th>arrival_date_month</th>\n",
       "      <th></th>\n",
       "    </tr>\n",
       "  </thead>\n",
       "  <tbody>\n",
       "    <tr>\n",
       "      <th>2017</th>\n",
       "      <th>May</th>\n",
       "      <td>6313</td>\n",
       "    </tr>\n",
       "    <tr>\n",
       "      <th>2016</th>\n",
       "      <th>October</th>\n",
       "      <td>6203</td>\n",
       "    </tr>\n",
       "    <tr>\n",
       "      <th rowspan=\"2\" valign=\"top\">2017</th>\n",
       "      <th>April</th>\n",
       "      <td>5661</td>\n",
       "    </tr>\n",
       "    <tr>\n",
       "      <th>June</th>\n",
       "      <td>5647</td>\n",
       "    </tr>\n",
       "    <tr>\n",
       "      <th>2016</th>\n",
       "      <th>May</th>\n",
       "      <td>5478</td>\n",
       "    </tr>\n",
       "  </tbody>\n",
       "</table>\n",
       "</div>"
      ],
      "text/plain": [
       "                                      hotel\n",
       "arrival_date_year arrival_date_month       \n",
       "2017              May                  6313\n",
       "2016              October              6203\n",
       "2017              April                5661\n",
       "                  June                 5647\n",
       "2016              May                  5478"
      ]
     },
     "execution_count": 102,
     "metadata": {},
     "output_type": "execute_result"
    }
   ],
   "source": [
    "# шаг 9\n",
    "bookings.groupby(['arrival_date_year', 'arrival_date_month']).agg({'hotel': 'count'}).sort_values('hotel', ascending=False).head()"
   ]
  },
  {
   "cell_type": "code",
   "execution_count": 13,
   "metadata": {},
   "outputs": [
    {
     "data": {
      "text/plain": [
       "arrival_date_year  arrival_date_month\n",
       "2015               September             3529\n",
       "                   October               3386\n",
       "                   August                2480\n",
       "                   December              1654\n",
       "                   July                  1398\n",
       "                   November              1235\n",
       "2016               October               4219\n",
       "                   June                  3923\n",
       "                   September             3871\n",
       "                   May                   3676\n",
       "                   April                 3561\n",
       "                   August                3378\n",
       "                   July                  3131\n",
       "                   November              3122\n",
       "                   March                 3046\n",
       "                   December              2478\n",
       "                   February              2371\n",
       "                   January               1364\n",
       "2017               May                   4556\n",
       "                   June                  3971\n",
       "                   April                 3919\n",
       "                   July                  3559\n",
       "                   March                 3412\n",
       "                   August                3125\n",
       "                   February              2594\n",
       "                   January               2372\n",
       "Name: arrival_date_month, dtype: int64"
      ]
     },
     "execution_count": 13,
     "metadata": {},
     "output_type": "execute_result"
    }
   ],
   "source": [
    "# шаг 10\n",
    "(bookings\n",
    "    .query('is_canceled == 1' and \"hotel == 'City Hotel'\")\n",
    "    .groupby('arrival_date_year')\n",
    "    .arrival_date_month.value_counts())"
   ]
  },
  {
   "cell_type": "code",
   "execution_count": 14,
   "metadata": {},
   "outputs": [
    {
     "data": {
      "text/html": [
       "<div>\n",
       "<style scoped>\n",
       "    .dataframe tbody tr th:only-of-type {\n",
       "        vertical-align: middle;\n",
       "    }\n",
       "\n",
       "    .dataframe tbody tr th {\n",
       "        vertical-align: top;\n",
       "    }\n",
       "\n",
       "    .dataframe thead th {\n",
       "        text-align: right;\n",
       "    }\n",
       "</style>\n",
       "<table border=\"1\" class=\"dataframe\">\n",
       "  <thead>\n",
       "    <tr style=\"text-align: right;\">\n",
       "      <th></th>\n",
       "      <th>is_canceled</th>\n",
       "      <th>lead_time</th>\n",
       "      <th>arrival_date_year</th>\n",
       "      <th>arrival_date_week_number</th>\n",
       "      <th>arrival_date_day_of_month</th>\n",
       "      <th>stays_in_weekend_nights</th>\n",
       "      <th>stays_in_week_nights</th>\n",
       "      <th>stays_total_nights</th>\n",
       "      <th>adults</th>\n",
       "      <th>children</th>\n",
       "      <th>babies</th>\n",
       "    </tr>\n",
       "  </thead>\n",
       "  <tbody>\n",
       "    <tr>\n",
       "      <th>count</th>\n",
       "      <td>119390.000000</td>\n",
       "      <td>119390.000000</td>\n",
       "      <td>119390.000000</td>\n",
       "      <td>119390.000000</td>\n",
       "      <td>119390.000000</td>\n",
       "      <td>119390.000000</td>\n",
       "      <td>119390.000000</td>\n",
       "      <td>119390.000000</td>\n",
       "      <td>119390.000000</td>\n",
       "      <td>119386.000000</td>\n",
       "      <td>119390.000000</td>\n",
       "    </tr>\n",
       "    <tr>\n",
       "      <th>mean</th>\n",
       "      <td>0.370416</td>\n",
       "      <td>104.011416</td>\n",
       "      <td>2016.156554</td>\n",
       "      <td>27.165173</td>\n",
       "      <td>15.798241</td>\n",
       "      <td>0.927599</td>\n",
       "      <td>2.500302</td>\n",
       "      <td>3.427900</td>\n",
       "      <td>1.856403</td>\n",
       "      <td>0.103890</td>\n",
       "      <td>0.007949</td>\n",
       "    </tr>\n",
       "    <tr>\n",
       "      <th>std</th>\n",
       "      <td>0.482918</td>\n",
       "      <td>106.863097</td>\n",
       "      <td>0.707476</td>\n",
       "      <td>13.605138</td>\n",
       "      <td>8.780829</td>\n",
       "      <td>0.998613</td>\n",
       "      <td>1.908286</td>\n",
       "      <td>2.557439</td>\n",
       "      <td>0.579261</td>\n",
       "      <td>0.398561</td>\n",
       "      <td>0.097436</td>\n",
       "    </tr>\n",
       "    <tr>\n",
       "      <th>min</th>\n",
       "      <td>0.000000</td>\n",
       "      <td>0.000000</td>\n",
       "      <td>2015.000000</td>\n",
       "      <td>1.000000</td>\n",
       "      <td>1.000000</td>\n",
       "      <td>0.000000</td>\n",
       "      <td>0.000000</td>\n",
       "      <td>0.000000</td>\n",
       "      <td>0.000000</td>\n",
       "      <td>0.000000</td>\n",
       "      <td>0.000000</td>\n",
       "    </tr>\n",
       "    <tr>\n",
       "      <th>25%</th>\n",
       "      <td>0.000000</td>\n",
       "      <td>18.000000</td>\n",
       "      <td>2016.000000</td>\n",
       "      <td>16.000000</td>\n",
       "      <td>8.000000</td>\n",
       "      <td>0.000000</td>\n",
       "      <td>1.000000</td>\n",
       "      <td>2.000000</td>\n",
       "      <td>2.000000</td>\n",
       "      <td>0.000000</td>\n",
       "      <td>0.000000</td>\n",
       "    </tr>\n",
       "    <tr>\n",
       "      <th>50%</th>\n",
       "      <td>0.000000</td>\n",
       "      <td>69.000000</td>\n",
       "      <td>2016.000000</td>\n",
       "      <td>28.000000</td>\n",
       "      <td>16.000000</td>\n",
       "      <td>1.000000</td>\n",
       "      <td>2.000000</td>\n",
       "      <td>3.000000</td>\n",
       "      <td>2.000000</td>\n",
       "      <td>0.000000</td>\n",
       "      <td>0.000000</td>\n",
       "    </tr>\n",
       "    <tr>\n",
       "      <th>75%</th>\n",
       "      <td>1.000000</td>\n",
       "      <td>160.000000</td>\n",
       "      <td>2017.000000</td>\n",
       "      <td>38.000000</td>\n",
       "      <td>23.000000</td>\n",
       "      <td>2.000000</td>\n",
       "      <td>3.000000</td>\n",
       "      <td>4.000000</td>\n",
       "      <td>2.000000</td>\n",
       "      <td>0.000000</td>\n",
       "      <td>0.000000</td>\n",
       "    </tr>\n",
       "    <tr>\n",
       "      <th>max</th>\n",
       "      <td>1.000000</td>\n",
       "      <td>737.000000</td>\n",
       "      <td>2017.000000</td>\n",
       "      <td>53.000000</td>\n",
       "      <td>31.000000</td>\n",
       "      <td>19.000000</td>\n",
       "      <td>50.000000</td>\n",
       "      <td>69.000000</td>\n",
       "      <td>55.000000</td>\n",
       "      <td>10.000000</td>\n",
       "      <td>10.000000</td>\n",
       "    </tr>\n",
       "  </tbody>\n",
       "</table>\n",
       "</div>"
      ],
      "text/plain": [
       "         is_canceled      lead_time  arrival_date_year  \\\n",
       "count  119390.000000  119390.000000      119390.000000   \n",
       "mean        0.370416     104.011416        2016.156554   \n",
       "std         0.482918     106.863097           0.707476   \n",
       "min         0.000000       0.000000        2015.000000   \n",
       "25%         0.000000      18.000000        2016.000000   \n",
       "50%         0.000000      69.000000        2016.000000   \n",
       "75%         1.000000     160.000000        2017.000000   \n",
       "max         1.000000     737.000000        2017.000000   \n",
       "\n",
       "       arrival_date_week_number  arrival_date_day_of_month  \\\n",
       "count             119390.000000              119390.000000   \n",
       "mean                  27.165173                  15.798241   \n",
       "std                   13.605138                   8.780829   \n",
       "min                    1.000000                   1.000000   \n",
       "25%                   16.000000                   8.000000   \n",
       "50%                   28.000000                  16.000000   \n",
       "75%                   38.000000                  23.000000   \n",
       "max                   53.000000                  31.000000   \n",
       "\n",
       "       stays_in_weekend_nights  stays_in_week_nights  stays_total_nights  \\\n",
       "count            119390.000000         119390.000000       119390.000000   \n",
       "mean                  0.927599              2.500302            3.427900   \n",
       "std                   0.998613              1.908286            2.557439   \n",
       "min                   0.000000              0.000000            0.000000   \n",
       "25%                   0.000000              1.000000            2.000000   \n",
       "50%                   1.000000              2.000000            3.000000   \n",
       "75%                   2.000000              3.000000            4.000000   \n",
       "max                  19.000000             50.000000           69.000000   \n",
       "\n",
       "              adults       children         babies  \n",
       "count  119390.000000  119386.000000  119390.000000  \n",
       "mean        1.856403       0.103890       0.007949  \n",
       "std         0.579261       0.398561       0.097436  \n",
       "min         0.000000       0.000000       0.000000  \n",
       "25%         2.000000       0.000000       0.000000  \n",
       "50%         2.000000       0.000000       0.000000  \n",
       "75%         2.000000       0.000000       0.000000  \n",
       "max        55.000000      10.000000      10.000000  "
      ]
     },
     "execution_count": 14,
     "metadata": {},
     "output_type": "execute_result"
    }
   ],
   "source": [
    "# шаг 11\n",
    "bookings.describe()"
   ]
  },
  {
   "cell_type": "code",
   "execution_count": 19,
   "metadata": {},
   "outputs": [
    {
     "data": {
      "text/html": [
       "<div>\n",
       "<style scoped>\n",
       "    .dataframe tbody tr th:only-of-type {\n",
       "        vertical-align: middle;\n",
       "    }\n",
       "\n",
       "    .dataframe tbody tr th {\n",
       "        vertical-align: top;\n",
       "    }\n",
       "\n",
       "    .dataframe thead th {\n",
       "        text-align: right;\n",
       "    }\n",
       "</style>\n",
       "<table border=\"1\" class=\"dataframe\">\n",
       "  <thead>\n",
       "    <tr style=\"text-align: right;\">\n",
       "      <th></th>\n",
       "      <th>total_kids</th>\n",
       "    </tr>\n",
       "    <tr>\n",
       "      <th>hotel</th>\n",
       "      <th></th>\n",
       "    </tr>\n",
       "  </thead>\n",
       "  <tbody>\n",
       "    <tr>\n",
       "      <th>City Hotel</th>\n",
       "      <td>0.10</td>\n",
       "    </tr>\n",
       "    <tr>\n",
       "      <th>Resort Hotel</th>\n",
       "      <td>0.14</td>\n",
       "    </tr>\n",
       "  </tbody>\n",
       "</table>\n",
       "</div>"
      ],
      "text/plain": [
       "              total_kids\n",
       "hotel                   \n",
       "City Hotel          0.10\n",
       "Resort Hotel        0.14"
      ]
     },
     "execution_count": 19,
     "metadata": {},
     "output_type": "execute_result"
    }
   ],
   "source": [
    "# шаг 12\n",
    "bookings['total_kids'] = bookings.children + bookings.babies\n",
    "bookings.groupby('hotel').agg({'total_kids': 'mean'}).round(2)"
   ]
  },
  {
   "cell_type": "code",
   "execution_count": 47,
   "metadata": {},
   "outputs": [
    {
     "data": {
      "text/plain": [
       "34.92"
      ]
     },
     "execution_count": 47,
     "metadata": {},
     "output_type": "execute_result"
    }
   ],
   "source": [
    "# шаг 13\n",
    "bookings['has_kids'] = bookings.total_kids > 0\n",
    "kids_churn = bookings.query('is_canceled == 1 and has_kids == True').shape[0] / bookings.query('has_kids == True').shape[0]\n",
    "round(kids_churn * 100, 2)"
   ]
  },
  {
   "cell_type": "code",
   "execution_count": 48,
   "metadata": {},
   "outputs": [
    {
     "data": {
      "text/plain": [
       "37.22"
      ]
     },
     "execution_count": 48,
     "metadata": {},
     "output_type": "execute_result"
    }
   ],
   "source": [
    "# шаг 13 продолжение\n",
    "no_kids_churn = bookings.query('is_canceled == 1 and has_kids == False').shape[0] / bookings.query('has_kids == False').shape[0]\n",
    "round(no_kids_churn * 100, 2)"
   ]
  }
 ],
 "metadata": {
  "kernelspec": {
   "display_name": "Python 3",
   "language": "python",
   "name": "python3"
  },
  "language_info": {
   "codemirror_mode": {
    "name": "ipython",
    "version": 3
   },
   "file_extension": ".py",
   "mimetype": "text/x-python",
   "name": "python",
   "nbconvert_exporter": "python",
   "pygments_lexer": "ipython3",
   "version": "3.7.3"
  }
 },
 "nbformat": 4,
 "nbformat_minor": 4
}
